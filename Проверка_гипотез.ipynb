{
  "cells": [
    {
      "cell_type": "markdown",
      "metadata": {
        "id": "view-in-github",
        "colab_type": "text"
      },
      "source": [
        "<a href=\"https://colab.research.google.com/github/krissivolga29-commits/analytics_big_data/blob/main/%D0%9F%D1%80%D0%BE%D0%B2%D0%B5%D1%80%D0%BA%D0%B0_%D0%B3%D0%B8%D0%BF%D0%BE%D1%82%D0%B5%D0%B7.ipynb\" target=\"_parent\"><img src=\"https://colab.research.google.com/assets/colab-badge.svg\" alt=\"Open In Colab\"/></a>"
      ]
    },
    {
      "cell_type": "markdown",
      "metadata": {
        "id": "FOsgMF44GZv8"
      },
      "source": [
        "<div class=\"alert alert-info\">\n",
        "<b>Задание № 1</b>\n",
        "    \n",
        "Разработайте функцию для проверки нормальности распределения выборки данных, используя шаблон ниже. Вы можете использовать один из известных Вам статистических тестов.\n",
        "</div>"
      ]
    },
    {
      "cell_type": "code",
      "source": [
        "import numpy as np\n",
        "import pandas as pd\n",
        "import scipy.stats as st\n",
        "import seaborn as sns\n",
        "import datetime\n",
        "import matplotlib.pyplot as plt\n",
        "import plotly.graph_objects as go\n",
        "import plotly.express as px\n",
        "import plotly.io as pio\n",
        "from statsmodels.formula.api import ols"
      ],
      "metadata": {
        "id": "yvKBjVOv4-ZV"
      },
      "execution_count": null,
      "outputs": []
    },
    {
      "cell_type": "code",
      "execution_count": null,
      "metadata": {
        "id": "M2tSYeV9GZv9",
        "colab": {
          "base_uri": "https://localhost:8080/",
          "height": 103
        },
        "outputId": "6fda5f11-68bf-4dfd-ec09-ef46b17455f1"
      },
      "outputs": [
        {
          "output_type": "execute_result",
          "data": {
            "text/plain": [
              "<function __main__.check_normality(data)>"
            ],
            "text/html": [
              "<div style=\"max-width:800px; border: 1px solid var(--colab-border-color);\"><style>\n",
              "      pre.function-repr-contents {\n",
              "        overflow-x: auto;\n",
              "        padding: 8px 12px;\n",
              "        max-height: 500px;\n",
              "      }\n",
              "\n",
              "      pre.function-repr-contents.function-repr-contents-collapsed {\n",
              "        cursor: pointer;\n",
              "        max-height: 100px;\n",
              "      }\n",
              "    </style>\n",
              "    <pre style=\"white-space: initial; background:\n",
              "         var(--colab-secondary-surface-color); padding: 8px 12px;\n",
              "         border-bottom: 1px solid var(--colab-border-color);\"><b>check_normality</b><br/>def check_normality(data)</pre><pre class=\"function-repr-contents function-repr-contents-collapsed\" style=\"\"><a class=\"filepath\" style=\"display:none\" href=\"#\">/content/&lt;ipython-input-4-32ba52424859&gt;</a>&lt;no docstring&gt;</pre></div>"
            ]
          },
          "metadata": {},
          "execution_count": 4
        }
      ],
      "source": [
        "def check_normality(data):\n",
        "    #\n",
        "    stat, p = st.shapiro(data)\n",
        "    print(f'stat = {stat:.3f}, p = {p:.5f}')\n",
        "    if p >0.05:\n",
        "        print(\"Отклоняем нулевую гипотезу >> Данные распределены не нормально\")\n",
        "    else:\n",
        "        print(\"Не отклоняем нулевую гипотезу >> Данные распределены нормально\")\n",
        "check_normality"
      ]
    },
    {
      "cell_type": "markdown",
      "metadata": {
        "id": "AseiCYEmGZv-"
      },
      "source": [
        "<div class=\"alert alert-info\">\n",
        "<b>Задание № 2</b>\n",
        "\n",
        "Даны две выборки роста мужчин и женщин.\n",
        "- Докажите, используя `t-Тест Стьдента`, что различие между выборками незначительно, если уровень значимости равен $\\alpha$ `= 0.001`.\n",
        "- Покажите различия визуально\n",
        "- Является ли результат полезным с практической точки зрения? Почему да или нет?\n",
        "</div>"
      ]
    },
    {
      "cell_type": "code",
      "source": [
        "np.random.seed(42) #фиксация случайности\n",
        "\n",
        "# Генерируем случайное множество с нормальным распределением, где среднее = loc, а стандартное отклонение = scale\n",
        "mens  = st.norm.rvs(loc=171, scale=10, size=150000)  # Выборка мужчин со средним ростом 171\n",
        "womens = st.norm.rvs(loc=170, scale=10, size=150000)  # Выборка женщин со средним ростом 170\n",
        "\n",
        "stat, p = st.ttest_ind(mens, womens)\n",
        "\n",
        "print(f\"Статистика = {stat:.5f}, p = {p:.5f}\")\n",
        "\n",
        "if p > 0.001:\n",
        "    print('Не отклоняем нулевую гипотезу, средние, вероятно, одинаковые')\n",
        "else:\n",
        "    print('Отклоняем нулевую гипотезу, средние, вероятно, различаются')"
      ],
      "metadata": {
        "colab": {
          "base_uri": "https://localhost:8080/"
        },
        "id": "1T1fK8q-JANI",
        "outputId": "81246dd9-1ec4-41f0-8572-7c11e1f8e4d0"
      },
      "execution_count": null,
      "outputs": [
        {
          "output_type": "stream",
          "name": "stdout",
          "text": [
            "Статистика = 28.31364, p = 0.00000\n",
            "Отклоняем нулевую гипотезу, средние, вероятно, различаются\n"
          ]
        }
      ]
    },
    {
      "cell_type": "code",
      "source": [
        "plt.hist(mens, label=\"Мужчины\", bins=25); #Выборка по мужчинам\n",
        "plt.hist(womens, label=\"Женщины\", bins=25);  #Выборка по женщинам\n",
        "plt.legend()\n",
        "plt.show()"
      ],
      "metadata": {
        "colab": {
          "base_uri": "https://localhost:8080/",
          "height": 430
        },
        "id": "19sVxErEJxMk",
        "outputId": "7f19c8dc-83e2-470b-bbfe-8e50f28a96ce"
      },
      "execution_count": null,
      "outputs": [
        {
          "output_type": "display_data",
          "data": {
            "text/plain": [
              "<Figure size 640x480 with 1 Axes>"
            ],
            "image/png": "[encoded data removed]"
          },
          "metadata": {}
        }
      ]
    },
    {
      "cell_type": "code",
      "source": [
        "plt.boxplot(mens);\n",
        "plt.boxplot(womens);"
      ],
      "metadata": {
        "colab": {
          "base_uri": "https://localhost:8080/",
          "height": 431
        },
        "id": "09XZew5lKDU1",
        "outputId": "4ec21e98-e54c-4706-8d93-c02d80746818"
      },
      "execution_count": null,
      "outputs": [
        {
          "output_type": "display_data",
          "data": {
            "text/plain": [
              "<Figure size 640x480 with 1 Axes>"
            ],
            "image/png": "[encoded data removed]"
          },
          "metadata": {}
        }
      ]
    },
    {
      "cell_type": "markdown",
      "source": [
        "**Вывод:** В виду большого объема выборки (150000) тест становится гиперчувствительным и крайне малая с практической точки зрения разница становится статистически значимой. Можно сделать вывод, что для большого объема выборки уровень значимости a=0,001 слишком мал. Результат является не полезным с практической точки зрения, и может ввести в заблуждение. Согласно графиков среднее значение отличается, но не намного."
      ],
      "metadata": {
        "id": "I0yFvYpCLtmM"
      }
    },
    {
      "cell_type": "code",
      "source": [
        "# Если мы поменяем размер выборки предположим на 150, что изменится?\n",
        "np.random.seed(42) #фиксация случайности\n",
        "\n",
        "# Генерируем случайное множество с нормальным распределением, где среднее = loc, а стандартное отклонение = scale\n",
        "mens  = st.norm.rvs(loc=171, scale=10, size=150)  # Выборка мужчин со средним ростом 171\n",
        "womens = st.norm.rvs(loc=170, scale=10, size=150)  # Выборка женщин со средним ростом 170\n",
        "\n",
        "stat, p = st.ttest_ind(mens, womens)\n",
        "\n",
        "print(f\"Статистика = {stat:.5f}, p = {p:.5f}\")\n",
        "\n",
        "if p > 0.001:\n",
        "    print('Не отклоняем нулевую гипотезу, средние, вероятно, одинаковые')\n",
        "else:\n",
        "    print('Отклоняем нулевую гипотезу, средние, вероятно, различаются')"
      ],
      "metadata": {
        "colab": {
          "base_uri": "https://localhost:8080/"
        },
        "id": "9qWoeYWXLs78",
        "outputId": "f46eded7-8f0e-4821-bb4b-32286d93221a"
      },
      "execution_count": null,
      "outputs": [
        {
          "output_type": "stream",
          "name": "stdout",
          "text": [
            "Статистика = -0.47192, p = 0.63733\n",
            "Не отклоняем нулевую гипотезу, средние, вероятно, одинаковые\n"
          ]
        }
      ]
    },
    {
      "cell_type": "markdown",
      "source": [
        "Для маленькой выборки с заданным уровнем значимости a=0.001 средние, вероятно, одинаковы."
      ],
      "metadata": {
        "id": "w2__lsugNaTp"
      }
    },
    {
      "cell_type": "markdown",
      "metadata": {
        "id": "pJYWS2hsGZwA"
      },
      "source": [
        "<div class=\"alert alert-info\">\n",
        "<b>Задание № 3</b>\n",
        "\n",
        "Специалист по кадрам, работающий в технологической компании, интересуется сверхурочным временем разных команд. Чтобы выяснить, есть ли разница между сверхурочной работой команды разработчиков программного обеспечения и группы тестирования, она случайным образом выбрала 17 сотрудников в каждой из двух команд и записала их среднее сверхурочное время за неделю в пересчете на час. Данные ниже.\n",
        "\n",
        "В соответствии с этой информацией проведите проверку гипотезы, чтобы проверить, есть ли разница между переутомлением двух команд, используя уровень значимости 0,05. Прежде чем приступать к проверке гипотез, проверьте предположение нормальности.\n",
        "</div>"
      ]
    },
    {
      "cell_type": "code",
      "execution_count": null,
      "metadata": {
        "id": "4z72q2FzGZwA"
      },
      "outputs": [],
      "source": [
        "test_team = [6.2, 7.1, 1.5, 2,3 , 2, 1.5, 6.1, 2.4, 2.3, 12.4, 1.8, 5.3, 3.1, 9.4, 2.3, 4.1]\n",
        "developer_team = [2.3, 2.1, 1.4, 2.0, 8.7, 2.2, 3.1, 4.2, 3.6, 2.5, 3.1, 6.2, 12.1, 3.9, 2.2, 1.2 ,3.4]"
      ]
    },
    {
      "cell_type": "code",
      "execution_count": null,
      "metadata": {
        "colab": {
          "base_uri": "https://localhost:8080/",
          "height": 430
        },
        "id": "wTNYHPz2ApF9",
        "outputId": "9b0fa4e3-c1d1-4af6-945f-be07f4e90c43"
      },
      "outputs": [
        {
          "output_type": "display_data",
          "data": {
            "text/plain": [
              "<Figure size 640x480 with 1 Axes>"
            ],
            "image/png": "[encoded data removed]"
          },
          "metadata": {}
        }
      ],
      "source": [
        "# Определимся с распределением данных\n",
        "sns.kdeplot(test_team, label=\"Группа тестирования\", fill = True, color = '#000000')\n",
        "sns.kdeplot(developer_team, label=\"Команда разработчиков\", fill = True, color = '#B22222')\n",
        "plt.legend()\n",
        "plt.show()"
      ]
    },
    {
      "cell_type": "code",
      "source": [
        "stat, p = st.shapiro(test_team)\n",
        "\n",
        "print(f'stat = {stat:.3f}, p = {p:.5f}')\n",
        "if p > 0.05:\n",
        "    print('Вероятно нормальное распределение')\n",
        "else:\n",
        "    print('Вероятно не нормальное распределение')"
      ],
      "metadata": {
        "colab": {
          "base_uri": "https://localhost:8080/"
        },
        "id": "HwMugeDNQWym",
        "outputId": "571055dc-c0f7-4106-eaa1-e6b5e00fe4fd"
      },
      "execution_count": null,
      "outputs": [
        {
          "output_type": "stream",
          "name": "stdout",
          "text": [
            "stat = 0.825, p = 0.00462\n",
            "Вероятно не нормальное распределение\n"
          ]
        }
      ]
    },
    {
      "cell_type": "code",
      "source": [
        "stat, p = st.shapiro(developer_team)\n",
        "\n",
        "print(f'stat = {stat:.3f}, p = {p:.5f}')\n",
        "if p > 0.05:\n",
        "    print('Вероятно нормальное распределение')\n",
        "else:\n",
        "    print('Вероятно не нормальное распределение')"
      ],
      "metadata": {
        "colab": {
          "base_uri": "https://localhost:8080/"
        },
        "id": "FYML0L3DQiuj",
        "outputId": "31dd2717-93a1-4a84-c9ba-9bbe77c0d7ca"
      },
      "execution_count": null,
      "outputs": [
        {
          "output_type": "stream",
          "name": "stdout",
          "text": [
            "stat = 0.753, p = 0.00049\n",
            "Вероятно не нормальное распределение\n"
          ]
        }
      ]
    },
    {
      "cell_type": "markdown",
      "source": [
        "Распределение ненормальное, поэтому будем использовать критерий Манна-Уитни"
      ],
      "metadata": {
        "id": "eMF6NnDEQwN4"
      }
    },
    {
      "cell_type": "code",
      "source": [
        "stat, p = st.mannwhitneyu(test_team, developer_team)\n",
        "\n",
        "print(f\"Статистика = {stat:.5f}, p = {p:.5f}\")\n",
        "\n",
        "if p > 0.05:\n",
        "    print('Не отклоняем нулевую гипотезу, распределения, вероятно, одинаковые')\n",
        "else:\n",
        "    print('Отклоняем нулевую гипотезу, распределения, вероятно, различаются')"
      ],
      "metadata": {
        "colab": {
          "base_uri": "https://localhost:8080/"
        },
        "id": "6t1rQRYdQzjP",
        "outputId": "76c1c5ea-2503-4eb6-a326-e20b98748977"
      },
      "execution_count": null,
      "outputs": [
        {
          "output_type": "stream",
          "name": "stdout",
          "text": [
            "Статистика = 151.50000, p = 0.82265\n",
            "Не отклоняем нулевую гипотезу, распределения, вероятно, одинаковые\n"
          ]
        }
      ]
    },
    {
      "cell_type": "markdown",
      "source": [
        "**Вывод.** Тест не показал наличие статистически значимой разницы в средней  сверхурочной работе - при текущих данных мы не можем утверждать, что есть разница между переутомлением двух команд."
      ],
      "metadata": {
        "id": "Sm9LKINVREzj"
      }
    },
    {
      "cell_type": "markdown",
      "source": [
        "А что если использовать тест Стъюдента, ведь распределения данных близк к нормальным. Для этого необходимо вначале проверить равенство вариаций."
      ],
      "metadata": {
        "id": "pW05O6QESVPX"
      }
    },
    {
      "cell_type": "code",
      "source": [
        "stat, p = st.levene(test_team, developer_team)\n",
        "\n",
        "print(f\"Статистика = {stat:.5f}, p = {p:.5f}\")\n",
        "\n",
        "if p > 0.05:\n",
        "    print(\"Не отклоняем нулевую гипотезу >> Вариация в группах одинаковая\")\n",
        "else:\n",
        "    print(\"Отклоняем нулевую гипотезу >> Вариация в группах различается\")"
      ],
      "metadata": {
        "colab": {
          "base_uri": "https://localhost:8080/"
        },
        "id": "8C-qvwbbSV37",
        "outputId": "96f4fc4b-1cd9-46f9-be56-8c0d6f4c9673"
      },
      "execution_count": null,
      "outputs": [
        {
          "output_type": "stream",
          "name": "stdout",
          "text": [
            "Статистика = 0.38191, p = 0.54096\n",
            "Не отклоняем нулевую гипотезу >> Вариация в группах одинаковая\n"
          ]
        }
      ]
    },
    {
      "cell_type": "code",
      "source": [
        "stat, p = st.ttest_ind(test_team, developer_team)\n",
        "\n",
        "print(f\"Статистика = {stat:.5f}, p = {p:.5f}\")\n",
        "\n",
        "if p > 0.05:\n",
        "    print('Не отклоняем нулевую гипотезу, распределения, вероятно, одинаковые')\n",
        "else:\n",
        "    print('Отклоняем нулевую гипотезу, распределения, вероятно, различаются')"
      ],
      "metadata": {
        "colab": {
          "base_uri": "https://localhost:8080/"
        },
        "id": "G3tBIC9sSbgw",
        "outputId": "126ad492-0838-4036-d132-88bab213e6a0"
      },
      "execution_count": null,
      "outputs": [
        {
          "output_type": "stream",
          "name": "stdout",
          "text": [
            "Статистика = 0.47925, p = 0.63502\n",
            "Не отклоняем нулевую гипотезу, распределения, вероятно, одинаковые\n"
          ]
        }
      ]
    },
    {
      "cell_type": "markdown",
      "source": [
        "**Вывод то же.**Тест не показал наличие статистически значимой разницы в средней сверхурочной работе - при текущих данных мы не можем утверждать, что есть разница между переутомлением двух команд."
      ],
      "metadata": {
        "id": "pejJsVeATBmn"
      }
    },
    {
      "cell_type": "markdown",
      "metadata": {
        "id": "tUZelZD5GZwB"
      },
      "source": [
        "<div class=\"alert alert-info\">\n",
        "<b>Задание № 4</b>\n",
        "\n",
        "Педиатр хочет увидеть влияние потребления смеси на среднемесячную прибавку в весе у новорожденных. По этой причине она собрала данные из трех разных групп. Первая группа – дети исключительно грудного вскармливания, вторая группа – дети, которых кормят только смесью, и последняя группа – это дети, находящиеся на искусственном вскармливании и на грудном вскармливании. Эти данные приведены ниже.\n",
        "\n",
        "В соответствии с этой информацией проведите проверку гипотезы, чтобы проверить, есть ли разница между среднемесячным приростом этих трех групп, используя уровень значимости 0,05. Если есть значительная разница, выполните дальнейший анализ, чтобы найти причину разницы.\n",
        "</div>"
      ]
    },
    {
      "cell_type": "code",
      "execution_count": null,
      "metadata": {
        "id": "WYRMd6LnGZwB"
      },
      "outputs": [],
      "source": [
        "only_breast = [794.1, 716.9, 993. , 724.7, 760.9, 908.2, 659.3 , 690.8, 768.7, 717.3 , 630.7, 729.5, 714.1, 810.3, 583.5, 679.9, 865.1];\n",
        "only_formula = [898.8, 881.2, 940.2, 966.2, 957.5, 1061.7, 1046.2, 980.4, 895.6, 919.7, 1074.1, 952.5, 796.3, 859.6, 871.1 , 1047.5, 919.1 , 1160.5, 996.9];\n",
        "both = [976.4, 656.4, 861.2, 706.8, 718.5, 717.1, 759.8, 894.6, 867.6, 805.6, 765.4, 800.3, 789.9, 875.3, 740. , 799.4, 790.3, 795.2 , 823.6, 818.7, 926.8, 791.7, 948.3];"
      ]
    },
    {
      "cell_type": "code",
      "execution_count": null,
      "metadata": {
        "colab": {
          "base_uri": "https://localhost:8080/",
          "height": 432
        },
        "id": "f4Dl6ROjApF9",
        "outputId": "080506a6-5193-477f-8994-cb9c17381ca3"
      },
      "outputs": [
        {
          "output_type": "display_data",
          "data": {
            "text/plain": [
              "<Figure size 640x480 with 1 Axes>"
            ],
            "image/png": "[encoded data removed]"
          },
          "metadata": {}
        }
      ],
      "source": [
        "# Определимся с распределением данных\n",
        "sns.kdeplot(only_breast, label=\"Дети на ГВ\", fill = True, color = '#000000')\n",
        "sns.kdeplot(only_formula, label=\"Дети на ИВ\", fill = True, color = '#B22222')\n",
        "sns.kdeplot(both, label=\"Дети на ГВ и ИВ\", fill = True, color = '#d46400')\n",
        "plt.legend()\n",
        "plt.show()"
      ]
    },
    {
      "cell_type": "code",
      "source": [
        "stat, p = st.shapiro(only_breast)\n",
        "\n",
        "print(f'stat = {stat:.3f}, p = {p:.5f}')\n",
        "if p > 0.05:\n",
        "    print('Вероятно нормальное распределение')\n",
        "else:\n",
        "    print('Вероятно не нормальное распределение')"
      ],
      "metadata": {
        "colab": {
          "base_uri": "https://localhost:8080/"
        },
        "id": "Q3C3XW07T_zb",
        "outputId": "a35bdfa7-22cb-4cbf-beb6-fdca2f1f8673"
      },
      "execution_count": null,
      "outputs": [
        {
          "output_type": "stream",
          "name": "stdout",
          "text": [
            "stat = 0.951, p = 0.46942\n",
            "Вероятно нормальное распределение\n"
          ]
        }
      ]
    },
    {
      "cell_type": "code",
      "source": [
        "res1 = st.probplot(only_breast, plot=plt)"
      ],
      "metadata": {
        "colab": {
          "base_uri": "https://localhost:8080/",
          "height": 472
        },
        "id": "ZH64amGFWDgS",
        "outputId": "24a3dfc3-cd01-4be2-99b0-e3cb0577e450"
      },
      "execution_count": null,
      "outputs": [
        {
          "output_type": "display_data",
          "data": {
            "text/plain": [
              "<Figure size 640x480 with 1 Axes>"
            ],
            "image/png": "[encoded data removed]"
          },
          "metadata": {}
        }
      ]
    },
    {
      "cell_type": "code",
      "source": [
        "stat, p = st.shapiro(only_formula)\n",
        "\n",
        "print(f'stat = {stat:.3f}, p = {p:.5f}')\n",
        "if p > 0.05:\n",
        "    print('Вероятно нормальное распределение')\n",
        "else:\n",
        "    print('Вероятно не нормальное распределение')"
      ],
      "metadata": {
        "colab": {
          "base_uri": "https://localhost:8080/"
        },
        "id": "CZqT7C63UIc0",
        "outputId": "acd78340-c435-4d7c-f3dd-232048ee6375"
      },
      "execution_count": null,
      "outputs": [
        {
          "output_type": "stream",
          "name": "stdout",
          "text": [
            "stat = 0.976, p = 0.88790\n",
            "Вероятно нормальное распределение\n"
          ]
        }
      ]
    },
    {
      "cell_type": "code",
      "source": [
        "res2 = st.probplot(only_formula, plot=plt)"
      ],
      "metadata": {
        "colab": {
          "base_uri": "https://localhost:8080/",
          "height": 472
        },
        "id": "gQrkbmdqWIu_",
        "outputId": "59f22527-d540-42df-b3a5-384a42a1638e"
      },
      "execution_count": null,
      "outputs": [
        {
          "output_type": "display_data",
          "data": {
            "text/plain": [
              "<Figure size 640x480 with 1 Axes>"
            ],
            "image/png": "[encoded data removed]"
          },
          "metadata": {}
        }
      ]
    },
    {
      "cell_type": "code",
      "source": [
        "stat, p = st.shapiro(both)\n",
        "\n",
        "print(f'stat = {stat:.3f}, p = {p:.5f}')\n",
        "if p > 0.05:\n",
        "    print('Вероятно нормальное распределение')\n",
        "else:\n",
        "    print('Вероятно не нормальное распределение')"
      ],
      "metadata": {
        "colab": {
          "base_uri": "https://localhost:8080/"
        },
        "id": "YZKeGmkIUONi",
        "outputId": "a9c09264-125d-44c7-ef1f-6abf3a43961d"
      },
      "execution_count": null,
      "outputs": [
        {
          "output_type": "stream",
          "name": "stdout",
          "text": [
            "stat = 0.975, p = 0.79730\n",
            "Вероятно нормальное распределение\n"
          ]
        }
      ]
    },
    {
      "cell_type": "code",
      "source": [
        "res3 = st.probplot(both, plot=plt)"
      ],
      "metadata": {
        "colab": {
          "base_uri": "https://localhost:8080/",
          "height": 472
        },
        "id": "xbpQUmVxWQnD",
        "outputId": "8c6d8ee4-141c-4d47-994b-7b6d599af9a3"
      },
      "execution_count": null,
      "outputs": [
        {
          "output_type": "display_data",
          "data": {
            "text/plain": [
              "<Figure size 640x480 with 1 Axes>"
            ],
            "image/png": "[encoded data removed]"
          },
          "metadata": {}
        }
      ]
    },
    {
      "cell_type": "markdown",
      "source": [
        "Распределение нормальное, будем использовать тест Стъюдента. Для этого сначала проверим равенство вариаций."
      ],
      "metadata": {
        "id": "9gcEGK5OUduh"
      }
    },
    {
      "cell_type": "code",
      "source": [
        "stat, p = st.levene(only_breast, only_formula, both)\n",
        "\n",
        "print(f\"Статистика = {stat:.5f}, p = {p:.5f}\")\n",
        "\n",
        "if p > 0.05:\n",
        "    print(\"Не отклоняем нулевую гипотезу >> Вариация в группах одинаковая\")\n",
        "else:\n",
        "    print(\"Отклоняем нулевую гипотезу >> Вариация в группах различается\")"
      ],
      "metadata": {
        "colab": {
          "base_uri": "https://localhost:8080/"
        },
        "id": "7Cmv-ULXUuLW",
        "outputId": "f057c7b6-cf96-4690-cc2a-d5416e65db04"
      },
      "execution_count": null,
      "outputs": [
        {
          "output_type": "stream",
          "name": "stdout",
          "text": [
            "Статистика = 0.26612, p = 0.76731\n",
            "Не отклоняем нулевую гипотезу >> Вариация в группах одинаковая\n"
          ]
        }
      ]
    },
    {
      "cell_type": "code",
      "source": [
        "stat, p = st.ttest_ind(only_breast, only_formula)\n",
        "\n",
        "print(f\"Статистика = {stat:.5f}, p = {p:.5f}\")\n",
        "\n",
        "if p > 0.05:\n",
        "    print('Не отклоняем нулевую гипотезу, распределения, вероятно, одинаковые')\n",
        "else:\n",
        "    print('Отклоняем нулевую гипотезу, распределения, вероятно, различаются')"
      ],
      "metadata": {
        "colab": {
          "base_uri": "https://localhost:8080/"
        },
        "id": "aFhX2YDcVOH5",
        "outputId": "bff6358a-c008-4968-eb4d-dfd5fda9084d"
      },
      "execution_count": null,
      "outputs": [
        {
          "output_type": "stream",
          "name": "stdout",
          "text": [
            "Статистика = -6.57305, p = 0.00000\n",
            "Отклоняем нулевую гипотезу, распределения, вероятно, различаются\n"
          ]
        }
      ]
    },
    {
      "cell_type": "code",
      "source": [
        "stat, p = st.ttest_ind(only_breast, both)\n",
        "\n",
        "print(f\"Статистика = {stat:.5f}, p = {p:.5f}\")\n",
        "\n",
        "if p > 0.05:\n",
        "    print('Не отклоняем нулевую гипотезу, распределения, вероятно, одинаковые')\n",
        "else:\n",
        "    print('Отклоняем нулевую гипотезу, распределения, вероятно, различаются')"
      ],
      "metadata": {
        "colab": {
          "base_uri": "https://localhost:8080/"
        },
        "id": "6V-XKcM0U5y3",
        "outputId": "c747747e-ae00-4acf-bc71-a3e6d8484ffe"
      },
      "execution_count": null,
      "outputs": [
        {
          "output_type": "stream",
          "name": "stdout",
          "text": [
            "Статистика = -2.09223, p = 0.04315\n",
            "Отклоняем нулевую гипотезу, распределения, вероятно, различаются\n"
          ]
        }
      ]
    },
    {
      "cell_type": "code",
      "source": [
        "stat, p = st.ttest_ind(only_formula, both)\n",
        "\n",
        "print(f\"Статистика = {stat:.5f}, p = {p:.5f}\")\n",
        "\n",
        "if p > 0.05:\n",
        "    print('Не отклоняем нулевую гипотезу, распределения, вероятно, одинаковые')\n",
        "else:\n",
        "    print('Отклоняем нулевую гипотезу, распределения, вероятно, различаются')"
      ],
      "metadata": {
        "colab": {
          "base_uri": "https://localhost:8080/"
        },
        "id": "iNeQpWvoVZd1",
        "outputId": "e9223c02-3917-4675-a834-41f6f8804dca"
      },
      "execution_count": null,
      "outputs": [
        {
          "output_type": "stream",
          "name": "stdout",
          "text": [
            "Статистика = 5.72011, p = 0.00000\n",
            "Отклоняем нулевую гипотезу, распределения, вероятно, различаются\n"
          ]
        }
      ]
    },
    {
      "cell_type": "markdown",
      "source": [
        "Распределения по выборкам отличаются. Будем использовать множественное сравнения - критерий Тьюки"
      ],
      "metadata": {
        "id": "16KqC24gVmpr"
      }
    },
    {
      "cell_type": "code",
      "source": [
        "# соединим массивы в один датафрейм\n",
        "df= pd.concat([pd.Series(lst) for lst in [only_breast, only_formula, both]], axis=1)\n",
        "df.columns = ['only_breast', 'only_formula', 'both']\n",
        "df"
      ],
      "metadata": {
        "colab": {
          "base_uri": "https://localhost:8080/",
          "height": 762
        },
        "id": "mP6CVRIfa_HW",
        "outputId": "84da1717-eae7-406e-ca26-3aae15da214c"
      },
      "execution_count": null,
      "outputs": [
        {
          "output_type": "execute_result",
          "data": {
            "text/plain": [
              "    only_breast  only_formula   both\n",
              "0         794.1         898.8  976.4\n",
              "1         716.9         881.2  656.4\n",
              "2         993.0         940.2  861.2\n",
              "3         724.7         966.2  706.8\n",
              "4         760.9         957.5  718.5\n",
              "5         908.2        1061.7  717.1\n",
              "6         659.3        1046.2  759.8\n",
              "7         690.8         980.4  894.6\n",
              "8         768.7         895.6  867.6\n",
              "9         717.3         919.7  805.6\n",
              "10        630.7        1074.1  765.4\n",
              "11        729.5         952.5  800.3\n",
              "12        714.1         796.3  789.9\n",
              "13        810.3         859.6  875.3\n",
              "14        583.5         871.1  740.0\n",
              "15        679.9        1047.5  799.4\n",
              "16        865.1         919.1  790.3\n",
              "17          NaN        1160.5  795.2\n",
              "18          NaN         996.9  823.6\n",
              "19          NaN           NaN  818.7\n",
              "20          NaN           NaN  926.8\n",
              "21          NaN           NaN  791.7\n",
              "22          NaN           NaN  948.3"
            ],
            "text/html": [
              "\n",
              "  <div id=\"df-9c4a88a9-8462-4c86-b7bb-3eabc4b6d86a\" class=\"colab-df-container\">\n",
              "    <div>\n",
              "<style scoped>\n",
              "    .dataframe tbody tr th:only-of-type {\n",
              "        vertical-align: middle;\n",
              "    }\n",
              "\n",
              "    .dataframe tbody tr th {\n",
              "        vertical-align: top;\n",
              "    }\n",
              "\n",
              "    .dataframe thead th {\n",
              "        text-align: right;\n",
              "    }\n",
              "</style>\n",
              "<table border=\"1\" class=\"dataframe\">\n",
              "  <thead>\n",
              "    <tr style=\"text-align: right;\">\n",
              "      <th></th>\n",
              "      <th>only_breast</th>\n",
              "      <th>only_formula</th>\n",
              "      <th>both</th>\n",
              "    </tr>\n",
              "  </thead>\n",
              "  <tbody>\n",
              "    <tr>\n",
              "      <th>0</th>\n",
              "      <td>794.1</td>\n",
              "      <td>898.8</td>\n",
              "      <td>976.4</td>\n",
              "    </tr>\n",
              "    <tr>\n",
              "      <th>1</th>\n",
              "      <td>716.9</td>\n",
              "      <td>881.2</td>\n",
              "      <td>656.4</td>\n",
              "    </tr>\n",
              "    <tr>\n",
              "      <th>2</th>\n",
              "      <td>993.0</td>\n",
              "      <td>940.2</td>\n",
              "      <td>861.2</td>\n",
              "    </tr>\n",
              "    <tr>\n",
              "      <th>3</th>\n",
              "      <td>724.7</td>\n",
              "      <td>966.2</td>\n",
              "      <td>706.8</td>\n",
              "    </tr>\n",
              "    <tr>\n",
              "      <th>4</th>\n",
              "      <td>760.9</td>\n",
              "      <td>957.5</td>\n",
              "      <td>718.5</td>\n",
              "    </tr>\n",
              "    <tr>\n",
              "      <th>5</th>\n",
              "      <td>908.2</td>\n",
              "      <td>1061.7</td>\n",
              "      <td>717.1</td>\n",
              "    </tr>\n",
              "    <tr>\n",
              "      <th>6</th>\n",
              "      <td>659.3</td>\n",
              "      <td>1046.2</td>\n",
              "      <td>759.8</td>\n",
              "    </tr>\n",
              "    <tr>\n",
              "      <th>7</th>\n",
              "      <td>690.8</td>\n",
              "      <td>980.4</td>\n",
              "      <td>894.6</td>\n",
              "    </tr>\n",
              "    <tr>\n",
              "      <th>8</th>\n",
              "      <td>768.7</td>\n",
              "      <td>895.6</td>\n",
              "      <td>867.6</td>\n",
              "    </tr>\n",
              "    <tr>\n",
              "      <th>9</th>\n",
              "      <td>717.3</td>\n",
              "      <td>919.7</td>\n",
              "      <td>805.6</td>\n",
              "    </tr>\n",
              "    <tr>\n",
              "      <th>10</th>\n",
              "      <td>630.7</td>\n",
              "      <td>1074.1</td>\n",
              "      <td>765.4</td>\n",
              "    </tr>\n",
              "    <tr>\n",
              "      <th>11</th>\n",
              "      <td>729.5</td>\n",
              "      <td>952.5</td>\n",
              "      <td>800.3</td>\n",
              "    </tr>\n",
              "    <tr>\n",
              "      <th>12</th>\n",
              "      <td>714.1</td>\n",
              "      <td>796.3</td>\n",
              "      <td>789.9</td>\n",
              "    </tr>\n",
              "    <tr>\n",
              "      <th>13</th>\n",
              "      <td>810.3</td>\n",
              "      <td>859.6</td>\n",
              "      <td>875.3</td>\n",
              "    </tr>\n",
              "    <tr>\n",
              "      <th>14</th>\n",
              "      <td>583.5</td>\n",
              "      <td>871.1</td>\n",
              "      <td>740.0</td>\n",
              "    </tr>\n",
              "    <tr>\n",
              "      <th>15</th>\n",
              "      <td>679.9</td>\n",
              "      <td>1047.5</td>\n",
              "      <td>799.4</td>\n",
              "    </tr>\n",
              "    <tr>\n",
              "      <th>16</th>\n",
              "      <td>865.1</td>\n",
              "      <td>919.1</td>\n",
              "      <td>790.3</td>\n",
              "    </tr>\n",
              "    <tr>\n",
              "      <th>17</th>\n",
              "      <td>NaN</td>\n",
              "      <td>1160.5</td>\n",
              "      <td>795.2</td>\n",
              "    </tr>\n",
              "    <tr>\n",
              "      <th>18</th>\n",
              "      <td>NaN</td>\n",
              "      <td>996.9</td>\n",
              "      <td>823.6</td>\n",
              "    </tr>\n",
              "    <tr>\n",
              "      <th>19</th>\n",
              "      <td>NaN</td>\n",
              "      <td>NaN</td>\n",
              "      <td>818.7</td>\n",
              "    </tr>\n",
              "    <tr>\n",
              "      <th>20</th>\n",
              "      <td>NaN</td>\n",
              "      <td>NaN</td>\n",
              "      <td>926.8</td>\n",
              "    </tr>\n",
              "    <tr>\n",
              "      <th>21</th>\n",
              "      <td>NaN</td>\n",
              "      <td>NaN</td>\n",
              "      <td>791.7</td>\n",
              "    </tr>\n",
              "    <tr>\n",
              "      <th>22</th>\n",
              "      <td>NaN</td>\n",
              "      <td>NaN</td>\n",
              "      <td>948.3</td>\n",
              "    </tr>\n",
              "  </tbody>\n",
              "</table>\n",
              "</div>\n",
              "    <div class=\"colab-df-buttons\">\n",
              "\n",
              "  <div class=\"colab-df-container\">\n",
              "    <button class=\"colab-df-convert\" onclick=\"convertToInteractive('df-9c4a88a9-8462-4c86-b7bb-3eabc4b6d86a')\"\n",
              "            title=\"Convert this dataframe to an interactive table.\"\n",
              "            style=\"display:none;\">\n",
              "\n",
              "  <svg xmlns=\"http://www.w3.org/2000/svg\" height=\"24px\" viewBox=\"0 -960 960 960\">\n",
              "    <path d=\"M120-120v-720h720v720H120Zm60-500h600v-160H180v160Zm220 220h160v-160H400v160Zm0 220h160v-160H400v160ZM180-400h160v-160H180v160Zm440 0h160v-160H620v160ZM180-180h160v-160H180v160Zm440 0h160v-160H620v160Z\"/>\n",
              "  </svg>\n",
              "    </button>\n",
              "\n",
              "  <style>\n",
              "    .colab-df-container {\n",
              "      display:flex;\n",
              "      gap: 12px;\n",
              "    }\n",
              "\n",
              "    .colab-df-convert {\n",
              "      background-color: #E8F0FE;\n",
              "      border: none;\n",
              "      border-radius: 50%;\n",
              "      cursor: pointer;\n",
              "      display: none;\n",
              "      fill: #1967D2;\n",
              "      height: 32px;\n",
              "      padding: 0 0 0 0;\n",
              "      width: 32px;\n",
              "    }\n",
              "\n",
              "    .colab-df-convert:hover {\n",
              "      background-color: #E2EBFA;\n",
              "      box-shadow: 0px 1px 2px rgba(60, 64, 67, 0.3), 0px 1px 3px 1px rgba(60, 64, 67, 0.15);\n",
              "      fill: #174EA6;\n",
              "    }\n",
              "\n",
              "    .colab-df-buttons div {\n",
              "      margin-bottom: 4px;\n",
              "    }\n",
              "\n",
              "    [theme=dark] .colab-df-convert {\n",
              "      background-color: #3B4455;\n",
              "      fill: #D2E3FC;\n",
              "    }\n",
              "\n",
              "    [theme=dark] .colab-df-convert:hover {\n",
              "      background-color: #434B5C;\n",
              "      box-shadow: 0px 1px 3px 1px rgba(0, 0, 0, 0.15);\n",
              "      filter: drop-shadow(0px 1px 2px rgba(0, 0, 0, 0.3));\n",
              "      fill: #FFFFFF;\n",
              "    }\n",
              "  </style>\n",
              "\n",
              "    <script>\n",
              "      const buttonEl =\n",
              "        document.querySelector('#df-9c4a88a9-8462-4c86-b7bb-3eabc4b6d86a button.colab-df-convert');\n",
              "      buttonEl.style.display =\n",
              "        google.colab.kernel.accessAllowed ? 'block' : 'none';\n",
              "\n",
              "      async function convertToInteractive(key) {\n",
              "        const element = document.querySelector('#df-9c4a88a9-8462-4c86-b7bb-3eabc4b6d86a');\n",
              "        const dataTable =\n",
              "          await google.colab.kernel.invokeFunction('convertToInteractive',\n",
              "                                                    [key], {});\n",
              "        if (!dataTable) return;\n",
              "\n",
              "        const docLinkHtml = 'Like what you see? Visit the ' +\n",
              "          '<a target=\"_blank\" href=https://colab.research.google.com/notebooks/data_table.ipynb>data table notebook</a>'\n",
              "          + ' to learn more about interactive tables.';\n",
              "        element.innerHTML = '';\n",
              "        dataTable['output_type'] = 'display_data';\n",
              "        await google.colab.output.renderOutput(dataTable, element);\n",
              "        const docLink = document.createElement('div');\n",
              "        docLink.innerHTML = docLinkHtml;\n",
              "        element.appendChild(docLink);\n",
              "      }\n",
              "    </script>\n",
              "  </div>\n",
              "\n",
              "\n",
              "<div id=\"df-59810db7-b21d-4e2b-84d2-8ef58164e6d8\">\n",
              "  <button class=\"colab-df-quickchart\" onclick=\"quickchart('df-59810db7-b21d-4e2b-84d2-8ef58164e6d8')\"\n",
              "            title=\"Suggest charts\"\n",
              "            style=\"display:none;\">\n",
              "\n",
              "<svg xmlns=\"http://www.w3.org/2000/svg\" height=\"24px\"viewBox=\"0 0 24 24\"\n",
              "     width=\"24px\">\n",
              "    <g>\n",
              "        <path d=\"M19 3H5c-1.1 0-2 .9-2 2v14c0 1.1.9 2 2 2h14c1.1 0 2-.9 2-2V5c0-1.1-.9-2-2-2zM9 17H7v-7h2v7zm4 0h-2V7h2v10zm4 0h-2v-4h2v4z\"/>\n",
              "    </g>\n",
              "</svg>\n",
              "  </button>\n",
              "\n",
              "<style>\n",
              "  .colab-df-quickchart {\n",
              "      --bg-color: #E8F0FE;\n",
              "      --fill-color: #1967D2;\n",
              "      --hover-bg-color: #E2EBFA;\n",
              "      --hover-fill-color: #174EA6;\n",
              "      --disabled-fill-color: #AAA;\n",
              "      --disabled-bg-color: #DDD;\n",
              "  }\n",
              "\n",
              "  [theme=dark] .colab-df-quickchart {\n",
              "      --bg-color: #3B4455;\n",
              "      --fill-color: #D2E3FC;\n",
              "      --hover-bg-color: #434B5C;\n",
              "      --hover-fill-color: #FFFFFF;\n",
              "      --disabled-bg-color: #3B4455;\n",
              "      --disabled-fill-color: #666;\n",
              "  }\n",
              "\n",
              "  .colab-df-quickchart {\n",
              "    background-color: var(--bg-color);\n",
              "    border: none;\n",
              "    border-radius: 50%;\n",
              "    cursor: pointer;\n",
              "    display: none;\n",
              "    fill: var(--fill-color);\n",
              "    height: 32px;\n",
              "    padding: 0;\n",
              "    width: 32px;\n",
              "  }\n",
              "\n",
              "  .colab-df-quickchart:hover {\n",
              "    background-color: var(--hover-bg-color);\n",
              "    box-shadow: 0 1px 2px rgba(60, 64, 67, 0.3), 0 1px 3px 1px rgba(60, 64, 67, 0.15);\n",
              "    fill: var(--button-hover-fill-color);\n",
              "  }\n",
              "\n",
              "  .colab-df-quickchart-complete:disabled,\n",
              "  .colab-df-quickchart-complete:disabled:hover {\n",
              "    background-color: var(--disabled-bg-color);\n",
              "    fill: var(--disabled-fill-color);\n",
              "    box-shadow: none;\n",
              "  }\n",
              "\n",
              "  .colab-df-spinner {\n",
              "    border: 2px solid var(--fill-color);\n",
              "    border-color: transparent;\n",
              "    border-bottom-color: var(--fill-color);\n",
              "    animation:\n",
              "      spin 1s steps(1) infinite;\n",
              "  }\n",
              "\n",
              "  @keyframes spin {\n",
              "    0% {\n",
              "      border-color: transparent;\n",
              "      border-bottom-color: var(--fill-color);\n",
              "      border-left-color: var(--fill-color);\n",
              "    }\n",
              "    20% {\n",
              "      border-color: transparent;\n",
              "      border-left-color: var(--fill-color);\n",
              "      border-top-color: var(--fill-color);\n",
              "    }\n",
              "    30% {\n",
              "      border-color: transparent;\n",
              "      border-left-color: var(--fill-color);\n",
              "      border-top-color: var(--fill-color);\n",
              "      border-right-color: var(--fill-color);\n",
              "    }\n",
              "    40% {\n",
              "      border-color: transparent;\n",
              "      border-right-color: var(--fill-color);\n",
              "      border-top-color: var(--fill-color);\n",
              "    }\n",
              "    60% {\n",
              "      border-color: transparent;\n",
              "      border-right-color: var(--fill-color);\n",
              "    }\n",
              "    80% {\n",
              "      border-color: transparent;\n",
              "      border-right-color: var(--fill-color);\n",
              "      border-bottom-color: var(--fill-color);\n",
              "    }\n",
              "    90% {\n",
              "      border-color: transparent;\n",
              "      border-bottom-color: var(--fill-color);\n",
              "    }\n",
              "  }\n",
              "</style>\n",
              "\n",
              "  <script>\n",
              "    async function quickchart(key) {\n",
              "      const quickchartButtonEl =\n",
              "        document.querySelector('#' + key + ' button');\n",
              "      quickchartButtonEl.disabled = true;  // To prevent multiple clicks.\n",
              "      quickchartButtonEl.classList.add('colab-df-spinner');\n",
              "      try {\n",
              "        const charts = await google.colab.kernel.invokeFunction(\n",
              "            'suggestCharts', [key], {});\n",
              "      } catch (error) {\n",
              "        console.error('Error during call to suggestCharts:', error);\n",
              "      }\n",
              "      quickchartButtonEl.classList.remove('colab-df-spinner');\n",
              "      quickchartButtonEl.classList.add('colab-df-quickchart-complete');\n",
              "    }\n",
              "    (() => {\n",
              "      let quickchartButtonEl =\n",
              "        document.querySelector('#df-59810db7-b21d-4e2b-84d2-8ef58164e6d8 button');\n",
              "      quickchartButtonEl.style.display =\n",
              "        google.colab.kernel.accessAllowed ? 'block' : 'none';\n",
              "    })();\n",
              "  </script>\n",
              "</div>\n",
              "    </div>\n",
              "  </div>\n"
            ],
            "application/vnd.google.colaboratory.intrinsic+json": {
              "type": "dataframe",
              "variable_name": "df",
              "summary": "{\n  \"name\": \"df\",\n  \"rows\": 23,\n  \"fields\": [\n    {\n      \"column\": \"only_breast\",\n      \"properties\": {\n        \"dtype\": \"number\",\n        \"std\": 102.00706182301649,\n        \"min\": 583.5,\n        \"max\": 993.0,\n        \"num_unique_values\": 17,\n        \"samples\": [\n          794.1,\n          716.9,\n          908.2\n        ],\n        \"semantic_type\": \"\",\n        \"description\": \"\"\n      }\n    },\n    {\n      \"column\": \"only_formula\",\n      \"properties\": {\n        \"dtype\": \"number\",\n        \"std\": 89.15900442566324,\n        \"min\": 796.3,\n        \"max\": 1160.5,\n        \"num_unique_values\": 19,\n        \"samples\": [\n          898.8,\n          1061.7,\n          952.5\n        ],\n        \"semantic_type\": \"\",\n        \"description\": \"\"\n      }\n    },\n    {\n      \"column\": \"both\",\n      \"properties\": {\n        \"dtype\": \"number\",\n        \"std\": 79.85954641838505,\n        \"min\": 656.4,\n        \"max\": 976.4,\n        \"num_unique_values\": 23,\n        \"samples\": [\n          799.4,\n          805.6,\n          976.4\n        ],\n        \"semantic_type\": \"\",\n        \"description\": \"\"\n      }\n    }\n  ]\n}"
            }
          },
          "metadata": {},
          "execution_count": 16
        }
      ]
    },
    {
      "cell_type": "code",
      "source": [
        "df.describe()"
      ],
      "metadata": {
        "colab": {
          "base_uri": "https://localhost:8080/",
          "height": 297
        },
        "id": "VzpMx7U2eRjb",
        "outputId": "675bd94e-cbe6-44c1-9f0e-30b17799c3f6"
      },
      "execution_count": null,
      "outputs": [
        {
          "output_type": "execute_result",
          "data": {
            "text/plain": [
              "       only_breast  only_formula        both\n",
              "count    17.000000     19.000000   23.000000\n",
              "mean    749.823529    959.215789  809.952174\n",
              "std     102.007062     89.159004   79.859546\n",
              "min     583.500000    796.300000  656.400000\n",
              "25%     690.800000    897.200000  762.600000\n",
              "50%     724.700000    952.500000  799.400000\n",
              "75%     794.100000   1021.550000  864.400000\n",
              "max     993.000000   1160.500000  976.400000"
            ],
            "text/html": [
              "\n",
              "  <div id=\"df-06dff17e-bc9a-4004-9cef-239f2468906f\" class=\"colab-df-container\">\n",
              "    <div>\n",
              "<style scoped>\n",
              "    .dataframe tbody tr th:only-of-type {\n",
              "        vertical-align: middle;\n",
              "    }\n",
              "\n",
              "    .dataframe tbody tr th {\n",
              "        vertical-align: top;\n",
              "    }\n",
              "\n",
              "    .dataframe thead th {\n",
              "        text-align: right;\n",
              "    }\n",
              "</style>\n",
              "<table border=\"1\" class=\"dataframe\">\n",
              "  <thead>\n",
              "    <tr style=\"text-align: right;\">\n",
              "      <th></th>\n",
              "      <th>only_breast</th>\n",
              "      <th>only_formula</th>\n",
              "      <th>both</th>\n",
              "    </tr>\n",
              "  </thead>\n",
              "  <tbody>\n",
              "    <tr>\n",
              "      <th>count</th>\n",
              "      <td>17.000000</td>\n",
              "      <td>19.000000</td>\n",
              "      <td>23.000000</td>\n",
              "    </tr>\n",
              "    <tr>\n",
              "      <th>mean</th>\n",
              "      <td>749.823529</td>\n",
              "      <td>959.215789</td>\n",
              "      <td>809.952174</td>\n",
              "    </tr>\n",
              "    <tr>\n",
              "      <th>std</th>\n",
              "      <td>102.007062</td>\n",
              "      <td>89.159004</td>\n",
              "      <td>79.859546</td>\n",
              "    </tr>\n",
              "    <tr>\n",
              "      <th>min</th>\n",
              "      <td>583.500000</td>\n",
              "      <td>796.300000</td>\n",
              "      <td>656.400000</td>\n",
              "    </tr>\n",
              "    <tr>\n",
              "      <th>25%</th>\n",
              "      <td>690.800000</td>\n",
              "      <td>897.200000</td>\n",
              "      <td>762.600000</td>\n",
              "    </tr>\n",
              "    <tr>\n",
              "      <th>50%</th>\n",
              "      <td>724.700000</td>\n",
              "      <td>952.500000</td>\n",
              "      <td>799.400000</td>\n",
              "    </tr>\n",
              "    <tr>\n",
              "      <th>75%</th>\n",
              "      <td>794.100000</td>\n",
              "      <td>1021.550000</td>\n",
              "      <td>864.400000</td>\n",
              "    </tr>\n",
              "    <tr>\n",
              "      <th>max</th>\n",
              "      <td>993.000000</td>\n",
              "      <td>1160.500000</td>\n",
              "      <td>976.400000</td>\n",
              "    </tr>\n",
              "  </tbody>\n",
              "</table>\n",
              "</div>\n",
              "    <div class=\"colab-df-buttons\">\n",
              "\n",
              "  <div class=\"colab-df-container\">\n",
              "    <button class=\"colab-df-convert\" onclick=\"convertToInteractive('df-06dff17e-bc9a-4004-9cef-239f2468906f')\"\n",
              "            title=\"Convert this dataframe to an interactive table.\"\n",
              "            style=\"display:none;\">\n",
              "\n",
              "  <svg xmlns=\"http://www.w3.org/2000/svg\" height=\"24px\" viewBox=\"0 -960 960 960\">\n",
              "    <path d=\"M120-120v-720h720v720H120Zm60-500h600v-160H180v160Zm220 220h160v-160H400v160Zm0 220h160v-160H400v160ZM180-400h160v-160H180v160Zm440 0h160v-160H620v160ZM180-180h160v-160H180v160Zm440 0h160v-160H620v160Z\"/>\n",
              "  </svg>\n",
              "    </button>\n",
              "\n",
              "  <style>\n",
              "    .colab-df-container {\n",
              "      display:flex;\n",
              "      gap: 12px;\n",
              "    }\n",
              "\n",
              "    .colab-df-convert {\n",
              "      background-color: #E8F0FE;\n",
              "      border: none;\n",
              "      border-radius: 50%;\n",
              "      cursor: pointer;\n",
              "      display: none;\n",
              "      fill: #1967D2;\n",
              "      height: 32px;\n",
              "      padding: 0 0 0 0;\n",
              "      width: 32px;\n",
              "    }\n",
              "\n",
              "    .colab-df-convert:hover {\n",
              "      background-color: #E2EBFA;\n",
              "      box-shadow: 0px 1px 2px rgba(60, 64, 67, 0.3), 0px 1px 3px 1px rgba(60, 64, 67, 0.15);\n",
              "      fill: #174EA6;\n",
              "    }\n",
              "\n",
              "    .colab-df-buttons div {\n",
              "      margin-bottom: 4px;\n",
              "    }\n",
              "\n",
              "    [theme=dark] .colab-df-convert {\n",
              "      background-color: #3B4455;\n",
              "      fill: #D2E3FC;\n",
              "    }\n",
              "\n",
              "    [theme=dark] .colab-df-convert:hover {\n",
              "      background-color: #434B5C;\n",
              "      box-shadow: 0px 1px 3px 1px rgba(0, 0, 0, 0.15);\n",
              "      filter: drop-shadow(0px 1px 2px rgba(0, 0, 0, 0.3));\n",
              "      fill: #FFFFFF;\n",
              "    }\n",
              "  </style>\n",
              "\n",
              "    <script>\n",
              "      const buttonEl =\n",
              "        document.querySelector('#df-06dff17e-bc9a-4004-9cef-239f2468906f button.colab-df-convert');\n",
              "      buttonEl.style.display =\n",
              "        google.colab.kernel.accessAllowed ? 'block' : 'none';\n",
              "\n",
              "      async function convertToInteractive(key) {\n",
              "        const element = document.querySelector('#df-06dff17e-bc9a-4004-9cef-239f2468906f');\n",
              "        const dataTable =\n",
              "          await google.colab.kernel.invokeFunction('convertToInteractive',\n",
              "                                                    [key], {});\n",
              "        if (!dataTable) return;\n",
              "\n",
              "        const docLinkHtml = 'Like what you see? Visit the ' +\n",
              "          '<a target=\"_blank\" href=https://colab.research.google.com/notebooks/data_table.ipynb>data table notebook</a>'\n",
              "          + ' to learn more about interactive tables.';\n",
              "        element.innerHTML = '';\n",
              "        dataTable['output_type'] = 'display_data';\n",
              "        await google.colab.output.renderOutput(dataTable, element);\n",
              "        const docLink = document.createElement('div');\n",
              "        docLink.innerHTML = docLinkHtml;\n",
              "        element.appendChild(docLink);\n",
              "      }\n",
              "    </script>\n",
              "  </div>\n",
              "\n",
              "\n",
              "<div id=\"df-c43764c0-cab7-4d40-8036-72e22dc63c05\">\n",
              "  <button class=\"colab-df-quickchart\" onclick=\"quickchart('df-c43764c0-cab7-4d40-8036-72e22dc63c05')\"\n",
              "            title=\"Suggest charts\"\n",
              "            style=\"display:none;\">\n",
              "\n",
              "<svg xmlns=\"http://www.w3.org/2000/svg\" height=\"24px\"viewBox=\"0 0 24 24\"\n",
              "     width=\"24px\">\n",
              "    <g>\n",
              "        <path d=\"M19 3H5c-1.1 0-2 .9-2 2v14c0 1.1.9 2 2 2h14c1.1 0 2-.9 2-2V5c0-1.1-.9-2-2-2zM9 17H7v-7h2v7zm4 0h-2V7h2v10zm4 0h-2v-4h2v4z\"/>\n",
              "    </g>\n",
              "</svg>\n",
              "  </button>\n",
              "\n",
              "<style>\n",
              "  .colab-df-quickchart {\n",
              "      --bg-color: #E8F0FE;\n",
              "      --fill-color: #1967D2;\n",
              "      --hover-bg-color: #E2EBFA;\n",
              "      --hover-fill-color: #174EA6;\n",
              "      --disabled-fill-color: #AAA;\n",
              "      --disabled-bg-color: #DDD;\n",
              "  }\n",
              "\n",
              "  [theme=dark] .colab-df-quickchart {\n",
              "      --bg-color: #3B4455;\n",
              "      --fill-color: #D2E3FC;\n",
              "      --hover-bg-color: #434B5C;\n",
              "      --hover-fill-color: #FFFFFF;\n",
              "      --disabled-bg-color: #3B4455;\n",
              "      --disabled-fill-color: #666;\n",
              "  }\n",
              "\n",
              "  .colab-df-quickchart {\n",
              "    background-color: var(--bg-color);\n",
              "    border: none;\n",
              "    border-radius: 50%;\n",
              "    cursor: pointer;\n",
              "    display: none;\n",
              "    fill: var(--fill-color);\n",
              "    height: 32px;\n",
              "    padding: 0;\n",
              "    width: 32px;\n",
              "  }\n",
              "\n",
              "  .colab-df-quickchart:hover {\n",
              "    background-color: var(--hover-bg-color);\n",
              "    box-shadow: 0 1px 2px rgba(60, 64, 67, 0.3), 0 1px 3px 1px rgba(60, 64, 67, 0.15);\n",
              "    fill: var(--button-hover-fill-color);\n",
              "  }\n",
              "\n",
              "  .colab-df-quickchart-complete:disabled,\n",
              "  .colab-df-quickchart-complete:disabled:hover {\n",
              "    background-color: var(--disabled-bg-color);\n",
              "    fill: var(--disabled-fill-color);\n",
              "    box-shadow: none;\n",
              "  }\n",
              "\n",
              "  .colab-df-spinner {\n",
              "    border: 2px solid var(--fill-color);\n",
              "    border-color: transparent;\n",
              "    border-bottom-color: var(--fill-color);\n",
              "    animation:\n",
              "      spin 1s steps(1) infinite;\n",
              "  }\n",
              "\n",
              "  @keyframes spin {\n",
              "    0% {\n",
              "      border-color: transparent;\n",
              "      border-bottom-color: var(--fill-color);\n",
              "      border-left-color: var(--fill-color);\n",
              "    }\n",
              "    20% {\n",
              "      border-color: transparent;\n",
              "      border-left-color: var(--fill-color);\n",
              "      border-top-color: var(--fill-color);\n",
              "    }\n",
              "    30% {\n",
              "      border-color: transparent;\n",
              "      border-left-color: var(--fill-color);\n",
              "      border-top-color: var(--fill-color);\n",
              "      border-right-color: var(--fill-color);\n",
              "    }\n",
              "    40% {\n",
              "      border-color: transparent;\n",
              "      border-right-color: var(--fill-color);\n",
              "      border-top-color: var(--fill-color);\n",
              "    }\n",
              "    60% {\n",
              "      border-color: transparent;\n",
              "      border-right-color: var(--fill-color);\n",
              "    }\n",
              "    80% {\n",
              "      border-color: transparent;\n",
              "      border-right-color: var(--fill-color);\n",
              "      border-bottom-color: var(--fill-color);\n",
              "    }\n",
              "    90% {\n",
              "      border-color: transparent;\n",
              "      border-bottom-color: var(--fill-color);\n",
              "    }\n",
              "  }\n",
              "</style>\n",
              "\n",
              "  <script>\n",
              "    async function quickchart(key) {\n",
              "      const quickchartButtonEl =\n",
              "        document.querySelector('#' + key + ' button');\n",
              "      quickchartButtonEl.disabled = true;  // To prevent multiple clicks.\n",
              "      quickchartButtonEl.classList.add('colab-df-spinner');\n",
              "      try {\n",
              "        const charts = await google.colab.kernel.invokeFunction(\n",
              "            'suggestCharts', [key], {});\n",
              "      } catch (error) {\n",
              "        console.error('Error during call to suggestCharts:', error);\n",
              "      }\n",
              "      quickchartButtonEl.classList.remove('colab-df-spinner');\n",
              "      quickchartButtonEl.classList.add('colab-df-quickchart-complete');\n",
              "    }\n",
              "    (() => {\n",
              "      let quickchartButtonEl =\n",
              "        document.querySelector('#df-c43764c0-cab7-4d40-8036-72e22dc63c05 button');\n",
              "      quickchartButtonEl.style.display =\n",
              "        google.colab.kernel.accessAllowed ? 'block' : 'none';\n",
              "    })();\n",
              "  </script>\n",
              "</div>\n",
              "    </div>\n",
              "  </div>\n"
            ],
            "application/vnd.google.colaboratory.intrinsic+json": {
              "type": "dataframe",
              "summary": "{\n  \"name\": \"df\",\n  \"rows\": 8,\n  \"fields\": [\n    {\n      \"column\": \"only_breast\",\n      \"properties\": {\n        \"dtype\": \"number\",\n        \"std\": 343.07292118848574,\n        \"min\": 17.0,\n        \"max\": 993.0,\n        \"num_unique_values\": 8,\n        \"samples\": [\n          749.8235294117648,\n          724.7,\n          17.0\n        ],\n        \"semantic_type\": \"\",\n        \"description\": \"\"\n      }\n    },\n    {\n      \"column\": \"only_formula\",\n      \"properties\": {\n        \"dtype\": \"number\",\n        \"std\": 434.3375092812375,\n        \"min\": 19.0,\n        \"max\": 1160.5,\n        \"num_unique_values\": 8,\n        \"samples\": [\n          959.2157894736845,\n          952.5,\n          19.0\n        ],\n        \"semantic_type\": \"\",\n        \"description\": \"\"\n      }\n    },\n    {\n      \"column\": \"both\",\n      \"properties\": {\n        \"dtype\": \"number\",\n        \"std\": 363.4793967026936,\n        \"min\": 23.0,\n        \"max\": 976.4,\n        \"num_unique_values\": 8,\n        \"samples\": [\n          809.9521739130436,\n          799.4,\n          23.0\n        ],\n        \"semantic_type\": \"\",\n        \"description\": \"\"\n      }\n    }\n  ]\n}"
            }
          },
          "metadata": {},
          "execution_count": 17
        }
      ]
    },
    {
      "cell_type": "markdown",
      "source": [
        "Для количественных данных, если в непрерывной величине есть выбросы, то стоит выбрать для замены медиану, если в непрерывной величине нет выбросов, то стоит выбрать среднее.\n",
        "Для only_breast\tonly_formula выберем медиану, для both - среднее."
      ],
      "metadata": {
        "id": "0_tPGTKSe9cC"
      }
    },
    {
      "cell_type": "code",
      "source": [
        "(df.isna().mean() * 100).round(2)"
      ],
      "metadata": {
        "colab": {
          "base_uri": "https://localhost:8080/"
        },
        "id": "cNwRspLJf5K7",
        "outputId": "169b0f4a-3492-4b14-aacf-35585dc41847"
      },
      "execution_count": null,
      "outputs": [
        {
          "output_type": "execute_result",
          "data": {
            "text/plain": [
              "only_breast     26.09\n",
              "only_formula    17.39\n",
              "both             0.00\n",
              "dtype: float64"
            ]
          },
          "metadata": {},
          "execution_count": 18
        }
      ]
    },
    {
      "cell_type": "code",
      "source": [
        "#заполним пропуски средним значением по каждому признаку\n",
        "df['only_breast'] = df['only_breast'].fillna(df['only_breast'].median())\n",
        "df['only_formula'] = df['only_formula'].fillna(df['only_formula'].median())\n",
        "df['both'] = df['both'].fillna(df['both'].mean())"
      ],
      "metadata": {
        "id": "RkZPwuFwdBAy"
      },
      "execution_count": null,
      "outputs": []
    },
    {
      "cell_type": "code",
      "source": [
        "(df.isna().mean() * 100).round(2)"
      ],
      "metadata": {
        "colab": {
          "base_uri": "https://localhost:8080/"
        },
        "id": "bkhInEBXgB03",
        "outputId": "1f86407b-fd1e-4f91-80cf-454f36e62a99"
      },
      "execution_count": null,
      "outputs": [
        {
          "output_type": "execute_result",
          "data": {
            "text/plain": [
              "only_breast     0.0\n",
              "only_formula    0.0\n",
              "both            0.0\n",
              "dtype: float64"
            ]
          },
          "metadata": {},
          "execution_count": 20
        }
      ]
    },
    {
      "cell_type": "code",
      "source": [
        "#дисперсионный анализ ANOVA\n",
        "from scipy.stats import tukey_hsd\n",
        "from statsmodels.stats.multicomp import pairwise_tukeyhsd\n",
        "\n",
        "res = tukey_hsd(only_breast, only_formula, both)\n",
        "print(res)"
      ],
      "metadata": {
        "colab": {
          "base_uri": "https://localhost:8080/"
        },
        "id": "leP_sYQKocbV",
        "outputId": "44d95b05-d327-4ec5-b094-c5901b43425a"
      },
      "execution_count": null,
      "outputs": [
        {
          "output_type": "stream",
          "name": "stdout",
          "text": [
            "Tukey's HSD Pairwise Group Comparisons (95.0% Confidence Interval)\n",
            "Comparison  Statistic  p-value  Lower CI  Upper CI\n",
            " (0 - 1)   -209.392     0.000  -281.434  -137.351\n",
            " (0 - 2)    -60.129     0.100  -129.149     8.891\n",
            " (1 - 0)    209.392     0.000   137.351   281.434\n",
            " (1 - 2)    149.264     0.000    82.365   216.162\n",
            " (2 - 0)     60.129     0.100    -8.891   129.149\n",
            " (2 - 1)   -149.264     0.000  -216.162   -82.365\n",
            "\n"
          ]
        }
      ]
    },
    {
      "cell_type": "code",
      "source": [
        "fvalue, pvalue = st.f_oneway(only_breast, only_formula, both)\n",
        "\n",
        "print(f\"Статистика = {fvalue:.5f}, p={pvalue:.5f}\")\n",
        "\n",
        "if pvalue > 0.05:\n",
        "    print('Не отклоняем нулевую гипотезу, среднее, вероятно одинаковые')\n",
        "else:\n",
        "    print('Отклоняем нулевую гипотезу, среднее, вероятно, различаются')"
      ],
      "metadata": {
        "colab": {
          "base_uri": "https://localhost:8080/"
        },
        "id": "5lshr9SQT2PW",
        "outputId": "b959f5c9-1368-49a6-f30e-0137311c4fe7"
      },
      "execution_count": null,
      "outputs": [
        {
          "output_type": "stream",
          "name": "stdout",
          "text": [
            "Статистика = 26.70125, p=0.00000\n",
            "Отклоняем нулевую гипотезу, среднее, вероятно, различаются\n"
          ]
        }
      ]
    },
    {
      "cell_type": "code",
      "source": [
        "#здесь ошибка!!!!!!\n",
        "tukey = pairwise_tukeyhsd(endog=df['only_breast'].values,\n",
        "                          groups=df['only_formula'],\n",
        "                          alpha=0.05)\n",
        "print(tukey)"
      ],
      "metadata": {
        "colab": {
          "base_uri": "https://localhost:8080/"
        },
        "id": "phXhKfMBr5wG",
        "outputId": "37eaa5b6-42a7-4165-c2ec-f463e6ca0428"
      },
      "execution_count": null,
      "outputs": [
        {
          "output_type": "stream",
          "name": "stdout",
          "text": [
            "  Multiple Comparison of Means - Tukey HSD, FWER=0.05   \n",
            "========================================================\n",
            "group1 group2 meandiff p-adj    lower     upper   reject\n",
            "--------------------------------------------------------\n",
            " 796.3  859.6     96.2 0.0001   76.5942  115.8058   True\n",
            " 796.3  871.1   -130.6    0.0 -150.2058 -110.9942   True\n",
            " 796.3  881.2      2.8 0.9989  -16.8058   22.4058  False\n",
            " 796.3  895.6     54.6 0.0011   34.9942   74.2058   True\n",
            " 796.3  898.8     80.0 0.0002   60.3942   99.6058   True\n",
            " 796.3  919.1    151.0    0.0  131.3942  170.6058   True\n",
            " 796.3  919.7      3.2 0.9962  -16.4058   22.8058  False\n",
            " 796.3  940.2    278.9    0.0  259.2942  298.5058   True\n",
            " 796.3  952.5    11.56 0.1224   -3.6266   26.7466  False\n",
            " 796.3  957.5     46.8  0.002   27.1942   66.4058   True\n",
            " 796.3  966.2     10.6 0.3168   -9.0058   30.2058  False\n",
            " 796.3  980.4    -23.3 0.0272  -42.9058   -3.6942   True\n",
            " 796.3  996.9     10.6 0.3168   -9.0058   30.2058  False\n",
            " 796.3 1046.2    -54.8 0.0011  -74.4058  -35.1942   True\n",
            " 796.3 1047.5    -34.2 0.0065  -53.8058  -14.5942   True\n",
            " 796.3 1061.7    194.1    0.0  174.4942  213.7058   True\n",
            " 796.3 1074.1    -83.4 0.0002 -103.0058  -63.7942   True\n",
            " 796.3 1160.5     10.6 0.3168   -9.0058   30.2058  False\n",
            " 859.6  871.1   -226.8    0.0 -246.4058 -207.1942   True\n",
            " 859.6  881.2    -93.4 0.0001 -113.0058  -73.7942   True\n",
            " 859.6  895.6    -41.6 0.0031  -61.2058  -21.9942   True\n",
            " 859.6  898.8    -16.2 0.0945  -35.8058    3.4058  False\n",
            " 859.6  919.1     54.8 0.0011   35.1942   74.4058   True\n",
            " 859.6  919.7    -93.0 0.0001 -112.6058  -73.3942   True\n",
            " 859.6  940.2    182.7    0.0  163.0942  202.3058   True\n",
            " 859.6  952.5   -84.64 0.0001  -99.8266  -69.4534   True\n",
            " 859.6  957.5    -49.4 0.0016  -69.0058  -29.7942   True\n",
            " 859.6  966.2    -85.6 0.0002 -105.2058  -65.9942   True\n",
            " 859.6  980.4   -119.5    0.0 -139.1058  -99.8942   True\n",
            " 859.6  996.9    -85.6 0.0002 -105.2058  -65.9942   True\n",
            " 859.6 1046.2   -151.0    0.0 -170.6058 -131.3942   True\n",
            " 859.6 1047.5   -130.4    0.0 -150.0058 -110.7942   True\n",
            " 859.6 1061.7     97.9 0.0001   78.2942  117.5058   True\n",
            " 859.6 1074.1   -179.6    0.0 -199.2058 -159.9942   True\n",
            " 859.6 1160.5    -85.6 0.0002 -105.2058  -65.9942   True\n",
            " 871.1  881.2    133.4    0.0  113.7942  153.0058   True\n",
            " 871.1  895.6    185.2    0.0  165.5942  204.8058   True\n",
            " 871.1  898.8    210.6    0.0  190.9942  230.2058   True\n",
            " 871.1  919.1    281.6    0.0  261.9942  301.2058   True\n",
            " 871.1  919.7    133.8    0.0  114.1942  153.4058   True\n",
            " 871.1  940.2    409.5    0.0  389.8942  429.1058   True\n",
            " 871.1  952.5   142.16    0.0  126.9734  157.3466   True\n",
            " 871.1  957.5    177.4    0.0  157.7942  197.0058   True\n",
            " 871.1  966.2    141.2    0.0  121.5942  160.8058   True\n",
            " 871.1  980.4    107.3 0.0001   87.6942  126.9058   True\n",
            " 871.1  996.9    141.2    0.0  121.5942  160.8058   True\n",
            " 871.1 1046.2     75.8 0.0003   56.1942   95.4058   True\n",
            " 871.1 1047.5     96.4 0.0001   76.7942  116.0058   True\n",
            " 871.1 1061.7    324.7    0.0  305.0942  344.3058   True\n",
            " 871.1 1074.1     47.2 0.0019   27.5942   66.8058   True\n",
            " 871.1 1160.5    141.2    0.0  121.5942  160.8058   True\n",
            " 881.2  895.6     51.8 0.0013   32.1942   71.4058   True\n",
            " 881.2  898.8     77.2 0.0003   57.5942   96.8058   True\n",
            " 881.2  919.1    148.2    0.0  128.5942  167.8058   True\n",
            " 881.2  919.7      0.4    1.0  -19.2058   20.0058  False\n",
            " 881.2  940.2    276.1    0.0  256.4942  295.7058   True\n",
            " 881.2  952.5     8.76 0.2696   -6.4266   23.9466  False\n",
            " 881.2  957.5     44.0 0.0025   24.3942   63.6058   True\n",
            " 881.2  966.2      7.8 0.5888  -11.8058   27.4058  False\n",
            " 881.2  980.4    -26.1  0.018  -45.7058   -6.4942   True\n",
            " 881.2  996.9      7.8 0.5888  -11.8058   27.4058  False\n",
            " 881.2 1046.2    -57.6 0.0009  -77.2058  -37.9942   True\n",
            " 881.2 1047.5    -37.0 0.0048  -56.6058  -17.3942   True\n",
            " 881.2 1061.7    191.3    0.0  171.6942  210.9058   True\n",
            " 881.2 1074.1    -86.2 0.0002 -105.8058  -66.5942   True\n",
            " 881.2 1160.5      7.8 0.5888  -11.8058   27.4058  False\n",
            " 895.6  898.8     25.4 0.0199    5.7942   45.0058   True\n",
            " 895.6  919.1     96.4 0.0001   76.7942  116.0058   True\n",
            " 895.6  919.7    -51.4 0.0014  -71.0058  -31.7942   True\n",
            " 895.6  940.2    224.3    0.0  204.6942  243.9058   True\n",
            " 895.6  952.5   -43.04  0.001  -58.2266  -27.8534   True\n",
            " 895.6  957.5     -7.8 0.5888  -27.4058   11.8058  False\n",
            " 895.6  966.2    -44.0 0.0025  -63.6058  -24.3942   True\n",
            " 895.6  980.4    -77.9 0.0003  -97.5058  -58.2942   True\n",
            " 895.6  996.9    -44.0 0.0025  -63.6058  -24.3942   True\n",
            " 895.6 1046.2   -109.4 0.0001 -129.0058  -89.7942   True\n",
            " 895.6 1047.5    -88.8 0.0002 -108.4058  -69.1942   True\n",
            " 895.6 1061.7    139.5    0.0  119.8942  159.1058   True\n",
            " 895.6 1074.1   -138.0    0.0 -157.6058 -118.3942   True\n",
            " 895.6 1160.5    -44.0 0.0025  -63.6058  -24.3942   True\n",
            " 898.8  919.1     71.0 0.0004   51.3942   90.6058   True\n",
            " 898.8  919.7    -76.8 0.0003  -96.4058  -57.1942   True\n",
            " 898.8  940.2    198.9    0.0  179.2942  218.5058   True\n",
            " 898.8  952.5   -68.44 0.0002  -83.6266  -53.2534   True\n",
            " 898.8  957.5    -33.2 0.0073  -52.8058  -13.5942   True\n",
            " 898.8  966.2    -69.4 0.0004  -89.0058  -49.7942   True\n",
            " 898.8  980.4   -103.3 0.0001 -122.9058  -83.6942   True\n",
            " 898.8  996.9    -69.4 0.0004  -89.0058  -49.7942   True\n",
            " 898.8 1046.2   -134.8    0.0 -154.4058 -115.1942   True\n",
            " 898.8 1047.5   -114.2 0.0001 -133.8058  -94.5942   True\n",
            " 898.8 1061.7    114.1 0.0001   94.4942  133.7058   True\n",
            " 898.8 1074.1   -163.4    0.0 -183.0058 -143.7942   True\n",
            " 898.8 1160.5    -69.4 0.0004  -89.0058  -49.7942   True\n",
            " 919.1  919.7   -147.8    0.0 -167.4058 -128.1942   True\n",
            " 919.1  940.2    127.9    0.0  108.2942  147.5058   True\n",
            " 919.1  952.5  -139.44    0.0 -154.6266 -124.2534   True\n",
            " 919.1  957.5   -104.2 0.0001 -123.8058  -84.5942   True\n",
            " 919.1  966.2   -140.4    0.0 -160.0058 -120.7942   True\n",
            " 919.1  980.4   -174.3    0.0 -193.9058 -154.6942   True\n",
            " 919.1  996.9   -140.4    0.0 -160.0058 -120.7942   True\n",
            " 919.1 1046.2   -205.8    0.0 -225.4058 -186.1942   True\n",
            " 919.1 1047.5   -185.2    0.0 -204.8058 -165.5942   True\n",
            " 919.1 1061.7     43.1 0.0027   23.4942   62.7058   True\n",
            " 919.1 1074.1   -234.4    0.0 -254.0058 -214.7942   True\n",
            " 919.1 1160.5   -140.4    0.0 -160.0058 -120.7942   True\n",
            " 919.7  940.2    275.7    0.0  256.0942  295.3058   True\n",
            " 919.7  952.5     8.36 0.3032   -6.8266   23.5466  False\n",
            " 919.7  957.5     43.6 0.0026   23.9942   63.2058   True\n",
            " 919.7  966.2      7.4  0.638  -12.2058   27.0058  False\n",
            " 919.7  980.4    -26.5  0.017  -46.1058   -6.8942   True\n",
            " 919.7  996.9      7.4  0.638  -12.2058   27.0058  False\n",
            " 919.7 1046.2    -58.0 0.0008  -77.6058  -38.3942   True\n",
            " 919.7 1047.5    -37.4 0.0046  -57.0058  -17.7942   True\n",
            " 919.7 1061.7    190.9    0.0  171.2942  210.5058   True\n",
            " 919.7 1074.1    -86.6 0.0002 -106.2058  -66.9942   True\n",
            " 919.7 1160.5      7.4  0.638  -12.2058   27.0058  False\n",
            " 940.2  952.5  -267.34    0.0 -282.5266 -252.1534   True\n",
            " 940.2  957.5   -232.1    0.0 -251.7058 -212.4942   True\n",
            " 940.2  966.2   -268.3    0.0 -287.9058 -248.6942   True\n",
            " 940.2  980.4   -302.2    0.0 -321.8058 -282.5942   True\n",
            " 940.2  996.9   -268.3    0.0 -287.9058 -248.6942   True\n",
            " 940.2 1046.2   -333.7    0.0 -353.3058 -314.0942   True\n",
            " 940.2 1047.5   -313.1    0.0 -332.7058 -293.4942   True\n",
            " 940.2 1061.7    -84.8 0.0002 -104.4058  -65.1942   True\n",
            " 940.2 1074.1   -362.3    0.0 -381.9058 -342.6942   True\n",
            " 940.2 1160.5   -268.3    0.0 -287.9058 -248.6942   True\n",
            " 952.5  957.5    35.24 0.0022   20.0534   50.4266   True\n",
            " 952.5  966.2    -0.96    1.0  -16.1466   14.2266  False\n",
            " 952.5  980.4   -34.86 0.0023  -50.0466  -19.6734   True\n",
            " 952.5  996.9    -0.96    1.0  -16.1466   14.2266  False\n",
            " 952.5 1046.2   -66.36 0.0002  -81.5466  -51.1734   True\n",
            " 952.5 1047.5   -45.76 0.0008  -60.9466  -30.5734   True\n",
            " 952.5 1061.7   182.54    0.0  167.3534  197.7266   True\n",
            " 952.5 1074.1   -94.96    0.0 -110.1466  -79.7734   True\n",
            " 952.5 1160.5    -0.96    1.0  -16.1466   14.2266  False\n",
            " 957.5  966.2    -36.2 0.0053  -55.8058  -16.5942   True\n",
            " 957.5  980.4    -70.1 0.0004  -89.7058  -50.4942   True\n",
            " 957.5  996.9    -36.2 0.0053  -55.8058  -16.5942   True\n",
            " 957.5 1046.2   -101.6 0.0001 -121.2058  -81.9942   True\n",
            " 957.5 1047.5    -81.0 0.0002 -100.6058  -61.3942   True\n",
            " 957.5 1061.7    147.3    0.0  127.6942  166.9058   True\n",
            " 957.5 1074.1   -130.2    0.0 -149.8058 -110.5942   True\n",
            " 957.5 1160.5    -36.2 0.0053  -55.8058  -16.5942   True\n",
            " 966.2  980.4    -33.9 0.0068  -53.5058  -14.2942   True\n",
            " 966.2  996.9      0.0    1.0  -19.6058   19.6058  False\n",
            " 966.2 1046.2    -65.4 0.0005  -85.0058  -45.7942   True\n",
            " 966.2 1047.5    -44.8 0.0023  -64.4058  -25.1942   True\n",
            " 966.2 1061.7    183.5    0.0  163.8942  203.1058   True\n",
            " 966.2 1074.1    -94.0 0.0001 -113.6058  -74.3942   True\n",
            " 966.2 1160.5      0.0    1.0  -19.6058   19.6058  False\n",
            " 980.4  996.9     33.9 0.0068   14.2942   53.5058   True\n",
            " 980.4 1046.2    -31.5 0.0089  -51.1058  -11.8942   True\n",
            " 980.4 1047.5    -10.9 0.2959  -30.5058    8.7058  False\n",
            " 980.4 1061.7    217.4    0.0  197.7942  237.0058   True\n",
            " 980.4 1074.1    -60.1 0.0007  -79.7058  -40.4942   True\n",
            " 980.4 1160.5     33.9 0.0068   14.2942   53.5058   True\n",
            " 996.9 1046.2    -65.4 0.0005  -85.0058  -45.7942   True\n",
            " 996.9 1047.5    -44.8 0.0023  -64.4058  -25.1942   True\n",
            " 996.9 1061.7    183.5    0.0  163.8942  203.1058   True\n",
            " 996.9 1074.1    -94.0 0.0001 -113.6058  -74.3942   True\n",
            " 996.9 1160.5      0.0    1.0  -19.6058   19.6058  False\n",
            "1046.2 1047.5     20.6 0.0421    0.9942   40.2058   True\n",
            "1046.2 1061.7    248.9    0.0  229.2942  268.5058   True\n",
            "1046.2 1074.1    -28.6 0.0128  -48.2058   -8.9942   True\n",
            "1046.2 1160.5     65.4 0.0005   45.7942   85.0058   True\n",
            "1047.5 1061.7    228.3    0.0  208.6942  247.9058   True\n",
            "1047.5 1074.1    -49.2 0.0016  -68.8058  -29.5942   True\n",
            "1047.5 1160.5     44.8 0.0023   25.1942   64.4058   True\n",
            "1061.7 1074.1   -277.5    0.0 -297.1058 -257.8942   True\n",
            "1061.7 1160.5   -183.5    0.0 -203.1058 -163.8942   True\n",
            "1074.1 1160.5     94.0 0.0001   74.3942  113.6058   True\n",
            "--------------------------------------------------------\n"
          ]
        }
      ]
    },
    {
      "cell_type": "markdown",
      "metadata": {
        "id": "O0LhesbhGZwH"
      },
      "source": [
        "<div class=\"alert alert-info\">\n",
        "<b>Задание № 5 (Опционально) </b>\n",
        "\n",
        "Аналитик финансовой инвестиционной компании интересуется взаимосвязью между полом и склонностью к риску. Из базы данных была взята случайная выборка из 660 клиентов. Клиенты в выборке были классифицированы в соответствии с их полом и склонностью к риску. Результат приведен в следующей таблице.\n",
        "    \n",
        "Проверьте гипотезу о том, что склонность к риску клиентов этой компании не зависит от их пола. Используйте α = 0.01.    \n",
        "</div>"
      ]
    },
    {
      "cell_type": "code",
      "execution_count": null,
      "metadata": {
        "id": "UP998NjNGZwI",
        "outputId": "6cd79929-74e6-4fd0-9f25-55eaed51ae5c",
        "colab": {
          "base_uri": "https://localhost:8080/"
        }
      },
      "outputs": [
        {
          "output_type": "stream",
          "name": "stdout",
          "text": [
            "Уровень риска\n",
            "    0   1   2   3    4\n",
            "Ж  53  23  30  36   88\n",
            "М  71  48  51  57  203\n"
          ]
        }
      ],
      "source": [
        "contingency_table = pd.DataFrame(\n",
        "    [\n",
        "        [53, 23, 30, 36, 88],\n",
        "        [71, 48, 51, 57, 203]\n",
        "    ],\n",
        "    #columns = ['Machine Learning', 'Data Science', 'Analytics'],\n",
        "    index = ['Ж', 'М'])\n",
        "\n",
        "print('Уровень риска')\n",
        "print(contingency_table)"
      ]
    },
    {
      "cell_type": "code",
      "execution_count": null,
      "metadata": {
        "colab": {
          "base_uri": "https://localhost:8080/"
        },
        "id": "t8YOFwL9ApF_",
        "outputId": "c04dd927-4258-4e54-fa82-7f8842b4ecd1"
      },
      "outputs": [
        {
          "output_type": "stream",
          "name": "stdout",
          "text": [
            "p-value = 0.130992, уровень значимости = 0.01\n",
            "0.13099220858734012\n",
            "На уровене значимости 0.01, мы отвергаем нулевые гипотезы и принимаем H1. Они не независимы.\n",
            "Cклонность к риску клиентов этой компании зависит от их пола\n"
          ]
        }
      ],
      "source": [
        "chi, pval, dof, exp = st.chi2_contingency(contingency_table.values) #Критерий Пирсона (хи квадрат)\n",
        "significance = 0.01\n",
        "\n",
        "print(f\"p-value = {pval:.6f}, уровень значимости = {significance:.2f}\")\n",
        "\n",
        "print(pval)\n",
        "if pval > significance:\n",
        "    print(f\"На уровене значимости {significance:.2f}, мы отвергаем нулевые гипотезы и принимаем H1. Они не независимы.\")\n",
        "    print('Cклонность к риску клиентов этой компании зависит от их пола')\n",
        "else:\n",
        "    print(f\"На уровене значимости {significance:.2f}, мы не отвергаем нулевые гипотезы. Они независимы.\")\n",
        "\n",
        "# Возвращает:\n",
        "# chi2 : Посчитанную статистику теста.\n",
        "# p :  p-value теста\n",
        "# dof : Степени свободы\n",
        "# expected : Ожидаемые частоты, основанные на предельных суммах таблицы."
      ]
    },
    {
      "cell_type": "markdown",
      "metadata": {
        "id": "nImsQh5LGZwM"
      },
      "source": [
        "<div class=\"alert alert-info\">\n",
        "<b>Задание № 6 (Опционально)</b>\n",
        "\n",
        "Компания электронной коммерции регулярно размещает рекламу своих кампаний на YouTube, Instagram и Facebook. Однако новому менеджеру было любопытно, есть ли разница между количеством клиентов, привлеченных этими платформами. Поэтому она начала использовать Adjust — приложение, позволяющее узнать, откуда приходят ваши пользователи. Ежедневные цифры, сообщаемые Adjust для каждой платформы, приведены ниже.\n",
        "    \n",
        "В соответствии с этой информацией проведите проверку гипотез, чтобы проверить, есть ли разница между средним числом привлеченных клиентов на этих трех платформах с использованием уровня значимости 0,05. Если есть значительная разница, выполните дальнейший анализ, чтобы найти причину разницы. Прежде чем приступать к проверке гипотез, проверьте соответствующие предположения.\n",
        "</div>"
      ]
    },
    {
      "cell_type": "code",
      "execution_count": null,
      "metadata": {
        "id": "Hrhaf-J0GZwN"
      },
      "outputs": [],
      "source": [
        "youtube=[1913, 1879, 1939, 2146, 2040, 2127, 2122, 2156, 2036, 1974, 1956, 2146, 2151, 1943, 2125]\n",
        "instagram = [2305., 2355., 2203., 2231., 2185., 2420., 2386., 2410., 2340., 2349., 2241., 2396., 2244., 2267., 2281.]\n",
        "facebook = [2133., 2522., 2124., 2551., 2293., 2367., 2460., 2311., 2178., 2113., 2048., 2443., 2265., 2095., 2528.]"
      ]
    },
    {
      "cell_type": "code",
      "source": [
        "np.mean(youtube)"
      ],
      "metadata": {
        "colab": {
          "base_uri": "https://localhost:8080/"
        },
        "id": "Rk3lIiJBI6RF",
        "outputId": "027920da-f572-429b-b5aa-159bf3895c5c"
      },
      "execution_count": null,
      "outputs": [
        {
          "output_type": "execute_result",
          "data": {
            "text/plain": [
              "2040.546842064114"
            ]
          },
          "metadata": {},
          "execution_count": 153
        }
      ]
    },
    {
      "cell_type": "code",
      "source": [
        "np.mean(instagram)"
      ],
      "metadata": {
        "colab": {
          "base_uri": "https://localhost:8080/"
        },
        "id": "QwQJ9LkwKGm3",
        "outputId": "72224f3a-1cd0-42ac-8ca2-83cf5d914956"
      },
      "execution_count": null,
      "outputs": [
        {
          "output_type": "execute_result",
          "data": {
            "text/plain": [
              "2310.305687207773"
            ]
          },
          "metadata": {},
          "execution_count": 154
        }
      ]
    },
    {
      "cell_type": "code",
      "source": [
        "np.mean(facebook)"
      ],
      "metadata": {
        "colab": {
          "base_uri": "https://localhost:8080/"
        },
        "id": "CehPX5EzKQEy",
        "outputId": "9acde880-8086-4ba4-8d20-94ce28e27872"
      },
      "execution_count": null,
      "outputs": [
        {
          "output_type": "execute_result",
          "data": {
            "text/plain": [
              "2294.806078719693"
            ]
          },
          "metadata": {},
          "execution_count": 155
        }
      ]
    },
    {
      "cell_type": "code",
      "source": [
        "df2= pd.concat([pd.Series(lst) for lst in [youtube, instagram, facebook]], axis=1)\n",
        "df2.columns = ['youtube', 'instagram', 'facebook']\n",
        "df2"
      ],
      "metadata": {
        "colab": {
          "base_uri": "https://localhost:8080/",
          "height": 514
        },
        "id": "v3QDMqhrwjXv",
        "outputId": "bf75e43b-a391-43e7-9141-5c5c8d30f651"
      },
      "execution_count": null,
      "outputs": [
        {
          "output_type": "execute_result",
          "data": {
            "text/plain": [
              "        youtube    instagram     facebook\n",
              "0   2027.813227  2306.585052  2303.427674\n",
              "1   2039.720537  2311.103683  2291.096466\n",
              "2   2035.108231  2329.892523  2295.718915\n",
              "3   2035.671892  2304.636861  2319.382565\n",
              "4   2039.720915  2293.780322  2292.911537\n",
              "5   2033.874594  2307.516621  2295.743569\n",
              "6   2057.408085  2312.032151  2302.030813\n",
              "7   2025.974731  2322.837584  2282.689883\n",
              "8   2033.517518  2314.258321  2298.836637\n",
              "9   2040.932665  2305.144148  2295.100208\n",
              "10  2054.328347  2304.335825  2295.393748\n",
              "11  2036.531578  2308.456857  2300.804970\n",
              "12  2051.039035  2316.633114  2302.783117\n",
              "13  2043.456327  2291.783365  2286.279793\n",
              "14  2042.880202  2315.060285  2297.458972"
            ],
            "text/html": [
              "\n",
              "  <div id=\"df-2d644190-3aef-4eb8-a0ea-5b2f084f3acb\" class=\"colab-df-container\">\n",
              "    <div>\n",
              "<style scoped>\n",
              "    .dataframe tbody tr th:only-of-type {\n",
              "        vertical-align: middle;\n",
              "    }\n",
              "\n",
              "    .dataframe tbody tr th {\n",
              "        vertical-align: top;\n",
              "    }\n",
              "\n",
              "    .dataframe thead th {\n",
              "        text-align: right;\n",
              "    }\n",
              "</style>\n",
              "<table border=\"1\" class=\"dataframe\">\n",
              "  <thead>\n",
              "    <tr style=\"text-align: right;\">\n",
              "      <th></th>\n",
              "      <th>youtube</th>\n",
              "      <th>instagram</th>\n",
              "      <th>facebook</th>\n",
              "    </tr>\n",
              "  </thead>\n",
              "  <tbody>\n",
              "    <tr>\n",
              "      <th>0</th>\n",
              "      <td>2027.813227</td>\n",
              "      <td>2306.585052</td>\n",
              "      <td>2303.427674</td>\n",
              "    </tr>\n",
              "    <tr>\n",
              "      <th>1</th>\n",
              "      <td>2039.720537</td>\n",
              "      <td>2311.103683</td>\n",
              "      <td>2291.096466</td>\n",
              "    </tr>\n",
              "    <tr>\n",
              "      <th>2</th>\n",
              "      <td>2035.108231</td>\n",
              "      <td>2329.892523</td>\n",
              "      <td>2295.718915</td>\n",
              "    </tr>\n",
              "    <tr>\n",
              "      <th>3</th>\n",
              "      <td>2035.671892</td>\n",
              "      <td>2304.636861</td>\n",
              "      <td>2319.382565</td>\n",
              "    </tr>\n",
              "    <tr>\n",
              "      <th>4</th>\n",
              "      <td>2039.720915</td>\n",
              "      <td>2293.780322</td>\n",
              "      <td>2292.911537</td>\n",
              "    </tr>\n",
              "    <tr>\n",
              "      <th>5</th>\n",
              "      <td>2033.874594</td>\n",
              "      <td>2307.516621</td>\n",
              "      <td>2295.743569</td>\n",
              "    </tr>\n",
              "    <tr>\n",
              "      <th>6</th>\n",
              "      <td>2057.408085</td>\n",
              "      <td>2312.032151</td>\n",
              "      <td>2302.030813</td>\n",
              "    </tr>\n",
              "    <tr>\n",
              "      <th>7</th>\n",
              "      <td>2025.974731</td>\n",
              "      <td>2322.837584</td>\n",
              "      <td>2282.689883</td>\n",
              "    </tr>\n",
              "    <tr>\n",
              "      <th>8</th>\n",
              "      <td>2033.517518</td>\n",
              "      <td>2314.258321</td>\n",
              "      <td>2298.836637</td>\n",
              "    </tr>\n",
              "    <tr>\n",
              "      <th>9</th>\n",
              "      <td>2040.932665</td>\n",
              "      <td>2305.144148</td>\n",
              "      <td>2295.100208</td>\n",
              "    </tr>\n",
              "    <tr>\n",
              "      <th>10</th>\n",
              "      <td>2054.328347</td>\n",
              "      <td>2304.335825</td>\n",
              "      <td>2295.393748</td>\n",
              "    </tr>\n",
              "    <tr>\n",
              "      <th>11</th>\n",
              "      <td>2036.531578</td>\n",
              "      <td>2308.456857</td>\n",
              "      <td>2300.804970</td>\n",
              "    </tr>\n",
              "    <tr>\n",
              "      <th>12</th>\n",
              "      <td>2051.039035</td>\n",
              "      <td>2316.633114</td>\n",
              "      <td>2302.783117</td>\n",
              "    </tr>\n",
              "    <tr>\n",
              "      <th>13</th>\n",
              "      <td>2043.456327</td>\n",
              "      <td>2291.783365</td>\n",
              "      <td>2286.279793</td>\n",
              "    </tr>\n",
              "    <tr>\n",
              "      <th>14</th>\n",
              "      <td>2042.880202</td>\n",
              "      <td>2315.060285</td>\n",
              "      <td>2297.458972</td>\n",
              "    </tr>\n",
              "  </tbody>\n",
              "</table>\n",
              "</div>\n",
              "    <div class=\"colab-df-buttons\">\n",
              "\n",
              "  <div class=\"colab-df-container\">\n",
              "    <button class=\"colab-df-convert\" onclick=\"convertToInteractive('df-2d644190-3aef-4eb8-a0ea-5b2f084f3acb')\"\n",
              "            title=\"Convert this dataframe to an interactive table.\"\n",
              "            style=\"display:none;\">\n",
              "\n",
              "  <svg xmlns=\"http://www.w3.org/2000/svg\" height=\"24px\" viewBox=\"0 -960 960 960\">\n",
              "    <path d=\"M120-120v-720h720v720H120Zm60-500h600v-160H180v160Zm220 220h160v-160H400v160Zm0 220h160v-160H400v160ZM180-400h160v-160H180v160Zm440 0h160v-160H620v160ZM180-180h160v-160H180v160Zm440 0h160v-160H620v160Z\"/>\n",
              "  </svg>\n",
              "    </button>\n",
              "\n",
              "  <style>\n",
              "    .colab-df-container {\n",
              "      display:flex;\n",
              "      gap: 12px;\n",
              "    }\n",
              "\n",
              "    .colab-df-convert {\n",
              "      background-color: #E8F0FE;\n",
              "      border: none;\n",
              "      border-radius: 50%;\n",
              "      cursor: pointer;\n",
              "      display: none;\n",
              "      fill: #1967D2;\n",
              "      height: 32px;\n",
              "      padding: 0 0 0 0;\n",
              "      width: 32px;\n",
              "    }\n",
              "\n",
              "    .colab-df-convert:hover {\n",
              "      background-color: #E2EBFA;\n",
              "      box-shadow: 0px 1px 2px rgba(60, 64, 67, 0.3), 0px 1px 3px 1px rgba(60, 64, 67, 0.15);\n",
              "      fill: #174EA6;\n",
              "    }\n",
              "\n",
              "    .colab-df-buttons div {\n",
              "      margin-bottom: 4px;\n",
              "    }\n",
              "\n",
              "    [theme=dark] .colab-df-convert {\n",
              "      background-color: #3B4455;\n",
              "      fill: #D2E3FC;\n",
              "    }\n",
              "\n",
              "    [theme=dark] .colab-df-convert:hover {\n",
              "      background-color: #434B5C;\n",
              "      box-shadow: 0px 1px 3px 1px rgba(0, 0, 0, 0.15);\n",
              "      filter: drop-shadow(0px 1px 2px rgba(0, 0, 0, 0.3));\n",
              "      fill: #FFFFFF;\n",
              "    }\n",
              "  </style>\n",
              "\n",
              "    <script>\n",
              "      const buttonEl =\n",
              "        document.querySelector('#df-2d644190-3aef-4eb8-a0ea-5b2f084f3acb button.colab-df-convert');\n",
              "      buttonEl.style.display =\n",
              "        google.colab.kernel.accessAllowed ? 'block' : 'none';\n",
              "\n",
              "      async function convertToInteractive(key) {\n",
              "        const element = document.querySelector('#df-2d644190-3aef-4eb8-a0ea-5b2f084f3acb');\n",
              "        const dataTable =\n",
              "          await google.colab.kernel.invokeFunction('convertToInteractive',\n",
              "                                                    [key], {});\n",
              "        if (!dataTable) return;\n",
              "\n",
              "        const docLinkHtml = 'Like what you see? Visit the ' +\n",
              "          '<a target=\"_blank\" href=https://colab.research.google.com/notebooks/data_table.ipynb>data table notebook</a>'\n",
              "          + ' to learn more about interactive tables.';\n",
              "        element.innerHTML = '';\n",
              "        dataTable['output_type'] = 'display_data';\n",
              "        await google.colab.output.renderOutput(dataTable, element);\n",
              "        const docLink = document.createElement('div');\n",
              "        docLink.innerHTML = docLinkHtml;\n",
              "        element.appendChild(docLink);\n",
              "      }\n",
              "    </script>\n",
              "  </div>\n",
              "\n",
              "\n",
              "<div id=\"df-60deca47-613b-48de-b0f2-a82a9f00452a\">\n",
              "  <button class=\"colab-df-quickchart\" onclick=\"quickchart('df-60deca47-613b-48de-b0f2-a82a9f00452a')\"\n",
              "            title=\"Suggest charts\"\n",
              "            style=\"display:none;\">\n",
              "\n",
              "<svg xmlns=\"http://www.w3.org/2000/svg\" height=\"24px\"viewBox=\"0 0 24 24\"\n",
              "     width=\"24px\">\n",
              "    <g>\n",
              "        <path d=\"M19 3H5c-1.1 0-2 .9-2 2v14c0 1.1.9 2 2 2h14c1.1 0 2-.9 2-2V5c0-1.1-.9-2-2-2zM9 17H7v-7h2v7zm4 0h-2V7h2v10zm4 0h-2v-4h2v4z\"/>\n",
              "    </g>\n",
              "</svg>\n",
              "  </button>\n",
              "\n",
              "<style>\n",
              "  .colab-df-quickchart {\n",
              "      --bg-color: #E8F0FE;\n",
              "      --fill-color: #1967D2;\n",
              "      --hover-bg-color: #E2EBFA;\n",
              "      --hover-fill-color: #174EA6;\n",
              "      --disabled-fill-color: #AAA;\n",
              "      --disabled-bg-color: #DDD;\n",
              "  }\n",
              "\n",
              "  [theme=dark] .colab-df-quickchart {\n",
              "      --bg-color: #3B4455;\n",
              "      --fill-color: #D2E3FC;\n",
              "      --hover-bg-color: #434B5C;\n",
              "      --hover-fill-color: #FFFFFF;\n",
              "      --disabled-bg-color: #3B4455;\n",
              "      --disabled-fill-color: #666;\n",
              "  }\n",
              "\n",
              "  .colab-df-quickchart {\n",
              "    background-color: var(--bg-color);\n",
              "    border: none;\n",
              "    border-radius: 50%;\n",
              "    cursor: pointer;\n",
              "    display: none;\n",
              "    fill: var(--fill-color);\n",
              "    height: 32px;\n",
              "    padding: 0;\n",
              "    width: 32px;\n",
              "  }\n",
              "\n",
              "  .colab-df-quickchart:hover {\n",
              "    background-color: var(--hover-bg-color);\n",
              "    box-shadow: 0 1px 2px rgba(60, 64, 67, 0.3), 0 1px 3px 1px rgba(60, 64, 67, 0.15);\n",
              "    fill: var(--button-hover-fill-color);\n",
              "  }\n",
              "\n",
              "  .colab-df-quickchart-complete:disabled,\n",
              "  .colab-df-quickchart-complete:disabled:hover {\n",
              "    background-color: var(--disabled-bg-color);\n",
              "    fill: var(--disabled-fill-color);\n",
              "    box-shadow: none;\n",
              "  }\n",
              "\n",
              "  .colab-df-spinner {\n",
              "    border: 2px solid var(--fill-color);\n",
              "    border-color: transparent;\n",
              "    border-bottom-color: var(--fill-color);\n",
              "    animation:\n",
              "      spin 1s steps(1) infinite;\n",
              "  }\n",
              "\n",
              "  @keyframes spin {\n",
              "    0% {\n",
              "      border-color: transparent;\n",
              "      border-bottom-color: var(--fill-color);\n",
              "      border-left-color: var(--fill-color);\n",
              "    }\n",
              "    20% {\n",
              "      border-color: transparent;\n",
              "      border-left-color: var(--fill-color);\n",
              "      border-top-color: var(--fill-color);\n",
              "    }\n",
              "    30% {\n",
              "      border-color: transparent;\n",
              "      border-left-color: var(--fill-color);\n",
              "      border-top-color: var(--fill-color);\n",
              "      border-right-color: var(--fill-color);\n",
              "    }\n",
              "    40% {\n",
              "      border-color: transparent;\n",
              "      border-right-color: var(--fill-color);\n",
              "      border-top-color: var(--fill-color);\n",
              "    }\n",
              "    60% {\n",
              "      border-color: transparent;\n",
              "      border-right-color: var(--fill-color);\n",
              "    }\n",
              "    80% {\n",
              "      border-color: transparent;\n",
              "      border-right-color: var(--fill-color);\n",
              "      border-bottom-color: var(--fill-color);\n",
              "    }\n",
              "    90% {\n",
              "      border-color: transparent;\n",
              "      border-bottom-color: var(--fill-color);\n",
              "    }\n",
              "  }\n",
              "</style>\n",
              "\n",
              "  <script>\n",
              "    async function quickchart(key) {\n",
              "      const quickchartButtonEl =\n",
              "        document.querySelector('#' + key + ' button');\n",
              "      quickchartButtonEl.disabled = true;  // To prevent multiple clicks.\n",
              "      quickchartButtonEl.classList.add('colab-df-spinner');\n",
              "      try {\n",
              "        const charts = await google.colab.kernel.invokeFunction(\n",
              "            'suggestCharts', [key], {});\n",
              "      } catch (error) {\n",
              "        console.error('Error during call to suggestCharts:', error);\n",
              "      }\n",
              "      quickchartButtonEl.classList.remove('colab-df-spinner');\n",
              "      quickchartButtonEl.classList.add('colab-df-quickchart-complete');\n",
              "    }\n",
              "    (() => {\n",
              "      let quickchartButtonEl =\n",
              "        document.querySelector('#df-60deca47-613b-48de-b0f2-a82a9f00452a button');\n",
              "      quickchartButtonEl.style.display =\n",
              "        google.colab.kernel.accessAllowed ? 'block' : 'none';\n",
              "    })();\n",
              "  </script>\n",
              "</div>\n",
              "    </div>\n",
              "  </div>\n"
            ],
            "application/vnd.google.colaboratory.intrinsic+json": {
              "type": "dataframe",
              "variable_name": "df2",
              "summary": "{\n  \"name\": \"df2\",\n  \"rows\": 15,\n  \"fields\": [\n    {\n      \"column\": \"youtube\",\n      \"properties\": {\n        \"dtype\": \"number\",\n        \"std\": 8.986731864383122,\n        \"min\": 2025.9747313734545,\n        \"max\": 2057.4080845033945,\n        \"num_unique_values\": 15,\n        \"samples\": [\n          2040.9326651541298,\n          2036.531577753299,\n          2027.8132269060397\n        ],\n        \"semantic_type\": \"\",\n        \"description\": \"\"\n      }\n    },\n    {\n      \"column\": \"instagram\",\n      \"properties\": {\n        \"dtype\": \"number\",\n        \"std\": 9.822737678798749,\n        \"min\": 2291.7833651154747,\n        \"max\": 2329.892523434233,\n        \"num_unique_values\": 15,\n        \"samples\": [\n          2305.1441480590292,\n          2308.456856608848,\n          2306.585051713964\n        ],\n        \"semantic_type\": \"\",\n        \"description\": \"\"\n      }\n    },\n    {\n      \"column\": \"facebook\",\n      \"properties\": {\n        \"dtype\": \"number\",\n        \"std\": 8.444529063672006,\n        \"min\": 2282.6898831341746,\n        \"max\": 2319.3825649513083,\n        \"num_unique_values\": 15,\n        \"samples\": [\n          2295.1002080387543,\n          2300.8049697255024,\n          2303.427674175282\n        ],\n        \"semantic_type\": \"\",\n        \"description\": \"\"\n      }\n    }\n  ]\n}"
            }
          },
          "metadata": {},
          "execution_count": 177
        }
      ]
    },
    {
      "cell_type": "code",
      "source": [
        "df2.describe()"
      ],
      "metadata": {
        "colab": {
          "base_uri": "https://localhost:8080/",
          "height": 297
        },
        "id": "y2m7hdvUxJRV",
        "outputId": "169e33af-eb20-428c-9ae0-9fb2fd96f00f"
      },
      "execution_count": null,
      "outputs": [
        {
          "output_type": "execute_result",
          "data": {
            "text/plain": [
              "           youtube    instagram     facebook\n",
              "count    15.000000    15.000000    15.000000\n",
              "mean   2043.533333  2307.533333  2295.400000\n",
              "std     100.948266    77.815594   175.281732\n",
              "min    1879.000000  2185.000000  2048.000000\n",
              "25%    1949.500000  2242.500000  2128.500000\n",
              "50%    2040.000000  2305.000000  2293.000000\n",
              "75%    2136.500000  2370.500000  2451.500000\n",
              "max    2156.000000  2420.000000  2551.000000"
            ],
            "text/html": [
              "\n",
              "  <div id=\"df-6bbb38e4-890d-4872-8998-9fe8041d5510\" class=\"colab-df-container\">\n",
              "    <div>\n",
              "<style scoped>\n",
              "    .dataframe tbody tr th:only-of-type {\n",
              "        vertical-align: middle;\n",
              "    }\n",
              "\n",
              "    .dataframe tbody tr th {\n",
              "        vertical-align: top;\n",
              "    }\n",
              "\n",
              "    .dataframe thead th {\n",
              "        text-align: right;\n",
              "    }\n",
              "</style>\n",
              "<table border=\"1\" class=\"dataframe\">\n",
              "  <thead>\n",
              "    <tr style=\"text-align: right;\">\n",
              "      <th></th>\n",
              "      <th>youtube</th>\n",
              "      <th>instagram</th>\n",
              "      <th>facebook</th>\n",
              "    </tr>\n",
              "  </thead>\n",
              "  <tbody>\n",
              "    <tr>\n",
              "      <th>count</th>\n",
              "      <td>15.000000</td>\n",
              "      <td>15.000000</td>\n",
              "      <td>15.000000</td>\n",
              "    </tr>\n",
              "    <tr>\n",
              "      <th>mean</th>\n",
              "      <td>2043.533333</td>\n",
              "      <td>2307.533333</td>\n",
              "      <td>2295.400000</td>\n",
              "    </tr>\n",
              "    <tr>\n",
              "      <th>std</th>\n",
              "      <td>100.948266</td>\n",
              "      <td>77.815594</td>\n",
              "      <td>175.281732</td>\n",
              "    </tr>\n",
              "    <tr>\n",
              "      <th>min</th>\n",
              "      <td>1879.000000</td>\n",
              "      <td>2185.000000</td>\n",
              "      <td>2048.000000</td>\n",
              "    </tr>\n",
              "    <tr>\n",
              "      <th>25%</th>\n",
              "      <td>1949.500000</td>\n",
              "      <td>2242.500000</td>\n",
              "      <td>2128.500000</td>\n",
              "    </tr>\n",
              "    <tr>\n",
              "      <th>50%</th>\n",
              "      <td>2040.000000</td>\n",
              "      <td>2305.000000</td>\n",
              "      <td>2293.000000</td>\n",
              "    </tr>\n",
              "    <tr>\n",
              "      <th>75%</th>\n",
              "      <td>2136.500000</td>\n",
              "      <td>2370.500000</td>\n",
              "      <td>2451.500000</td>\n",
              "    </tr>\n",
              "    <tr>\n",
              "      <th>max</th>\n",
              "      <td>2156.000000</td>\n",
              "      <td>2420.000000</td>\n",
              "      <td>2551.000000</td>\n",
              "    </tr>\n",
              "  </tbody>\n",
              "</table>\n",
              "</div>\n",
              "    <div class=\"colab-df-buttons\">\n",
              "\n",
              "  <div class=\"colab-df-container\">\n",
              "    <button class=\"colab-df-convert\" onclick=\"convertToInteractive('df-6bbb38e4-890d-4872-8998-9fe8041d5510')\"\n",
              "            title=\"Convert this dataframe to an interactive table.\"\n",
              "            style=\"display:none;\">\n",
              "\n",
              "  <svg xmlns=\"http://www.w3.org/2000/svg\" height=\"24px\" viewBox=\"0 -960 960 960\">\n",
              "    <path d=\"M120-120v-720h720v720H120Zm60-500h600v-160H180v160Zm220 220h160v-160H400v160Zm0 220h160v-160H400v160ZM180-400h160v-160H180v160Zm440 0h160v-160H620v160ZM180-180h160v-160H180v160Zm440 0h160v-160H620v160Z\"/>\n",
              "  </svg>\n",
              "    </button>\n",
              "\n",
              "  <style>\n",
              "    .colab-df-container {\n",
              "      display:flex;\n",
              "      gap: 12px;\n",
              "    }\n",
              "\n",
              "    .colab-df-convert {\n",
              "      background-color: #E8F0FE;\n",
              "      border: none;\n",
              "      border-radius: 50%;\n",
              "      cursor: pointer;\n",
              "      display: none;\n",
              "      fill: #1967D2;\n",
              "      height: 32px;\n",
              "      padding: 0 0 0 0;\n",
              "      width: 32px;\n",
              "    }\n",
              "\n",
              "    .colab-df-convert:hover {\n",
              "      background-color: #E2EBFA;\n",
              "      box-shadow: 0px 1px 2px rgba(60, 64, 67, 0.3), 0px 1px 3px 1px rgba(60, 64, 67, 0.15);\n",
              "      fill: #174EA6;\n",
              "    }\n",
              "\n",
              "    .colab-df-buttons div {\n",
              "      margin-bottom: 4px;\n",
              "    }\n",
              "\n",
              "    [theme=dark] .colab-df-convert {\n",
              "      background-color: #3B4455;\n",
              "      fill: #D2E3FC;\n",
              "    }\n",
              "\n",
              "    [theme=dark] .colab-df-convert:hover {\n",
              "      background-color: #434B5C;\n",
              "      box-shadow: 0px 1px 3px 1px rgba(0, 0, 0, 0.15);\n",
              "      filter: drop-shadow(0px 1px 2px rgba(0, 0, 0, 0.3));\n",
              "      fill: #FFFFFF;\n",
              "    }\n",
              "  </style>\n",
              "\n",
              "    <script>\n",
              "      const buttonEl =\n",
              "        document.querySelector('#df-6bbb38e4-890d-4872-8998-9fe8041d5510 button.colab-df-convert');\n",
              "      buttonEl.style.display =\n",
              "        google.colab.kernel.accessAllowed ? 'block' : 'none';\n",
              "\n",
              "      async function convertToInteractive(key) {\n",
              "        const element = document.querySelector('#df-6bbb38e4-890d-4872-8998-9fe8041d5510');\n",
              "        const dataTable =\n",
              "          await google.colab.kernel.invokeFunction('convertToInteractive',\n",
              "                                                    [key], {});\n",
              "        if (!dataTable) return;\n",
              "\n",
              "        const docLinkHtml = 'Like what you see? Visit the ' +\n",
              "          '<a target=\"_blank\" href=https://colab.research.google.com/notebooks/data_table.ipynb>data table notebook</a>'\n",
              "          + ' to learn more about interactive tables.';\n",
              "        element.innerHTML = '';\n",
              "        dataTable['output_type'] = 'display_data';\n",
              "        await google.colab.output.renderOutput(dataTable, element);\n",
              "        const docLink = document.createElement('div');\n",
              "        docLink.innerHTML = docLinkHtml;\n",
              "        element.appendChild(docLink);\n",
              "      }\n",
              "    </script>\n",
              "  </div>\n",
              "\n",
              "\n",
              "<div id=\"df-a88bd603-6cfa-4a22-8257-fef81edae2a7\">\n",
              "  <button class=\"colab-df-quickchart\" onclick=\"quickchart('df-a88bd603-6cfa-4a22-8257-fef81edae2a7')\"\n",
              "            title=\"Suggest charts\"\n",
              "            style=\"display:none;\">\n",
              "\n",
              "<svg xmlns=\"http://www.w3.org/2000/svg\" height=\"24px\"viewBox=\"0 0 24 24\"\n",
              "     width=\"24px\">\n",
              "    <g>\n",
              "        <path d=\"M19 3H5c-1.1 0-2 .9-2 2v14c0 1.1.9 2 2 2h14c1.1 0 2-.9 2-2V5c0-1.1-.9-2-2-2zM9 17H7v-7h2v7zm4 0h-2V7h2v10zm4 0h-2v-4h2v4z\"/>\n",
              "    </g>\n",
              "</svg>\n",
              "  </button>\n",
              "\n",
              "<style>\n",
              "  .colab-df-quickchart {\n",
              "      --bg-color: #E8F0FE;\n",
              "      --fill-color: #1967D2;\n",
              "      --hover-bg-color: #E2EBFA;\n",
              "      --hover-fill-color: #174EA6;\n",
              "      --disabled-fill-color: #AAA;\n",
              "      --disabled-bg-color: #DDD;\n",
              "  }\n",
              "\n",
              "  [theme=dark] .colab-df-quickchart {\n",
              "      --bg-color: #3B4455;\n",
              "      --fill-color: #D2E3FC;\n",
              "      --hover-bg-color: #434B5C;\n",
              "      --hover-fill-color: #FFFFFF;\n",
              "      --disabled-bg-color: #3B4455;\n",
              "      --disabled-fill-color: #666;\n",
              "  }\n",
              "\n",
              "  .colab-df-quickchart {\n",
              "    background-color: var(--bg-color);\n",
              "    border: none;\n",
              "    border-radius: 50%;\n",
              "    cursor: pointer;\n",
              "    display: none;\n",
              "    fill: var(--fill-color);\n",
              "    height: 32px;\n",
              "    padding: 0;\n",
              "    width: 32px;\n",
              "  }\n",
              "\n",
              "  .colab-df-quickchart:hover {\n",
              "    background-color: var(--hover-bg-color);\n",
              "    box-shadow: 0 1px 2px rgba(60, 64, 67, 0.3), 0 1px 3px 1px rgba(60, 64, 67, 0.15);\n",
              "    fill: var(--button-hover-fill-color);\n",
              "  }\n",
              "\n",
              "  .colab-df-quickchart-complete:disabled,\n",
              "  .colab-df-quickchart-complete:disabled:hover {\n",
              "    background-color: var(--disabled-bg-color);\n",
              "    fill: var(--disabled-fill-color);\n",
              "    box-shadow: none;\n",
              "  }\n",
              "\n",
              "  .colab-df-spinner {\n",
              "    border: 2px solid var(--fill-color);\n",
              "    border-color: transparent;\n",
              "    border-bottom-color: var(--fill-color);\n",
              "    animation:\n",
              "      spin 1s steps(1) infinite;\n",
              "  }\n",
              "\n",
              "  @keyframes spin {\n",
              "    0% {\n",
              "      border-color: transparent;\n",
              "      border-bottom-color: var(--fill-color);\n",
              "      border-left-color: var(--fill-color);\n",
              "    }\n",
              "    20% {\n",
              "      border-color: transparent;\n",
              "      border-left-color: var(--fill-color);\n",
              "      border-top-color: var(--fill-color);\n",
              "    }\n",
              "    30% {\n",
              "      border-color: transparent;\n",
              "      border-left-color: var(--fill-color);\n",
              "      border-top-color: var(--fill-color);\n",
              "      border-right-color: var(--fill-color);\n",
              "    }\n",
              "    40% {\n",
              "      border-color: transparent;\n",
              "      border-right-color: var(--fill-color);\n",
              "      border-top-color: var(--fill-color);\n",
              "    }\n",
              "    60% {\n",
              "      border-color: transparent;\n",
              "      border-right-color: var(--fill-color);\n",
              "    }\n",
              "    80% {\n",
              "      border-color: transparent;\n",
              "      border-right-color: var(--fill-color);\n",
              "      border-bottom-color: var(--fill-color);\n",
              "    }\n",
              "    90% {\n",
              "      border-color: transparent;\n",
              "      border-bottom-color: var(--fill-color);\n",
              "    }\n",
              "  }\n",
              "</style>\n",
              "\n",
              "  <script>\n",
              "    async function quickchart(key) {\n",
              "      const quickchartButtonEl =\n",
              "        document.querySelector('#' + key + ' button');\n",
              "      quickchartButtonEl.disabled = true;  // To prevent multiple clicks.\n",
              "      quickchartButtonEl.classList.add('colab-df-spinner');\n",
              "      try {\n",
              "        const charts = await google.colab.kernel.invokeFunction(\n",
              "            'suggestCharts', [key], {});\n",
              "      } catch (error) {\n",
              "        console.error('Error during call to suggestCharts:', error);\n",
              "      }\n",
              "      quickchartButtonEl.classList.remove('colab-df-spinner');\n",
              "      quickchartButtonEl.classList.add('colab-df-quickchart-complete');\n",
              "    }\n",
              "    (() => {\n",
              "      let quickchartButtonEl =\n",
              "        document.querySelector('#df-a88bd603-6cfa-4a22-8257-fef81edae2a7 button');\n",
              "      quickchartButtonEl.style.display =\n",
              "        google.colab.kernel.accessAllowed ? 'block' : 'none';\n",
              "    })();\n",
              "  </script>\n",
              "</div>\n",
              "    </div>\n",
              "  </div>\n"
            ],
            "application/vnd.google.colaboratory.intrinsic+json": {
              "type": "dataframe",
              "summary": "{\n  \"name\": \"df2\",\n  \"rows\": 8,\n  \"fields\": [\n    {\n      \"column\": \"youtube\",\n      \"properties\": {\n        \"dtype\": \"number\",\n        \"std\": 919.465697511746,\n        \"min\": 15.0,\n        \"max\": 2156.0,\n        \"num_unique_values\": 8,\n        \"samples\": [\n          2043.5333333333333,\n          2040.0,\n          15.0\n        ],\n        \"semantic_type\": \"\",\n        \"description\": \"\"\n      }\n    },\n    {\n      \"column\": \"instagram\",\n      \"properties\": {\n        \"dtype\": \"number\",\n        \"std\": 1048.1453812835198,\n        \"min\": 15.0,\n        \"max\": 2420.0,\n        \"num_unique_values\": 8,\n        \"samples\": [\n          2307.5333333333333,\n          2305.0,\n          15.0\n        ],\n        \"semantic_type\": \"\",\n        \"description\": \"\"\n      }\n    },\n    {\n      \"column\": \"facebook\",\n      \"properties\": {\n        \"dtype\": \"number\",\n        \"std\": 1031.4911832481966,\n        \"min\": 15.0,\n        \"max\": 2551.0,\n        \"num_unique_values\": 8,\n        \"samples\": [\n          2295.4,\n          2293.0,\n          15.0\n        ],\n        \"semantic_type\": \"\",\n        \"description\": \"\"\n      }\n    }\n  ]\n}"
            }
          },
          "metadata": {},
          "execution_count": 143
        }
      ]
    },
    {
      "cell_type": "code",
      "source": [
        "df2.isna().sum()"
      ],
      "metadata": {
        "colab": {
          "base_uri": "https://localhost:8080/"
        },
        "id": "0HHktHxVK3An",
        "outputId": "10131f4a-510c-4647-b42d-1a83c61f0275"
      },
      "execution_count": null,
      "outputs": [
        {
          "output_type": "execute_result",
          "data": {
            "text/plain": [
              "youtube      0\n",
              "instagram    0\n",
              "facebook     0\n",
              "dtype: int64"
            ]
          },
          "metadata": {},
          "execution_count": 156
        }
      ]
    },
    {
      "cell_type": "code",
      "source": [
        "# Определимся с распределением данных\n",
        "sns.kdeplot(youtube, label=\"youtube\", fill = True, color = '#000000')\n",
        "sns.kdeplot(instagram, label=\"instagram\", fill = True, color = '#B22222')\n",
        "sns.kdeplot(facebook, label=\"facebook\", fill = True, color = '#0088d4')\n",
        "plt.legend()\n",
        "plt.show()"
      ],
      "metadata": {
        "colab": {
          "base_uri": "https://localhost:8080/",
          "height": 433
        },
        "id": "NLzwjDSKMahK",
        "outputId": "ce66009a-63c4-436f-d158-3cbabfcca9da"
      },
      "execution_count": null,
      "outputs": [
        {
          "output_type": "display_data",
          "data": {
            "text/plain": [
              "<Figure size 640x480 with 1 Axes>"
            ],
            "image/png": "[encoded data removed]"
          },
          "metadata": {}
        }
      ]
    },
    {
      "cell_type": "code",
      "source": [
        "plt.boxplot(youtube);\n",
        "plt.boxplot(instagram);\n",
        "plt.boxplot(facebook);"
      ],
      "metadata": {
        "colab": {
          "base_uri": "https://localhost:8080/",
          "height": 430
        },
        "id": "gyrvO4H_NMtp",
        "outputId": "c06eec78-9f91-4ded-bdb8-ac930c773e07"
      },
      "execution_count": null,
      "outputs": [
        {
          "output_type": "display_data",
          "data": {
            "text/plain": [
              "<Figure size 640x480 with 1 Axes>"
            ],
            "image/png": "[encoded data removed]"
          },
          "metadata": {}
        }
      ]
    },
    {
      "cell_type": "markdown",
      "source": [
        "По наблюдениям видно, что среднее значение youtube значительно ниже instagram и facebook. Средние значения instagram и facebook находятся рядом."
      ],
      "metadata": {
        "id": "7hmP1OzBNdr0"
      }
    },
    {
      "cell_type": "code",
      "execution_count": null,
      "metadata": {
        "colab": {
          "base_uri": "https://localhost:8080/"
        },
        "id": "WtqurRojApGA",
        "outputId": "5fcf318f-8b09-4694-ff47-7c10a61372f6"
      },
      "outputs": [
        {
          "output_type": "stream",
          "name": "stdout",
          "text": [
            "Статистика = -83.27194, p = 0.00000\n",
            "Отклоняем нулевую гипотезу, средние, вероятно, различаются\n"
          ]
        }
      ],
      "source": [
        "#np.random.seed(42) #фиксация случайности\n",
        "\n",
        "# Генерируем случайное множество с нормальным распределением, где среднее = loc, а стандартное отклонение = scale\n",
        "youtube = st.norm.rvs(loc=2041, scale=10, size=15)\n",
        "instagram = st.norm.rvs(loc=2310, scale=10, size=15)\n",
        "facebook = st.norm.rvs(loc=2295, scale=10, size=15)\n",
        "\n",
        "stat, p = st.ttest_ind(youtube, instagram)\n",
        "\n",
        "print(f\"Статистика = {stat:.5f}, p = {p:.5f}\")\n",
        "\n",
        "if p > 0.05:\n",
        "    print('Не отклоняем нулевую гипотезу, средние, вероятно, одинаковые')\n",
        "else:\n",
        "    print('Отклоняем нулевую гипотезу, средние, вероятно, различаются')"
      ]
    },
    {
      "cell_type": "code",
      "source": [
        "youtube = st.norm.rvs(loc=2041, scale=10, size=15)\n",
        "instagram = st.norm.rvs(loc=2310, scale=10, size=15)\n",
        "facebook = st.norm.rvs(loc=2295, scale=10, size=15)\n",
        "\n",
        "stat, p = st.ttest_ind(youtube, facebook)\n",
        "\n",
        "print(f\"Статистика = {stat:.5f}, p = {p:.5f}\")\n",
        "\n",
        "if p > 0.05:\n",
        "    print('Не отклоняем нулевую гипотезу, средние, вероятно, одинаковые')\n",
        "else:\n",
        "    print('Отклоняем нулевую гипотезу, средние, вероятно, различаются')"
      ],
      "metadata": {
        "colab": {
          "base_uri": "https://localhost:8080/"
        },
        "id": "fRMjcw9BPRv2",
        "outputId": "fa2e12a8-674d-4815-81e9-c438813ad3f4"
      },
      "execution_count": null,
      "outputs": [
        {
          "output_type": "stream",
          "name": "stdout",
          "text": [
            "Статистика = -57.35275, p = 0.00000\n",
            "Отклоняем нулевую гипотезу, средние, вероятно, различаются\n"
          ]
        }
      ]
    },
    {
      "cell_type": "code",
      "source": [
        "youtube = st.norm.rvs(loc=2041, scale=10, size=15)\n",
        "instagram = st.norm.rvs(loc=2310, scale=10, size=15)\n",
        "facebook = st.norm.rvs(loc=2295, scale=10, size=15)\n",
        "\n",
        "stat, p = st.ttest_ind(instagram, facebook)\n",
        "\n",
        "print(f\"Статистика = {stat:.5f}, p = {p:.5f}\")\n",
        "\n",
        "if p > 0.05:\n",
        "    print('Не отклоняем нулевую гипотезу, средние, вероятно, одинаковые')\n",
        "else:\n",
        "    print('Отклоняем нулевую гипотезу, средние, вероятно, различаются')"
      ],
      "metadata": {
        "colab": {
          "base_uri": "https://localhost:8080/"
        },
        "id": "AWpb0qKSPXu5",
        "outputId": "a163cc5d-f52e-4f05-8baf-83026fb0c5ea"
      },
      "execution_count": null,
      "outputs": [
        {
          "output_type": "stream",
          "name": "stdout",
          "text": [
            "Статистика = 3.67552, p = 0.00100\n",
            "Отклоняем нулевую гипотезу, средние, вероятно, различаются\n"
          ]
        }
      ]
    },
    {
      "cell_type": "code",
      "source": [
        "fvalue, pvalue = st.f_oneway(youtube, instagram, facebook)\n",
        "\n",
        "print(f\"Статистика = {fvalue:.5f}, p={pvalue:.5f}\")\n",
        "\n",
        "if pvalue > 0.05:\n",
        "    print('Не отклоняем нулевую гипотезу, среднее, вероятно одинаковые')\n",
        "else:\n",
        "    print('Отклоняем нулевую гипотезу, среднее, вероятно, различаются')"
      ],
      "metadata": {
        "colab": {
          "base_uri": "https://localhost:8080/"
        },
        "id": "dZ16okUQVPQA",
        "outputId": "d705a643-3ecd-4f39-9d09-8971b16fb08c"
      },
      "execution_count": null,
      "outputs": [
        {
          "output_type": "stream",
          "name": "stdout",
          "text": [
            "Статистика = 4199.87654, p=0.00000\n",
            "Отклоняем нулевую гипотезу, среднее, вероятно, различаются\n"
          ]
        }
      ]
    },
    {
      "cell_type": "markdown",
      "source": [
        "Средние всех трех категорий отличаются"
      ],
      "metadata": {
        "id": "jGdNth3hQHOx"
      }
    },
    {
      "cell_type": "code",
      "source": [
        "stat, p = st.shapiro(youtube)\n",
        "\n",
        "print(f'stat = {stat:.3f}, p = {p:.5f}')\n",
        "if p > 0.05:\n",
        "    print('Вероятно нормальное распределение')\n",
        "else:\n",
        "    print('Вероятно не нормальное распределение')"
      ],
      "metadata": {
        "colab": {
          "base_uri": "https://localhost:8080/"
        },
        "id": "xK4EIaYdPieS",
        "outputId": "6c46cc6d-1064-451d-c74c-fa3d94fe9c09"
      },
      "execution_count": null,
      "outputs": [
        {
          "output_type": "stream",
          "name": "stdout",
          "text": [
            "stat = 0.950, p = 0.52953\n",
            "Вероятно нормальное распределение\n"
          ]
        }
      ]
    },
    {
      "cell_type": "code",
      "source": [
        "stat, p = st.shapiro(instagram)\n",
        "\n",
        "print(f'stat = {stat:.3f}, p = {p:.5f}')\n",
        "if p > 0.05:\n",
        "    print('Вероятно нормальное распределение')\n",
        "else:\n",
        "    print('Вероятно не нормальное распределение')"
      ],
      "metadata": {
        "colab": {
          "base_uri": "https://localhost:8080/"
        },
        "id": "x-tVb5Z3P34d",
        "outputId": "106a6115-8abb-4935-be87-063971d23691"
      },
      "execution_count": null,
      "outputs": [
        {
          "output_type": "stream",
          "name": "stdout",
          "text": [
            "stat = 0.966, p = 0.80264\n",
            "Вероятно нормальное распределение\n"
          ]
        }
      ]
    },
    {
      "cell_type": "code",
      "source": [
        "stat, p = st.shapiro(facebook)\n",
        "\n",
        "print(f'stat = {stat:.3f}, p = {p:.5f}')\n",
        "if p > 0.05:\n",
        "    print('Вероятно нормальное распределение')\n",
        "else:\n",
        "    print('Вероятно не нормальное распределение')"
      ],
      "metadata": {
        "colab": {
          "base_uri": "https://localhost:8080/"
        },
        "id": "t9z7Z22cP8t1",
        "outputId": "73405a74-b335-4d54-efcb-cbb0522ec898"
      },
      "execution_count": null,
      "outputs": [
        {
          "output_type": "stream",
          "name": "stdout",
          "text": [
            "stat = 0.922, p = 0.20920\n",
            "Вероятно нормальное распределение\n"
          ]
        }
      ]
    },
    {
      "cell_type": "code",
      "source": [
        "chi, pval, dof, exp = st.chi2_contingency(df2.values) #Критерий Пирсона (хи квадрат)\n",
        "significance = 0.05\n",
        "\n",
        "print(f\"p-value = {pval:.6f}, уровень значимости = {significance:.2f}\")\n",
        "\n",
        "print(pval)\n",
        "if pval > significance:\n",
        "    print(f\"На уровене значимости {significance:.2f}, мы отвергаем нулевые гипотезы и принимаем H1. Они не независимы.\")\n",
        "else:\n",
        "    print(f\"На уровене значимости {significance:.2f}, мы не отвергаем нулевые гипотезы. Они независимы.\")\n",
        "\n",
        "# Возвращает:\n",
        "# chi2 : Посчитанную статистику теста.\n",
        "# p :  p-value теста\n",
        "# dof : Степени свободы\n",
        "# expected : Ожидаемые частоты, основанные на предельных суммах таблицы."
      ],
      "metadata": {
        "colab": {
          "base_uri": "https://localhost:8080/"
        },
        "id": "hPAoY9sIYwzf",
        "outputId": "02dd590f-e380-4c82-8606-f691cbc76e84"
      },
      "execution_count": null,
      "outputs": [
        {
          "output_type": "stream",
          "name": "stdout",
          "text": [
            "p-value = 1.000000, уровень значимости = 0.05\n",
            "0.9999999999999984\n",
            "На уровене значимости 0.05, мы отвергаем нулевые гипотезы и принимаем H1. Они не независимы.\n"
          ]
        }
      ]
    },
    {
      "cell_type": "markdown",
      "source": [
        "А в 6 задаче исходя из распределений выборок корректнее было применить kruskal и posthoc_dunn, а не Anova."
      ],
      "metadata": {
        "id": "jaUhFmS8luC0"
      }
    }
  ],
  "metadata": {
    "colab": {
      "provenance": [],
      "include_colab_link": true
    },
    "kernelspec": {
      "display_name": "Python 3 (ipykernel)",
      "language": "python",
      "name": "python3"
    },
    "language_info": {
      "codemirror_mode": {
        "name": "ipython",
        "version": 3
      },
      "file_extension": ".py",
      "mimetype": "text/x-python",
      "name": "python",
      "nbconvert_exporter": "python",
      "pygments_lexer": "ipython3",
      "version": "3.10.9"
    },
    "toc": {
      "base_numbering": 1,
      "nav_menu": {},
      "number_sections": true,
      "sideBar": true,
      "skip_h1_title": false,
      "title_cell": "Table of Contents",
      "title_sidebar": "Contents",
      "toc_cell": false,
      "toc_position": {},
      "toc_section_display": true,
      "toc_window_display": false
    }
  },
  "nbformat": 4,
  "nbformat_minor": 0
}