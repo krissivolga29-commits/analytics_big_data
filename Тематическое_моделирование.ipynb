{
  "nbformat": 4,
  "nbformat_minor": 0,
  "metadata": {
    "colab": {
      "provenance": [],
      "mount_file_id": "1kIcyd28ty1SDkgGY43Fr83tRyOmtLX3l",
      "authorship_tag": "ABX9TyNfad107MULAaxcElsalUvT",
      "include_colab_link": true
    },
    "kernelspec": {
      "name": "python3",
      "display_name": "Python 3"
    },
    "language_info": {
      "name": "python"
    }
  },
  "cells": [
    {
      "cell_type": "markdown",
      "metadata": {
        "id": "view-in-github",
        "colab_type": "text"
      },
      "source": [
        "<a href=\"https://colab.research.google.com/github/krissivolga29-commits/analytics_big_data/blob/main/%D0%A2%D0%B5%D0%BC%D0%B0%D1%82%D0%B8%D1%87%D0%B5%D1%81%D0%BA%D0%BE%D0%B5_%D0%BC%D0%BE%D0%B4%D0%B5%D0%BB%D0%B8%D1%80%D0%BE%D0%B2%D0%B0%D0%BD%D0%B8%D0%B5.ipynb\" target=\"_parent\"><img src=\"https://colab.research.google.com/assets/colab-badge.svg\" alt=\"Open In Colab\"/></a>"
      ]
    },
    {
      "cell_type": "markdown",
      "source": [
        "# Классификация по тональности\n",
        "\n",
        "В этом домашнем задании вам предстоит классифицировать по тональности отзывы на банки с сайта banki.ru.\n",
        "\n",
        "Данные содержат непосредственно тексты отзывов, некоторую дополнительную информацию, а также оценку по шкале от 1 до 5.\n",
        "\n",
        "Тексты хранятся в json-ах в массиве responses.\n",
        "\n",
        "Посмотрим на примере отзыва: возьмите для удобства ноутбук, размещенный в папке репозитория.\n"
      ],
      "metadata": {
        "id": "63nXxnXQda_w"
      }
    },
    {
      "cell_type": "code",
      "source": [
        "import warnings\n",
        "warnings.filterwarnings('ignore')"
      ],
      "metadata": {
        "id": "gLsjbmnSNrFG"
      },
      "execution_count": null,
      "outputs": []
    },
    {
      "cell_type": "code",
      "execution_count": null,
      "metadata": {
        "id": "IWS1TbzBNgoY"
      },
      "outputs": [],
      "source": [
        "import bz2\n",
        "import gdown\n",
        "import json\n",
        "import matplotlib.pyplot as plt\n",
        "%matplotlib inline\n",
        "import numpy as np\n",
        "import pandas as pd\n",
        "import re\n",
        "import regex\n",
        "import seaborn as sns\n",
        "\n",
        "from collections import Counter\n",
        "from nltk.corpus import stopwords\n",
        "from nltk.tokenize import word_tokenize\n",
        "from scipy import sparse\n",
        "from string import punctuation\n",
        "from tqdm import tqdm\n",
        "\n",
        "from sklearn.decomposition import TruncatedSVD, LatentDirichletAllocation\n",
        "from sklearn.ensemble import RandomForestClassifier\n",
        "from sklearn.feature_extraction.text import CountVectorizer, TfidfTransformer, TfidfVectorizer\n",
        "from sklearn.metrics  import classification_report\n",
        "from sklearn.model_selection import train_test_split\n",
        "from sklearn.pipeline import Pipeline"
      ]
    },
    {
      "cell_type": "markdown",
      "source": [
        "# Скачивание данных"
      ],
      "metadata": {
        "id": "UbY0LhqfhLrW"
      }
    },
    {
      "cell_type": "code",
      "source": [
        "responses = []\n",
        "with bz2.BZ2File('banki_responses.json.bz2', 'r') as thefile:\n",
        "    for row in tqdm(thefile):\n",
        "        resp = json.loads(row)\n",
        "        if not resp['rating_not_checked'] and (len(resp['text'].split()) > 0):\n",
        "            responses.append(resp)"
      ],
      "metadata": {
        "colab": {
          "base_uri": "https://localhost:8080/"
        },
        "id": "PhxhyQpAiyFW",
        "outputId": "a3f123e8-d93c-49d2-df64-a93e28146e31"
      },
      "execution_count": null,
      "outputs": [
        {
          "output_type": "stream",
          "name": "stderr",
          "text": [
            "201030it [01:33, 2153.00it/s]\n"
          ]
        }
      ]
    },
    {
      "cell_type": "code",
      "source": [
        "size = len(responses)\n",
        "size"
      ],
      "metadata": {
        "colab": {
          "base_uri": "https://localhost:8080/"
        },
        "id": "IadZALdejQqj",
        "outputId": "14f3a8c6-6288-43ec-971c-00bca1ef6021"
      },
      "execution_count": null,
      "outputs": [
        {
          "output_type": "execute_result",
          "data": {
            "text/plain": [
              "153499"
            ]
          },
          "metadata": {},
          "execution_count": 5
        }
      ]
    },
    {
      "cell_type": "code",
      "source": [
        "# Посмотрим на пример отзыва:\n",
        "responses[29]"
      ],
      "metadata": {
        "colab": {
          "base_uri": "https://localhost:8080/"
        },
        "id": "XoGZYNaBjSJP",
        "outputId": "1aac69d0-aaee-43c8-cbec-efb95558ad5e"
      },
      "execution_count": null,
      "outputs": [
        {
          "output_type": "execute_result",
          "data": {
            "text/plain": [
              "{'city': 'г. Салават (Республика Башкортостан)',\n",
              " 'rating_not_checked': False,\n",
              " 'title': 'Нужен стационарный номер телефона офиса',\n",
              " 'num_comments': 1,\n",
              " 'bank_license': 'лицензия № 2562',\n",
              " 'author': 'S_OM',\n",
              " 'bank_name': 'Бинбанк',\n",
              " 'datetime': '2015-06-05 19:02:55',\n",
              " 'text': 'Здравствуйте, подскажите мне, пожалуйста, стационарный номер телефона офиса, который располагается в республике Башкортостан, г.Салават по адресу ул.Островского 13/32. Позвонила на горячую линию, мне там ответили, что у них нет контактного номера телефона, в интернете тоже не нашла, может здесь чем помогут?',\n",
              " 'rating_grade': None}"
            ]
          },
          "metadata": {},
          "execution_count": 6
        }
      ]
    },
    {
      "cell_type": "markdown",
      "source": [
        "# Часть 1. Анализ текстов"
      ],
      "metadata": {
        "id": "gmkXCIm4jifG"
      }
    },
    {
      "cell_type": "markdown",
      "source": [
        "### 1.1 Посчитать количество отзывов в разных городах и на разные банки"
      ],
      "metadata": {
        "id": "V3XvAzA6jjsE"
      }
    },
    {
      "cell_type": "code",
      "source": [
        "df = pd.DataFrame(responses)\n",
        "df.head()"
      ],
      "metadata": {
        "colab": {
          "base_uri": "https://localhost:8080/",
          "height": 530
        },
        "id": "4Na1M16zjdl2",
        "outputId": "420795d0-737f-448d-81ce-1965ebe1f722"
      },
      "execution_count": null,
      "outputs": [
        {
          "output_type": "execute_result",
          "data": {
            "text/plain": [
              "             city  rating_not_checked  \\\n",
              "0       г. Москва               False   \n",
              "1  г. Новосибирск               False   \n",
              "2       г. Москва               False   \n",
              "3   г. Ставрополь               False   \n",
              "4    г. Челябинск               False   \n",
              "\n",
              "                                               title  num_comments  \\\n",
              "0                                             Жалоба             0   \n",
              "1      Не могу пользоваться услугой Сбербанк он-лайн             0   \n",
              "2                    Двойное списание за один товар.             1   \n",
              "3  Меняют проценты комиссии  не предупредив и не ...             2   \n",
              "4             Верните денежные средства за страховку             1   \n",
              "\n",
              "      bank_license       author        bank_name             datetime  \\\n",
              "0  лицензия № 2562       uhnov1          Бинбанк  2015-06-08 12:50:54   \n",
              "1  лицензия № 1481       Foryou  Сбербанк России  2015-06-08 11:09:57   \n",
              "2  лицензия № 2562   Vladimir84          Бинбанк  2015-06-05 20:14:28   \n",
              "3  лицензия № 1481       643609  Сбербанк России  2015-06-05 13:51:01   \n",
              "4  лицензия № 2766  anfisa-2003         ОТП Банк  2015-06-05 10:58:12   \n",
              "\n",
              "                                                text  rating_grade  \n",
              "0  Добрый день! Я не являюсь клиентом банка и пор...           NaN  \n",
              "1  Доброго дня! Являюсь держателем зарплатной кар...           NaN  \n",
              "2  Здравствуйте!  Дублирую свое заявление от 03.0...           NaN  \n",
              "3  Добрый день!! Я открыл расчетный счет в СберБа...           NaN  \n",
              "4  04.03.2015 г. взяла кредит в вашем банке, заяв...           NaN  "
            ],
            "text/html": [
              "\n",
              "  <div id=\"df-c0a5f214-797b-4169-8b98-ecf2d76364fb\" class=\"colab-df-container\">\n",
              "    <div>\n",
              "<style scoped>\n",
              "    .dataframe tbody tr th:only-of-type {\n",
              "        vertical-align: middle;\n",
              "    }\n",
              "\n",
              "    .dataframe tbody tr th {\n",
              "        vertical-align: top;\n",
              "    }\n",
              "\n",
              "    .dataframe thead th {\n",
              "        text-align: right;\n",
              "    }\n",
              "</style>\n",
              "<table border=\"1\" class=\"dataframe\">\n",
              "  <thead>\n",
              "    <tr style=\"text-align: right;\">\n",
              "      <th></th>\n",
              "      <th>city</th>\n",
              "      <th>rating_not_checked</th>\n",
              "      <th>title</th>\n",
              "      <th>num_comments</th>\n",
              "      <th>bank_license</th>\n",
              "      <th>author</th>\n",
              "      <th>bank_name</th>\n",
              "      <th>datetime</th>\n",
              "      <th>text</th>\n",
              "      <th>rating_grade</th>\n",
              "    </tr>\n",
              "  </thead>\n",
              "  <tbody>\n",
              "    <tr>\n",
              "      <th>0</th>\n",
              "      <td>г. Москва</td>\n",
              "      <td>False</td>\n",
              "      <td>Жалоба</td>\n",
              "      <td>0</td>\n",
              "      <td>лицензия № 2562</td>\n",
              "      <td>uhnov1</td>\n",
              "      <td>Бинбанк</td>\n",
              "      <td>2015-06-08 12:50:54</td>\n",
              "      <td>Добрый день! Я не являюсь клиентом банка и пор...</td>\n",
              "      <td>NaN</td>\n",
              "    </tr>\n",
              "    <tr>\n",
              "      <th>1</th>\n",
              "      <td>г. Новосибирск</td>\n",
              "      <td>False</td>\n",
              "      <td>Не могу пользоваться услугой Сбербанк он-лайн</td>\n",
              "      <td>0</td>\n",
              "      <td>лицензия № 1481</td>\n",
              "      <td>Foryou</td>\n",
              "      <td>Сбербанк России</td>\n",
              "      <td>2015-06-08 11:09:57</td>\n",
              "      <td>Доброго дня! Являюсь держателем зарплатной кар...</td>\n",
              "      <td>NaN</td>\n",
              "    </tr>\n",
              "    <tr>\n",
              "      <th>2</th>\n",
              "      <td>г. Москва</td>\n",
              "      <td>False</td>\n",
              "      <td>Двойное списание за один товар.</td>\n",
              "      <td>1</td>\n",
              "      <td>лицензия № 2562</td>\n",
              "      <td>Vladimir84</td>\n",
              "      <td>Бинбанк</td>\n",
              "      <td>2015-06-05 20:14:28</td>\n",
              "      <td>Здравствуйте!  Дублирую свое заявление от 03.0...</td>\n",
              "      <td>NaN</td>\n",
              "    </tr>\n",
              "    <tr>\n",
              "      <th>3</th>\n",
              "      <td>г. Ставрополь</td>\n",
              "      <td>False</td>\n",
              "      <td>Меняют проценты комиссии  не предупредив и не ...</td>\n",
              "      <td>2</td>\n",
              "      <td>лицензия № 1481</td>\n",
              "      <td>643609</td>\n",
              "      <td>Сбербанк России</td>\n",
              "      <td>2015-06-05 13:51:01</td>\n",
              "      <td>Добрый день!! Я открыл расчетный счет в СберБа...</td>\n",
              "      <td>NaN</td>\n",
              "    </tr>\n",
              "    <tr>\n",
              "      <th>4</th>\n",
              "      <td>г. Челябинск</td>\n",
              "      <td>False</td>\n",
              "      <td>Верните денежные средства за страховку</td>\n",
              "      <td>1</td>\n",
              "      <td>лицензия № 2766</td>\n",
              "      <td>anfisa-2003</td>\n",
              "      <td>ОТП Банк</td>\n",
              "      <td>2015-06-05 10:58:12</td>\n",
              "      <td>04.03.2015 г. взяла кредит в вашем банке, заяв...</td>\n",
              "      <td>NaN</td>\n",
              "    </tr>\n",
              "  </tbody>\n",
              "</table>\n",
              "</div>\n",
              "    <div class=\"colab-df-buttons\">\n",
              "\n",
              "  <div class=\"colab-df-container\">\n",
              "    <button class=\"colab-df-convert\" onclick=\"convertToInteractive('df-c0a5f214-797b-4169-8b98-ecf2d76364fb')\"\n",
              "            title=\"Convert this dataframe to an interactive table.\"\n",
              "            style=\"display:none;\">\n",
              "\n",
              "  <svg xmlns=\"http://www.w3.org/2000/svg\" height=\"24px\" viewBox=\"0 -960 960 960\">\n",
              "    <path d=\"M120-120v-720h720v720H120Zm60-500h600v-160H180v160Zm220 220h160v-160H400v160Zm0 220h160v-160H400v160ZM180-400h160v-160H180v160Zm440 0h160v-160H620v160ZM180-180h160v-160H180v160Zm440 0h160v-160H620v160Z\"/>\n",
              "  </svg>\n",
              "    </button>\n",
              "\n",
              "  <style>\n",
              "    .colab-df-container {\n",
              "      display:flex;\n",
              "      gap: 12px;\n",
              "    }\n",
              "\n",
              "    .colab-df-convert {\n",
              "      background-color: #E8F0FE;\n",
              "      border: none;\n",
              "      border-radius: 50%;\n",
              "      cursor: pointer;\n",
              "      display: none;\n",
              "      fill: #1967D2;\n",
              "      height: 32px;\n",
              "      padding: 0 0 0 0;\n",
              "      width: 32px;\n",
              "    }\n",
              "\n",
              "    .colab-df-convert:hover {\n",
              "      background-color: #E2EBFA;\n",
              "      box-shadow: 0px 1px 2px rgba(60, 64, 67, 0.3), 0px 1px 3px 1px rgba(60, 64, 67, 0.15);\n",
              "      fill: #174EA6;\n",
              "    }\n",
              "\n",
              "    .colab-df-buttons div {\n",
              "      margin-bottom: 4px;\n",
              "    }\n",
              "\n",
              "    [theme=dark] .colab-df-convert {\n",
              "      background-color: #3B4455;\n",
              "      fill: #D2E3FC;\n",
              "    }\n",
              "\n",
              "    [theme=dark] .colab-df-convert:hover {\n",
              "      background-color: #434B5C;\n",
              "      box-shadow: 0px 1px 3px 1px rgba(0, 0, 0, 0.15);\n",
              "      filter: drop-shadow(0px 1px 2px rgba(0, 0, 0, 0.3));\n",
              "      fill: #FFFFFF;\n",
              "    }\n",
              "  </style>\n",
              "\n",
              "    <script>\n",
              "      const buttonEl =\n",
              "        document.querySelector('#df-c0a5f214-797b-4169-8b98-ecf2d76364fb button.colab-df-convert');\n",
              "      buttonEl.style.display =\n",
              "        google.colab.kernel.accessAllowed ? 'block' : 'none';\n",
              "\n",
              "      async function convertToInteractive(key) {\n",
              "        const element = document.querySelector('#df-c0a5f214-797b-4169-8b98-ecf2d76364fb');\n",
              "        const dataTable =\n",
              "          await google.colab.kernel.invokeFunction('convertToInteractive',\n",
              "                                                    [key], {});\n",
              "        if (!dataTable) return;\n",
              "\n",
              "        const docLinkHtml = 'Like what you see? Visit the ' +\n",
              "          '<a target=\"_blank\" href=https://colab.research.google.com/notebooks/data_table.ipynb>data table notebook</a>'\n",
              "          + ' to learn more about interactive tables.';\n",
              "        element.innerHTML = '';\n",
              "        dataTable['output_type'] = 'display_data';\n",
              "        await google.colab.output.renderOutput(dataTable, element);\n",
              "        const docLink = document.createElement('div');\n",
              "        docLink.innerHTML = docLinkHtml;\n",
              "        element.appendChild(docLink);\n",
              "      }\n",
              "    </script>\n",
              "  </div>\n",
              "\n",
              "\n",
              "<div id=\"df-bfba7bcb-0879-4c39-8d0b-8a2d24eaf36f\">\n",
              "  <button class=\"colab-df-quickchart\" onclick=\"quickchart('df-bfba7bcb-0879-4c39-8d0b-8a2d24eaf36f')\"\n",
              "            title=\"Suggest charts\"\n",
              "            style=\"display:none;\">\n",
              "\n",
              "<svg xmlns=\"http://www.w3.org/2000/svg\" height=\"24px\"viewBox=\"0 0 24 24\"\n",
              "     width=\"24px\">\n",
              "    <g>\n",
              "        <path d=\"M19 3H5c-1.1 0-2 .9-2 2v14c0 1.1.9 2 2 2h14c1.1 0 2-.9 2-2V5c0-1.1-.9-2-2-2zM9 17H7v-7h2v7zm4 0h-2V7h2v10zm4 0h-2v-4h2v4z\"/>\n",
              "    </g>\n",
              "</svg>\n",
              "  </button>\n",
              "\n",
              "<style>\n",
              "  .colab-df-quickchart {\n",
              "      --bg-color: #E8F0FE;\n",
              "      --fill-color: #1967D2;\n",
              "      --hover-bg-color: #E2EBFA;\n",
              "      --hover-fill-color: #174EA6;\n",
              "      --disabled-fill-color: #AAA;\n",
              "      --disabled-bg-color: #DDD;\n",
              "  }\n",
              "\n",
              "  [theme=dark] .colab-df-quickchart {\n",
              "      --bg-color: #3B4455;\n",
              "      --fill-color: #D2E3FC;\n",
              "      --hover-bg-color: #434B5C;\n",
              "      --hover-fill-color: #FFFFFF;\n",
              "      --disabled-bg-color: #3B4455;\n",
              "      --disabled-fill-color: #666;\n",
              "  }\n",
              "\n",
              "  .colab-df-quickchart {\n",
              "    background-color: var(--bg-color);\n",
              "    border: none;\n",
              "    border-radius: 50%;\n",
              "    cursor: pointer;\n",
              "    display: none;\n",
              "    fill: var(--fill-color);\n",
              "    height: 32px;\n",
              "    padding: 0;\n",
              "    width: 32px;\n",
              "  }\n",
              "\n",
              "  .colab-df-quickchart:hover {\n",
              "    background-color: var(--hover-bg-color);\n",
              "    box-shadow: 0 1px 2px rgba(60, 64, 67, 0.3), 0 1px 3px 1px rgba(60, 64, 67, 0.15);\n",
              "    fill: var(--button-hover-fill-color);\n",
              "  }\n",
              "\n",
              "  .colab-df-quickchart-complete:disabled,\n",
              "  .colab-df-quickchart-complete:disabled:hover {\n",
              "    background-color: var(--disabled-bg-color);\n",
              "    fill: var(--disabled-fill-color);\n",
              "    box-shadow: none;\n",
              "  }\n",
              "\n",
              "  .colab-df-spinner {\n",
              "    border: 2px solid var(--fill-color);\n",
              "    border-color: transparent;\n",
              "    border-bottom-color: var(--fill-color);\n",
              "    animation:\n",
              "      spin 1s steps(1) infinite;\n",
              "  }\n",
              "\n",
              "  @keyframes spin {\n",
              "    0% {\n",
              "      border-color: transparent;\n",
              "      border-bottom-color: var(--fill-color);\n",
              "      border-left-color: var(--fill-color);\n",
              "    }\n",
              "    20% {\n",
              "      border-color: transparent;\n",
              "      border-left-color: var(--fill-color);\n",
              "      border-top-color: var(--fill-color);\n",
              "    }\n",
              "    30% {\n",
              "      border-color: transparent;\n",
              "      border-left-color: var(--fill-color);\n",
              "      border-top-color: var(--fill-color);\n",
              "      border-right-color: var(--fill-color);\n",
              "    }\n",
              "    40% {\n",
              "      border-color: transparent;\n",
              "      border-right-color: var(--fill-color);\n",
              "      border-top-color: var(--fill-color);\n",
              "    }\n",
              "    60% {\n",
              "      border-color: transparent;\n",
              "      border-right-color: var(--fill-color);\n",
              "    }\n",
              "    80% {\n",
              "      border-color: transparent;\n",
              "      border-right-color: var(--fill-color);\n",
              "      border-bottom-color: var(--fill-color);\n",
              "    }\n",
              "    90% {\n",
              "      border-color: transparent;\n",
              "      border-bottom-color: var(--fill-color);\n",
              "    }\n",
              "  }\n",
              "</style>\n",
              "\n",
              "  <script>\n",
              "    async function quickchart(key) {\n",
              "      const quickchartButtonEl =\n",
              "        document.querySelector('#' + key + ' button');\n",
              "      quickchartButtonEl.disabled = true;  // To prevent multiple clicks.\n",
              "      quickchartButtonEl.classList.add('colab-df-spinner');\n",
              "      try {\n",
              "        const charts = await google.colab.kernel.invokeFunction(\n",
              "            'suggestCharts', [key], {});\n",
              "      } catch (error) {\n",
              "        console.error('Error during call to suggestCharts:', error);\n",
              "      }\n",
              "      quickchartButtonEl.classList.remove('colab-df-spinner');\n",
              "      quickchartButtonEl.classList.add('colab-df-quickchart-complete');\n",
              "    }\n",
              "    (() => {\n",
              "      let quickchartButtonEl =\n",
              "        document.querySelector('#df-bfba7bcb-0879-4c39-8d0b-8a2d24eaf36f button');\n",
              "      quickchartButtonEl.style.display =\n",
              "        google.colab.kernel.accessAllowed ? 'block' : 'none';\n",
              "    })();\n",
              "  </script>\n",
              "</div>\n",
              "    </div>\n",
              "  </div>\n"
            ],
            "application/vnd.google.colaboratory.intrinsic+json": {
              "type": "dataframe",
              "variable_name": "df"
            }
          },
          "metadata": {},
          "execution_count": 8
        }
      ]
    },
    {
      "cell_type": "code",
      "source": [
        "# количество отзывов в разных городах\n",
        "city_response = df['city'].value_counts()\n",
        "city_response.head(10)"
      ],
      "metadata": {
        "colab": {
          "base_uri": "https://localhost:8080/",
          "height": 424
        },
        "id": "ClMfmSw8kBeA",
        "outputId": "8b2ccfe8-0b4b-4526-cb66-0b8e182aaba7"
      },
      "execution_count": null,
      "outputs": [
        {
          "output_type": "execute_result",
          "data": {
            "text/plain": [
              "city\n",
              "г. Москва             55354\n",
              "г. Санкт-Петербург    14342\n",
              "г. Екатеринбург        2337\n",
              "г. Новосибирск         2300\n",
              "г. Нижний Новгород     1976\n",
              "г. Ростов-на-Дону      1891\n",
              "г. Самара              1731\n",
              "г. Челябинск           1507\n",
              "г. Казань              1440\n",
              "г. Краснодар           1262\n",
              "Name: count, dtype: int64"
            ],
            "text/html": [
              "<div>\n",
              "<style scoped>\n",
              "    .dataframe tbody tr th:only-of-type {\n",
              "        vertical-align: middle;\n",
              "    }\n",
              "\n",
              "    .dataframe tbody tr th {\n",
              "        vertical-align: top;\n",
              "    }\n",
              "\n",
              "    .dataframe thead th {\n",
              "        text-align: right;\n",
              "    }\n",
              "</style>\n",
              "<table border=\"1\" class=\"dataframe\">\n",
              "  <thead>\n",
              "    <tr style=\"text-align: right;\">\n",
              "      <th></th>\n",
              "      <th>count</th>\n",
              "    </tr>\n",
              "    <tr>\n",
              "      <th>city</th>\n",
              "      <th></th>\n",
              "    </tr>\n",
              "  </thead>\n",
              "  <tbody>\n",
              "    <tr>\n",
              "      <th>г. Москва</th>\n",
              "      <td>55354</td>\n",
              "    </tr>\n",
              "    <tr>\n",
              "      <th>г. Санкт-Петербург</th>\n",
              "      <td>14342</td>\n",
              "    </tr>\n",
              "    <tr>\n",
              "      <th>г. Екатеринбург</th>\n",
              "      <td>2337</td>\n",
              "    </tr>\n",
              "    <tr>\n",
              "      <th>г. Новосибирск</th>\n",
              "      <td>2300</td>\n",
              "    </tr>\n",
              "    <tr>\n",
              "      <th>г. Нижний Новгород</th>\n",
              "      <td>1976</td>\n",
              "    </tr>\n",
              "    <tr>\n",
              "      <th>г. Ростов-на-Дону</th>\n",
              "      <td>1891</td>\n",
              "    </tr>\n",
              "    <tr>\n",
              "      <th>г. Самара</th>\n",
              "      <td>1731</td>\n",
              "    </tr>\n",
              "    <tr>\n",
              "      <th>г. Челябинск</th>\n",
              "      <td>1507</td>\n",
              "    </tr>\n",
              "    <tr>\n",
              "      <th>г. Казань</th>\n",
              "      <td>1440</td>\n",
              "    </tr>\n",
              "    <tr>\n",
              "      <th>г. Краснодар</th>\n",
              "      <td>1262</td>\n",
              "    </tr>\n",
              "  </tbody>\n",
              "</table>\n",
              "</div><br><label><b>dtype:</b> int64</label>"
            ]
          },
          "metadata": {},
          "execution_count": 8
        }
      ]
    },
    {
      "cell_type": "code",
      "source": [
        "# количество отзывов на разные банки\n",
        "banks_response = df['bank_name'].value_counts()\n",
        "banks_response.head(10)"
      ],
      "metadata": {
        "colab": {
          "base_uri": "https://localhost:8080/",
          "height": 424
        },
        "id": "wSrkFwyhkJMq",
        "outputId": "15920ef9-bd58-4f19-a778-0715527981d2"
      },
      "execution_count": null,
      "outputs": [
        {
          "output_type": "execute_result",
          "data": {
            "text/plain": [
              "bank_name\n",
              "Сбербанк России              26327\n",
              "Альфа-Банк                   10224\n",
              "ВТБ 24                        8185\n",
              "Русский Стандарт              7943\n",
              "Хоум Кредит Банк              7549\n",
              "Тинькофф Банк                 5387\n",
              "Национальный Банк «Траст»     4607\n",
              "Ренессанс Кредит              3849\n",
              "Связной Банк                  3775\n",
              "ОТП Банк                      3237\n",
              "Name: count, dtype: int64"
            ],
            "text/html": [
              "<div>\n",
              "<style scoped>\n",
              "    .dataframe tbody tr th:only-of-type {\n",
              "        vertical-align: middle;\n",
              "    }\n",
              "\n",
              "    .dataframe tbody tr th {\n",
              "        vertical-align: top;\n",
              "    }\n",
              "\n",
              "    .dataframe thead th {\n",
              "        text-align: right;\n",
              "    }\n",
              "</style>\n",
              "<table border=\"1\" class=\"dataframe\">\n",
              "  <thead>\n",
              "    <tr style=\"text-align: right;\">\n",
              "      <th></th>\n",
              "      <th>count</th>\n",
              "    </tr>\n",
              "    <tr>\n",
              "      <th>bank_name</th>\n",
              "      <th></th>\n",
              "    </tr>\n",
              "  </thead>\n",
              "  <tbody>\n",
              "    <tr>\n",
              "      <th>Сбербанк России</th>\n",
              "      <td>26327</td>\n",
              "    </tr>\n",
              "    <tr>\n",
              "      <th>Альфа-Банк</th>\n",
              "      <td>10224</td>\n",
              "    </tr>\n",
              "    <tr>\n",
              "      <th>ВТБ 24</th>\n",
              "      <td>8185</td>\n",
              "    </tr>\n",
              "    <tr>\n",
              "      <th>Русский Стандарт</th>\n",
              "      <td>7943</td>\n",
              "    </tr>\n",
              "    <tr>\n",
              "      <th>Хоум Кредит Банк</th>\n",
              "      <td>7549</td>\n",
              "    </tr>\n",
              "    <tr>\n",
              "      <th>Тинькофф Банк</th>\n",
              "      <td>5387</td>\n",
              "    </tr>\n",
              "    <tr>\n",
              "      <th>Национальный Банк «Траст»</th>\n",
              "      <td>4607</td>\n",
              "    </tr>\n",
              "    <tr>\n",
              "      <th>Ренессанс Кредит</th>\n",
              "      <td>3849</td>\n",
              "    </tr>\n",
              "    <tr>\n",
              "      <th>Связной Банк</th>\n",
              "      <td>3775</td>\n",
              "    </tr>\n",
              "    <tr>\n",
              "      <th>ОТП Банк</th>\n",
              "      <td>3237</td>\n",
              "    </tr>\n",
              "  </tbody>\n",
              "</table>\n",
              "</div><br><label><b>dtype:</b> int64</label>"
            ]
          },
          "metadata": {},
          "execution_count": 9
        }
      ]
    },
    {
      "cell_type": "markdown",
      "source": [
        "### 1.2 Построить гистограммы длин отзывов в символах и в словах"
      ],
      "metadata": {
        "id": "BPjSwOk2kze0"
      }
    },
    {
      "cell_type": "markdown",
      "source": [
        "Подсчёт будем производить сразу исключая стоп-слова и пунктуацию"
      ],
      "metadata": {
        "id": "KGwMTGUrlhv2"
      }
    },
    {
      "cell_type": "code",
      "source": [
        "import nltk\n",
        "nltk.download('stopwords')"
      ],
      "metadata": {
        "colab": {
          "base_uri": "https://localhost:8080/"
        },
        "id": "bEViEZMsmRTo",
        "outputId": "f6b52020-1012-46f6-9b27-8532acbac7d0"
      },
      "execution_count": null,
      "outputs": [
        {
          "output_type": "stream",
          "name": "stderr",
          "text": [
            "[nltk_data] Downloading package stopwords to /root/nltk_data...\n",
            "[nltk_data]   Unzipping corpora/stopwords.zip.\n"
          ]
        },
        {
          "output_type": "execute_result",
          "data": {
            "text/plain": [
              "True"
            ]
          },
          "metadata": {},
          "execution_count": 10
        }
      ]
    },
    {
      "cell_type": "code",
      "source": [
        "noise = stopwords.words('russian') + list(punctuation)"
      ],
      "metadata": {
        "id": "pazwow2plfJE"
      },
      "execution_count": null,
      "outputs": []
    },
    {
      "cell_type": "code",
      "source": [
        "vec_words = CountVectorizer(ngram_range=(1, 1), stop_words=noise)\n",
        "bow_words = vec_words.fit_transform(df['text'])\n",
        "vec_symbol = CountVectorizer(analyzer='char')\n",
        "bow_symbol = vec_symbol.fit_transform(df['text'])"
      ],
      "metadata": {
        "id": "M5tLdv5dmUN_"
      },
      "execution_count": null,
      "outputs": []
    },
    {
      "cell_type": "code",
      "source": [
        "ln_words = []\n",
        "ln_symbol = []\n",
        "for i in tqdm(range(size)):\n",
        "    ln_words.append(np.sum(bow_words[i].todense()))\n",
        "    ln_symbol.append(np.sum(bow_symbol[i].todense()))"
      ],
      "metadata": {
        "colab": {
          "base_uri": "https://localhost:8080/"
        },
        "id": "ZtWK0QFSnIKn",
        "outputId": "4e598980-159d-432b-d50e-17a3f8052658"
      },
      "execution_count": null,
      "outputs": [
        {
          "output_type": "stream",
          "name": "stderr",
          "text": [
            "100%|██████████| 153499/153499 [00:52<00:00, 2944.70it/s]\n"
          ]
        }
      ]
    },
    {
      "cell_type": "code",
      "source": [
        "fig, axes = plt.subplots(2, 1,figsize=(14,10))\n",
        "\n",
        "axes[0].hist(ln_symbol, bins = 200)\n",
        "axes[1].hist(ln_words, bins = 200)\n",
        "axes[0].set_xlim(0, 10000)\n",
        "axes[1].set_xlim(0, 1000)\n",
        "axes[0].set_title('Длины текстов в символах')\n",
        "axes[1].set_title('Длины текстов в словах')\n",
        "axes[0].set_ylabel('Количество')\n",
        "axes[1].set_ylabel('Количество')\n",
        "fig.show()"
      ],
      "metadata": {
        "colab": {
          "base_uri": "https://localhost:8080/",
          "height": 774
        },
        "id": "mWzhTCq9nd6R",
        "outputId": "8b204f0b-3d70-4701-b292-5e5cfac9cb82"
      },
      "execution_count": null,
      "outputs": [
        {
          "output_type": "display_data",
          "data": {
            "text/plain": [
              "<Figure size 1400x1000 with 2 Axes>"
            ],
            "image/png": "[encoded data removed]"
          },
          "metadata": {}
        }
      ]
    },
    {
      "cell_type": "markdown",
      "source": [
        "### 1.3 Найдите 10 самых частых:\n",
        "- слов"
      ],
      "metadata": {
        "id": "cBMO3o9an0ow"
      }
    },
    {
      "cell_type": "code",
      "source": [
        "from string import punctuation\n",
        "punctuation"
      ],
      "metadata": {
        "colab": {
          "base_uri": "https://localhost:8080/",
          "height": 37
        },
        "id": "MVGUe4fLoIdE",
        "outputId": "2628c182-f847-4aa0-8042-552950f6277f"
      },
      "execution_count": null,
      "outputs": [
        {
          "output_type": "execute_result",
          "data": {
            "text/plain": [
              "'!\"#$%&\\'()*+,-./:;<=>?@[\\\\]^_`{|}~'"
            ],
            "application/vnd.google.colaboratory.intrinsic+json": {
              "type": "string"
            }
          },
          "metadata": {},
          "execution_count": 15
        }
      ]
    },
    {
      "cell_type": "code",
      "source": [
        "import nltk\n",
        "nltk.download('punkt_tab')"
      ],
      "metadata": {
        "colab": {
          "base_uri": "https://localhost:8080/"
        },
        "id": "WvrnwTbaqRg7",
        "outputId": "feadec69-c94e-4b1e-bf96-7203c62a83ac"
      },
      "execution_count": null,
      "outputs": [
        {
          "output_type": "stream",
          "name": "stderr",
          "text": [
            "[nltk_data] Downloading package punkt_tab to /root/nltk_data...\n",
            "[nltk_data]   Unzipping tokenizers/punkt_tab.zip.\n"
          ]
        },
        {
          "output_type": "execute_result",
          "data": {
            "text/plain": [
              "True"
            ]
          },
          "metadata": {},
          "execution_count": 16
        }
      ]
    },
    {
      "cell_type": "code",
      "source": [
        "from collections import Counter\n",
        "corpus = [token for tweet in df.text for token in word_tokenize(tweet) if token not in punctuation]\n",
        "print(len(corpus))\n",
        "corpus[:10]"
      ],
      "metadata": {
        "colab": {
          "base_uri": "https://localhost:8080/"
        },
        "id": "7-LmvBGQoKKf",
        "outputId": "72f90329-e3b9-4771-87a8-312f1b14d937"
      },
      "execution_count": null,
      "outputs": [
        {
          "output_type": "stream",
          "name": "stdout",
          "text": [
            "36766261\n"
          ]
        },
        {
          "output_type": "execute_result",
          "data": {
            "text/plain": [
              "['Добрый',\n",
              " 'день',\n",
              " 'Я',\n",
              " 'не',\n",
              " 'являюсь',\n",
              " 'клиентом',\n",
              " 'банка',\n",
              " 'и',\n",
              " 'поручителем',\n",
              " 'по']"
            ]
          },
          "metadata": {},
          "execution_count": 17
        }
      ]
    },
    {
      "cell_type": "code",
      "source": [
        "freq_dict = Counter(corpus)\n",
        "\n",
        "# freq_dict_sorted= sorted(freq_dict.items(), key=lambda x: -x[1])\n",
        "freq_dict.most_common(10)"
      ],
      "metadata": {
        "colab": {
          "base_uri": "https://localhost:8080/"
        },
        "id": "2VA6NFM5sm61",
        "outputId": "5a7bfeba-613d-4f9d-f6cb-062551174acc"
      },
      "execution_count": null,
      "outputs": [
        {
          "output_type": "execute_result",
          "data": {
            "text/plain": [
              "[('в', 1169557),\n",
              " ('и', 980761),\n",
              " ('не', 816419),\n",
              " ('на', 638715),\n",
              " ('что', 603171),\n",
              " ('я', 443478),\n",
              " ('с', 428021),\n",
              " ('по', 338743),\n",
              " ('мне', 293980),\n",
              " ('банка', 235175)]"
            ]
          },
          "metadata": {},
          "execution_count": 18
        }
      ]
    },
    {
      "cell_type": "markdown",
      "source": [
        "- слов без стоп-слов"
      ],
      "metadata": {
        "id": "DS0GJP87tVhd"
      }
    },
    {
      "cell_type": "code",
      "source": [
        "stopword = stopwords.words('russian')\n",
        "punkts = ['``', '...', \"''\", '\"\"', '..', '....']\n",
        "for val in punkts:\n",
        "    stopword.append(val)"
      ],
      "metadata": {
        "id": "iQ2PBSmUtVFG"
      },
      "execution_count": null,
      "outputs": []
    },
    {
      "cell_type": "code",
      "source": [
        "corpus_without_stop = []\n",
        "for word in tqdm(corpus):\n",
        "    if word.lower() not in stopword:\n",
        "        corpus_without_stop.append(word)\n",
        "freq_dict = Counter(corpus_without_stop)\n",
        "freq_dict.most_common(10)"
      ],
      "metadata": {
        "colab": {
          "base_uri": "https://localhost:8080/"
        },
        "id": "a_4SWlpktkQQ",
        "outputId": "8871239e-77cc-4975-828e-74ab1cde4f96"
      },
      "execution_count": null,
      "outputs": [
        {
          "output_type": "stream",
          "name": "stderr",
          "text": [
            "100%|██████████| 36766261/36766261 [00:43<00:00, 840885.08it/s]\n"
          ]
        },
        {
          "output_type": "execute_result",
          "data": {
            "text/plain": [
              "[('банка', 235175),\n",
              " ('банк', 159569),\n",
              " ('это', 158915),\n",
              " ('деньги', 121778),\n",
              " ('карту', 101181),\n",
              " ('карты', 99040),\n",
              " ('день', 74627),\n",
              " ('кредит', 71824),\n",
              " ('заявление', 65006),\n",
              " ('отделение', 63424)]"
            ]
          },
          "metadata": {},
          "execution_count": 20
        }
      ]
    },
    {
      "cell_type": "markdown",
      "source": [
        "- лемм"
      ],
      "metadata": {
        "id": "rvXEe1eTuCLY"
      }
    },
    {
      "cell_type": "code",
      "source": [
        "!pip install pymorphy3"
      ],
      "metadata": {
        "colab": {
          "base_uri": "https://localhost:8080/"
        },
        "id": "a-qCWLKjwMAL",
        "outputId": "b411ddd4-0058-428e-88e5-71ed7a0e418f"
      },
      "execution_count": null,
      "outputs": [
        {
          "output_type": "stream",
          "name": "stdout",
          "text": [
            "Collecting pymorphy3\n",
            "  Downloading pymorphy3-2.0.3-py3-none-any.whl.metadata (1.9 kB)\n",
            "Collecting dawg2-python>=0.8.0 (from pymorphy3)\n",
            "  Downloading dawg2_python-0.9.0-py3-none-any.whl.metadata (7.5 kB)\n",
            "Collecting pymorphy3-dicts-ru (from pymorphy3)\n",
            "  Downloading pymorphy3_dicts_ru-2.4.417150.4580142-py2.py3-none-any.whl.metadata (2.0 kB)\n",
            "Downloading pymorphy3-2.0.3-py3-none-any.whl (53 kB)\n",
            "\u001b[2K   \u001b[90m━━━━━━━━━━━━━━━━━━━━━━━━━━━━━━━━━━━━━━━━\u001b[0m \u001b[32m53.8/53.8 kB\u001b[0m \u001b[31m2.4 MB/s\u001b[0m eta \u001b[36m0:00:00\u001b[0m\n",
            "\u001b[?25hDownloading dawg2_python-0.9.0-py3-none-any.whl (9.3 kB)\n",
            "Downloading pymorphy3_dicts_ru-2.4.417150.4580142-py2.py3-none-any.whl (8.4 MB)\n",
            "\u001b[2K   \u001b[90m━━━━━━━━━━━━━━━━━━━━━━━━━━━━━━━━━━━━━━━━\u001b[0m \u001b[32m8.4/8.4 MB\u001b[0m \u001b[31m62.1 MB/s\u001b[0m eta \u001b[36m0:00:00\u001b[0m\n",
            "\u001b[?25hInstalling collected packages: pymorphy3-dicts-ru, dawg2-python, pymorphy3\n",
            "Successfully installed dawg2-python-0.9.0 pymorphy3-2.0.3 pymorphy3-dicts-ru-2.4.417150.4580142\n"
          ]
        }
      ]
    },
    {
      "cell_type": "code",
      "source": [
        "import pymorphy3\n",
        "from pymorphy3 import MorphAnalyzer\n",
        "pymorphy3_analyzer = MorphAnalyzer()"
      ],
      "metadata": {
        "id": "ZvJT5CH6waYx"
      },
      "execution_count": null,
      "outputs": []
    },
    {
      "cell_type": "code",
      "source": [
        "morph = pymorphy3.MorphAnalyzer()"
      ],
      "metadata": {
        "id": "yg5n8LJkxfc6"
      },
      "execution_count": null,
      "outputs": []
    },
    {
      "cell_type": "code",
      "source": [
        "lemmas = []\n",
        "noun = []\n",
        "for word in tqdm(corpus_without_stop):\n",
        "    temp = morph.parse(word)[0]\n",
        "    lemm = temp.normal_form\n",
        "    lemmas.append(lemm)\n",
        "    if temp.tag.POS == 'NOUN':\n",
        "        noun.append(lemm)\n",
        "freq_dict_lemm = Counter(lemmas)\n",
        "freq_dict_lemm.most_common(10)"
      ],
      "metadata": {
        "colab": {
          "base_uri": "https://localhost:8080/"
        },
        "id": "lHx1C5aKtqXm",
        "outputId": "83d997a3-6d42-4301-fa28-a603c2bab9fb"
      },
      "execution_count": null,
      "outputs": [
        {
          "output_type": "stream",
          "name": "stderr",
          "text": [
            "100%|██████████| 23470201/23470201 [33:04<00:00, 11828.80it/s]\n"
          ]
        },
        {
          "output_type": "execute_result",
          "data": {
            "text/plain": [
              "[('банк', 624272),\n",
              " ('карта', 331815),\n",
              " ('это', 199740),\n",
              " ('деньга', 178338),\n",
              " ('день', 172634),\n",
              " ('мой', 167035),\n",
              " ('кредит', 154865),\n",
              " ('который', 148990),\n",
              " ('отделение', 143616),\n",
              " ('счёт', 140509)]"
            ]
          },
          "metadata": {},
          "execution_count": 24
        }
      ]
    },
    {
      "cell_type": "markdown",
      "source": [
        "- существительных"
      ],
      "metadata": {
        "id": "FbzJSz45-Oqg"
      }
    },
    {
      "cell_type": "code",
      "source": [
        "freq_dict_noun = Counter(noun)\n",
        "freq_dict_noun.most_common(10)"
      ],
      "metadata": {
        "colab": {
          "base_uri": "https://localhost:8080/"
        },
        "id": "hwvVLtrE-QHy",
        "outputId": "0aa0bc3a-29c4-413f-eb92-33bbbbf8e00d"
      },
      "execution_count": null,
      "outputs": [
        {
          "output_type": "execute_result",
          "data": {
            "text/plain": [
              "[('банк', 624272),\n",
              " ('карта', 331815),\n",
              " ('деньга', 178338),\n",
              " ('день', 172634),\n",
              " ('кредит', 154865),\n",
              " ('отделение', 143616),\n",
              " ('счёт', 140509),\n",
              " ('сотрудник', 133662),\n",
              " ('клиент', 132908),\n",
              " ('сумма', 110914)]"
            ]
          },
          "metadata": {},
          "execution_count": 25
        }
      ]
    },
    {
      "cell_type": "markdown",
      "source": [
        "### 1.4 Построить кривые Ципфа и Хипса"
      ],
      "metadata": {
        "id": "VXeKm1U0-aYo"
      }
    },
    {
      "cell_type": "code",
      "source": [
        "freqs = list(freq_dict.values())\n",
        "freqs = sorted(freqs, reverse = True)\n",
        "\n",
        "fig, ax = plt.subplots()\n",
        "ax.plot(range(300), freqs[:300])\n",
        "ax.set_title(u'Кривая Ципфа', fontsize=12)\n",
        "ax.set_title(u'Кривая Ципфа', fontsize=12)\n",
        "plt.show()"
      ],
      "metadata": {
        "colab": {
          "base_uri": "https://localhost:8080/",
          "height": 452
        },
        "id": "Azm-V-cv-d3m",
        "outputId": "b0b19ffa-2db8-4e3f-ca68-265d0357df49"
      },
      "execution_count": null,
      "outputs": [
        {
          "output_type": "display_data",
          "data": {
            "text/plain": [
              "<Figure size 640x480 with 1 Axes>"
            ],
            "image/png": "[encoded data removed]"
          },
          "metadata": {}
        }
      ]
    },
    {
      "cell_type": "code",
      "source": [
        "cnt = Counter()\n",
        "n_words = []\n",
        "n_tokens = []\n",
        "tokens = []\n",
        "for index, row in tqdm(df.iterrows(), total = len(df)):\n",
        "    tokens = word_tokenize(row['text'])\n",
        "    cnt.update([token for token in tokens if token not in punctuation])\n",
        "    n_words.append(len(cnt))\n",
        "    n_tokens.append(sum(list(cnt.values())))"
      ],
      "metadata": {
        "colab": {
          "base_uri": "https://localhost:8080/"
        },
        "id": "z-QEBMIq-j2Z",
        "outputId": "59ca648c-8177-40bf-ceb6-56edbdc9d763"
      },
      "execution_count": null,
      "outputs": [
        {
          "output_type": "stream",
          "name": "stderr",
          "text": [
            "100%|██████████| 153499/153499 [19:18<00:00, 132.53it/s]\n"
          ]
        }
      ]
    },
    {
      "cell_type": "code",
      "source": [
        "fig, ax = plt.subplots()\n",
        "ax.plot(n_tokens, n_words)\n",
        "ax.set_title(u'Кривая Хипса', fontsize=12)\n",
        "plt.show()"
      ],
      "metadata": {
        "colab": {
          "base_uri": "https://localhost:8080/",
          "height": 470
        },
        "id": "B0hrflHSEdkm",
        "outputId": "b8e64d94-00f8-4aa9-f4ac-2d05c84d1dc3"
      },
      "execution_count": null,
      "outputs": [
        {
          "output_type": "display_data",
          "data": {
            "text/plain": [
              "<Figure size 640x480 with 1 Axes>"
            ],
            "image/png": "[encoded data removed]"
          },
          "metadata": {}
        }
      ]
    },
    {
      "cell_type": "markdown",
      "source": [
        "### 1.5 Ответить на следующие вопросы:\n",
        "\n",
        "- какое слово встречается чаще, \"сотрудник\" или \"клиент\"?\n",
        "\n",
        "- сколько раз встречается слова \"мошенничество\" и \"доверие\"?\n",
        "\n"
      ],
      "metadata": {
        "id": "cOeaIuqMEjBC"
      }
    },
    {
      "cell_type": "markdown",
      "source": [
        "Для ответа на опрос используем корпус с существительными из п.1.3"
      ],
      "metadata": {
        "id": "yNYHYk3-Et1M"
      }
    },
    {
      "cell_type": "code",
      "source": [
        "for val in [\"сотрудник\", \"клиент\", \"мошенничество\", \"доверие\"]:\n",
        "    print(val, freq_dict_noun.get(val))"
      ],
      "metadata": {
        "colab": {
          "base_uri": "https://localhost:8080/"
        },
        "id": "_kI_O9ZqEkjW",
        "outputId": "ce4416a4-6596-4610-99fd-4120c4e67f2e"
      },
      "execution_count": null,
      "outputs": [
        {
          "output_type": "stream",
          "name": "stdout",
          "text": [
            "сотрудник 133662\n",
            "клиент 132908\n",
            "мошенничество 3228\n",
            "доверие 2098\n"
          ]
        }
      ]
    },
    {
      "cell_type": "markdown",
      "source": [
        "**Вывод:** слово \"мошенничество\" встречается чаще, чем \"доверие\". Слова \"сотрудник\" и \"клиент\" встречаются почти с одной частотой: разница встречаемости этих слов 0.5%."
      ],
      "metadata": {
        "id": "e1wRoGyAEzY8"
      }
    },
    {
      "cell_type": "markdown",
      "source": [
        "### 1.6 В поле \"rating_grade\" записана оценка отзыва по шкале от 1 до 5. Использовать меру для того, чтобы найти ключевые слова и биграмы для положительных отзывов (с оценкой 5) и отрицательных отзывов (с оценкой 1)."
      ],
      "metadata": {
        "id": "2KA_QOkFE47X"
      }
    },
    {
      "cell_type": "markdown",
      "source": [
        "Ключевые слова будем искать, используя ещё и признак 'title', так как в нём клиент кратко обозначает суть отзыва."
      ],
      "metadata": {
        "id": "ablKNybTE-e2"
      }
    },
    {
      "cell_type": "code",
      "source": [
        "mystopwords = stopwords.words('russian')\n",
        "\n",
        "ru_words = re.compile(\"[А-Яа-я]+\")\n",
        "\n",
        "\n",
        "def get_top_word(bow, count_word = 10):\n",
        "    '''\n",
        "    Принимает на вход результат TfidfVectorizer.fit_transform.\n",
        "    Возвращает список ключевых слов\n",
        "    '''\n",
        "    idx = np.ravel(bow.sum(axis=0).argsort(axis=1))[::-1][:count_word]\n",
        "    top_words = np.array(vec.get_feature_names_out())[idx].tolist()\n",
        "    return top_words\n",
        "\n",
        "\n",
        "def words_only(text):\n",
        "    return \" \".join(ru_words.findall(text))\n",
        "\n",
        "def lemmatize(text):\n",
        "    try:\n",
        "        return  \" \".join([morph.parse(word)[0].normal_form for word in text.lower().split()])\n",
        "    except:\n",
        "        return \" \"\n",
        "\n",
        "def remove_stopwords(text, mystopwords = mystopwords):\n",
        "    try:\n",
        "        return \" \".join([token for token in text.split() if not token in mystopwords])\n",
        "    except:\n",
        "        return \"\"\n",
        "\n",
        "def preprocess(text):\n",
        "    return remove_stopwords(lemmatize(words_only(text.lower())))"
      ],
      "metadata": {
        "id": "tah2nix1Ey9u"
      },
      "execution_count": null,
      "outputs": []
    },
    {
      "cell_type": "code",
      "source": [
        "# выполним на подвыборке данных 25% от датасета\n",
        "\n",
        "df_mini = df.sample(frac=0.25)"
      ],
      "metadata": {
        "id": "_mq0jjwtXXXh"
      },
      "execution_count": null,
      "outputs": []
    },
    {
      "cell_type": "code",
      "source": [
        "tqdm.pandas()"
      ],
      "metadata": {
        "id": "Ed2eADxgFGRT"
      },
      "execution_count": null,
      "outputs": []
    },
    {
      "cell_type": "code",
      "source": [
        "df_mini.text = df_mini.text.astype('str').progress_apply(preprocess)"
      ],
      "metadata": {
        "colab": {
          "base_uri": "https://localhost:8080/"
        },
        "id": "Qpf8biIfFI1V",
        "outputId": "7f030481-abf4-405f-a17b-70c966b6bce7"
      },
      "execution_count": null,
      "outputs": [
        {
          "output_type": "stream",
          "name": "stderr",
          "text": [
            "100%|██████████| 38375/38375 [17:54<00:00, 35.73it/s]\n"
          ]
        }
      ]
    },
    {
      "cell_type": "code",
      "source": [
        "df_mini.title = df_mini.title.astype('str').progress_apply(preprocess)"
      ],
      "metadata": {
        "colab": {
          "base_uri": "https://localhost:8080/"
        },
        "id": "ZauQSBn3eJht",
        "outputId": "dfb596c7-9efd-4209-d87a-0522ef40d5e4"
      },
      "execution_count": null,
      "outputs": [
        {
          "output_type": "stream",
          "name": "stderr",
          "text": [
            "100%|██████████| 38375/38375 [00:21<00:00, 1813.47it/s]\n"
          ]
        }
      ]
    },
    {
      "cell_type": "code",
      "source": [
        "df_mini.head(5)"
      ],
      "metadata": {
        "colab": {
          "base_uri": "https://localhost:8080/",
          "height": 598
        },
        "id": "gZaawhHoeykQ",
        "outputId": "57595bff-291b-4dcf-f130-671318546cb6"
      },
      "execution_count": null,
      "outputs": [
        {
          "output_type": "execute_result",
          "data": {
            "text/plain": [
              "                     city  rating_not_checked  \\\n",
              "15080   г. Ростов-на-Дону               False   \n",
              "102778    г. Магнитогорск               False   \n",
              "68139          г. Иваново               False   \n",
              "6042      г. Екатеринбург               False   \n",
              "63555     г. Екатеринбург               False   \n",
              "\n",
              "                                            title  num_comments  \\\n",
              "15080                                 пора отпуск             2   \n",
              "102778                  бездействие работник банк             6   \n",
              "68139                              вечный должник             3   \n",
              "6042    постоянный сбой программа работа персонал             1   \n",
              "63555                   помочь разрешить ситуация             1   \n",
              "\n",
              "           bank_license       author        bank_name             datetime  \\\n",
              "15080   лицензия № 3251    artem2003    Промсвязьбанк  2015-02-03 14:40:00   \n",
              "102778  лицензия № 1961        eakam     Связной Банк  2012-08-22 10:28:00   \n",
              "68139   лицензия № 2766         Cors         ОТП Банк  2013-11-11 22:44:00   \n",
              "6042    лицензия № 1481  ga-chernova  Сбербанк России  2015-04-11 20:56:00   \n",
              "63555   лицензия № 2562    olenka_79          Бинбанк  2013-12-19 13:12:00   \n",
              "\n",
              "                                                     text  rating_grade  \n",
              "15080   сотрудничать псб рамка зарплатный проект г обр...           2.0  \n",
              "102778  год оплачивать отделение связный банк кредит с...           NaN  \n",
              "68139   добрый день думать это читать значит довольный...           NaN  \n",
              "6042    время остальной банк пытаться развернуться лиц...           NaN  \n",
              "63555   здравствуйте ваш банк довольный длительный вре...           5.0  "
            ],
            "text/html": [
              "\n",
              "  <div id=\"df-af186b93-a140-4c1c-bbc6-4e944ced6df6\" class=\"colab-df-container\">\n",
              "    <div>\n",
              "<style scoped>\n",
              "    .dataframe tbody tr th:only-of-type {\n",
              "        vertical-align: middle;\n",
              "    }\n",
              "\n",
              "    .dataframe tbody tr th {\n",
              "        vertical-align: top;\n",
              "    }\n",
              "\n",
              "    .dataframe thead th {\n",
              "        text-align: right;\n",
              "    }\n",
              "</style>\n",
              "<table border=\"1\" class=\"dataframe\">\n",
              "  <thead>\n",
              "    <tr style=\"text-align: right;\">\n",
              "      <th></th>\n",
              "      <th>city</th>\n",
              "      <th>rating_not_checked</th>\n",
              "      <th>title</th>\n",
              "      <th>num_comments</th>\n",
              "      <th>bank_license</th>\n",
              "      <th>author</th>\n",
              "      <th>bank_name</th>\n",
              "      <th>datetime</th>\n",
              "      <th>text</th>\n",
              "      <th>rating_grade</th>\n",
              "    </tr>\n",
              "  </thead>\n",
              "  <tbody>\n",
              "    <tr>\n",
              "      <th>15080</th>\n",
              "      <td>г. Ростов-на-Дону</td>\n",
              "      <td>False</td>\n",
              "      <td>пора отпуск</td>\n",
              "      <td>2</td>\n",
              "      <td>лицензия № 3251</td>\n",
              "      <td>artem2003</td>\n",
              "      <td>Промсвязьбанк</td>\n",
              "      <td>2015-02-03 14:40:00</td>\n",
              "      <td>сотрудничать псб рамка зарплатный проект г обр...</td>\n",
              "      <td>2.0</td>\n",
              "    </tr>\n",
              "    <tr>\n",
              "      <th>102778</th>\n",
              "      <td>г. Магнитогорск</td>\n",
              "      <td>False</td>\n",
              "      <td>бездействие работник банк</td>\n",
              "      <td>6</td>\n",
              "      <td>лицензия № 1961</td>\n",
              "      <td>eakam</td>\n",
              "      <td>Связной Банк</td>\n",
              "      <td>2012-08-22 10:28:00</td>\n",
              "      <td>год оплачивать отделение связный банк кредит с...</td>\n",
              "      <td>NaN</td>\n",
              "    </tr>\n",
              "    <tr>\n",
              "      <th>68139</th>\n",
              "      <td>г. Иваново</td>\n",
              "      <td>False</td>\n",
              "      <td>вечный должник</td>\n",
              "      <td>3</td>\n",
              "      <td>лицензия № 2766</td>\n",
              "      <td>Cors</td>\n",
              "      <td>ОТП Банк</td>\n",
              "      <td>2013-11-11 22:44:00</td>\n",
              "      <td>добрый день думать это читать значит довольный...</td>\n",
              "      <td>NaN</td>\n",
              "    </tr>\n",
              "    <tr>\n",
              "      <th>6042</th>\n",
              "      <td>г. Екатеринбург</td>\n",
              "      <td>False</td>\n",
              "      <td>постоянный сбой программа работа персонал</td>\n",
              "      <td>1</td>\n",
              "      <td>лицензия № 1481</td>\n",
              "      <td>ga-chernova</td>\n",
              "      <td>Сбербанк России</td>\n",
              "      <td>2015-04-11 20:56:00</td>\n",
              "      <td>время остальной банк пытаться развернуться лиц...</td>\n",
              "      <td>NaN</td>\n",
              "    </tr>\n",
              "    <tr>\n",
              "      <th>63555</th>\n",
              "      <td>г. Екатеринбург</td>\n",
              "      <td>False</td>\n",
              "      <td>помочь разрешить ситуация</td>\n",
              "      <td>1</td>\n",
              "      <td>лицензия № 2562</td>\n",
              "      <td>olenka_79</td>\n",
              "      <td>Бинбанк</td>\n",
              "      <td>2013-12-19 13:12:00</td>\n",
              "      <td>здравствуйте ваш банк довольный длительный вре...</td>\n",
              "      <td>5.0</td>\n",
              "    </tr>\n",
              "  </tbody>\n",
              "</table>\n",
              "</div>\n",
              "    <div class=\"colab-df-buttons\">\n",
              "\n",
              "  <div class=\"colab-df-container\">\n",
              "    <button class=\"colab-df-convert\" onclick=\"convertToInteractive('df-af186b93-a140-4c1c-bbc6-4e944ced6df6')\"\n",
              "            title=\"Convert this dataframe to an interactive table.\"\n",
              "            style=\"display:none;\">\n",
              "\n",
              "  <svg xmlns=\"http://www.w3.org/2000/svg\" height=\"24px\" viewBox=\"0 -960 960 960\">\n",
              "    <path d=\"M120-120v-720h720v720H120Zm60-500h600v-160H180v160Zm220 220h160v-160H400v160Zm0 220h160v-160H400v160ZM180-400h160v-160H180v160Zm440 0h160v-160H620v160ZM180-180h160v-160H180v160Zm440 0h160v-160H620v160Z\"/>\n",
              "  </svg>\n",
              "    </button>\n",
              "\n",
              "  <style>\n",
              "    .colab-df-container {\n",
              "      display:flex;\n",
              "      gap: 12px;\n",
              "    }\n",
              "\n",
              "    .colab-df-convert {\n",
              "      background-color: #E8F0FE;\n",
              "      border: none;\n",
              "      border-radius: 50%;\n",
              "      cursor: pointer;\n",
              "      display: none;\n",
              "      fill: #1967D2;\n",
              "      height: 32px;\n",
              "      padding: 0 0 0 0;\n",
              "      width: 32px;\n",
              "    }\n",
              "\n",
              "    .colab-df-convert:hover {\n",
              "      background-color: #E2EBFA;\n",
              "      box-shadow: 0px 1px 2px rgba(60, 64, 67, 0.3), 0px 1px 3px 1px rgba(60, 64, 67, 0.15);\n",
              "      fill: #174EA6;\n",
              "    }\n",
              "\n",
              "    .colab-df-buttons div {\n",
              "      margin-bottom: 4px;\n",
              "    }\n",
              "\n",
              "    [theme=dark] .colab-df-convert {\n",
              "      background-color: #3B4455;\n",
              "      fill: #D2E3FC;\n",
              "    }\n",
              "\n",
              "    [theme=dark] .colab-df-convert:hover {\n",
              "      background-color: #434B5C;\n",
              "      box-shadow: 0px 1px 3px 1px rgba(0, 0, 0, 0.15);\n",
              "      filter: drop-shadow(0px 1px 2px rgba(0, 0, 0, 0.3));\n",
              "      fill: #FFFFFF;\n",
              "    }\n",
              "  </style>\n",
              "\n",
              "    <script>\n",
              "      const buttonEl =\n",
              "        document.querySelector('#df-af186b93-a140-4c1c-bbc6-4e944ced6df6 button.colab-df-convert');\n",
              "      buttonEl.style.display =\n",
              "        google.colab.kernel.accessAllowed ? 'block' : 'none';\n",
              "\n",
              "      async function convertToInteractive(key) {\n",
              "        const element = document.querySelector('#df-af186b93-a140-4c1c-bbc6-4e944ced6df6');\n",
              "        const dataTable =\n",
              "          await google.colab.kernel.invokeFunction('convertToInteractive',\n",
              "                                                    [key], {});\n",
              "        if (!dataTable) return;\n",
              "\n",
              "        const docLinkHtml = 'Like what you see? Visit the ' +\n",
              "          '<a target=\"_blank\" href=https://colab.research.google.com/notebooks/data_table.ipynb>data table notebook</a>'\n",
              "          + ' to learn more about interactive tables.';\n",
              "        element.innerHTML = '';\n",
              "        dataTable['output_type'] = 'display_data';\n",
              "        await google.colab.output.renderOutput(dataTable, element);\n",
              "        const docLink = document.createElement('div');\n",
              "        docLink.innerHTML = docLinkHtml;\n",
              "        element.appendChild(docLink);\n",
              "      }\n",
              "    </script>\n",
              "  </div>\n",
              "\n",
              "\n",
              "<div id=\"df-6a8aca0e-207c-4fa8-a34c-9882525f8570\">\n",
              "  <button class=\"colab-df-quickchart\" onclick=\"quickchart('df-6a8aca0e-207c-4fa8-a34c-9882525f8570')\"\n",
              "            title=\"Suggest charts\"\n",
              "            style=\"display:none;\">\n",
              "\n",
              "<svg xmlns=\"http://www.w3.org/2000/svg\" height=\"24px\"viewBox=\"0 0 24 24\"\n",
              "     width=\"24px\">\n",
              "    <g>\n",
              "        <path d=\"M19 3H5c-1.1 0-2 .9-2 2v14c0 1.1.9 2 2 2h14c1.1 0 2-.9 2-2V5c0-1.1-.9-2-2-2zM9 17H7v-7h2v7zm4 0h-2V7h2v10zm4 0h-2v-4h2v4z\"/>\n",
              "    </g>\n",
              "</svg>\n",
              "  </button>\n",
              "\n",
              "<style>\n",
              "  .colab-df-quickchart {\n",
              "      --bg-color: #E8F0FE;\n",
              "      --fill-color: #1967D2;\n",
              "      --hover-bg-color: #E2EBFA;\n",
              "      --hover-fill-color: #174EA6;\n",
              "      --disabled-fill-color: #AAA;\n",
              "      --disabled-bg-color: #DDD;\n",
              "  }\n",
              "\n",
              "  [theme=dark] .colab-df-quickchart {\n",
              "      --bg-color: #3B4455;\n",
              "      --fill-color: #D2E3FC;\n",
              "      --hover-bg-color: #434B5C;\n",
              "      --hover-fill-color: #FFFFFF;\n",
              "      --disabled-bg-color: #3B4455;\n",
              "      --disabled-fill-color: #666;\n",
              "  }\n",
              "\n",
              "  .colab-df-quickchart {\n",
              "    background-color: var(--bg-color);\n",
              "    border: none;\n",
              "    border-radius: 50%;\n",
              "    cursor: pointer;\n",
              "    display: none;\n",
              "    fill: var(--fill-color);\n",
              "    height: 32px;\n",
              "    padding: 0;\n",
              "    width: 32px;\n",
              "  }\n",
              "\n",
              "  .colab-df-quickchart:hover {\n",
              "    background-color: var(--hover-bg-color);\n",
              "    box-shadow: 0 1px 2px rgba(60, 64, 67, 0.3), 0 1px 3px 1px rgba(60, 64, 67, 0.15);\n",
              "    fill: var(--button-hover-fill-color);\n",
              "  }\n",
              "\n",
              "  .colab-df-quickchart-complete:disabled,\n",
              "  .colab-df-quickchart-complete:disabled:hover {\n",
              "    background-color: var(--disabled-bg-color);\n",
              "    fill: var(--disabled-fill-color);\n",
              "    box-shadow: none;\n",
              "  }\n",
              "\n",
              "  .colab-df-spinner {\n",
              "    border: 2px solid var(--fill-color);\n",
              "    border-color: transparent;\n",
              "    border-bottom-color: var(--fill-color);\n",
              "    animation:\n",
              "      spin 1s steps(1) infinite;\n",
              "  }\n",
              "\n",
              "  @keyframes spin {\n",
              "    0% {\n",
              "      border-color: transparent;\n",
              "      border-bottom-color: var(--fill-color);\n",
              "      border-left-color: var(--fill-color);\n",
              "    }\n",
              "    20% {\n",
              "      border-color: transparent;\n",
              "      border-left-color: var(--fill-color);\n",
              "      border-top-color: var(--fill-color);\n",
              "    }\n",
              "    30% {\n",
              "      border-color: transparent;\n",
              "      border-left-color: var(--fill-color);\n",
              "      border-top-color: var(--fill-color);\n",
              "      border-right-color: var(--fill-color);\n",
              "    }\n",
              "    40% {\n",
              "      border-color: transparent;\n",
              "      border-right-color: var(--fill-color);\n",
              "      border-top-color: var(--fill-color);\n",
              "    }\n",
              "    60% {\n",
              "      border-color: transparent;\n",
              "      border-right-color: var(--fill-color);\n",
              "    }\n",
              "    80% {\n",
              "      border-color: transparent;\n",
              "      border-right-color: var(--fill-color);\n",
              "      border-bottom-color: var(--fill-color);\n",
              "    }\n",
              "    90% {\n",
              "      border-color: transparent;\n",
              "      border-bottom-color: var(--fill-color);\n",
              "    }\n",
              "  }\n",
              "</style>\n",
              "\n",
              "  <script>\n",
              "    async function quickchart(key) {\n",
              "      const quickchartButtonEl =\n",
              "        document.querySelector('#' + key + ' button');\n",
              "      quickchartButtonEl.disabled = true;  // To prevent multiple clicks.\n",
              "      quickchartButtonEl.classList.add('colab-df-spinner');\n",
              "      try {\n",
              "        const charts = await google.colab.kernel.invokeFunction(\n",
              "            'suggestCharts', [key], {});\n",
              "      } catch (error) {\n",
              "        console.error('Error during call to suggestCharts:', error);\n",
              "      }\n",
              "      quickchartButtonEl.classList.remove('colab-df-spinner');\n",
              "      quickchartButtonEl.classList.add('colab-df-quickchart-complete');\n",
              "    }\n",
              "    (() => {\n",
              "      let quickchartButtonEl =\n",
              "        document.querySelector('#df-6a8aca0e-207c-4fa8-a34c-9882525f8570 button');\n",
              "      quickchartButtonEl.style.display =\n",
              "        google.colab.kernel.accessAllowed ? 'block' : 'none';\n",
              "    })();\n",
              "  </script>\n",
              "</div>\n",
              "    </div>\n",
              "  </div>\n"
            ],
            "application/vnd.google.colaboratory.intrinsic+json": {
              "type": "dataframe",
              "variable_name": "df_mini",
              "repr_error": "0"
            }
          },
          "metadata": {},
          "execution_count": 35
        }
      ]
    },
    {
      "cell_type": "code",
      "source": [
        "positive = df_mini[df_mini['rating_grade']==5]\n",
        "negative = df_mini[df_mini['rating_grade']==1]"
      ],
      "metadata": {
        "id": "Aw2UJzNYe3Mh"
      },
      "execution_count": null,
      "outputs": []
    },
    {
      "cell_type": "code",
      "source": [
        "vec = TfidfVectorizer(ngram_range=(1, 2), stop_words=stopword)\n",
        "bow_title = vec.fit(df_mini['title'])\n",
        "bow_text = vec.fit(df_mini['text'])"
      ],
      "metadata": {
        "id": "283zKDIbe60n"
      },
      "execution_count": null,
      "outputs": []
    },
    {
      "cell_type": "code",
      "source": [
        "bow_positive_title = bow_title.transform(positive['title'])\n",
        "bow_positive_text = bow_text.transform(positive['text'])"
      ],
      "metadata": {
        "id": "RdGzntBofE-W"
      },
      "execution_count": null,
      "outputs": []
    },
    {
      "cell_type": "code",
      "source": [
        "print('Ключевые слова и биграммы для title для положительных отзывов:')\n",
        "get_top_word(bow_positive_title)"
      ],
      "metadata": {
        "colab": {
          "base_uri": "https://localhost:8080/"
        },
        "id": "4tHleicSfcLL",
        "outputId": "9761831f-fcd1-4a99-985e-46123f83f61e"
      },
      "execution_count": null,
      "outputs": [
        {
          "output_type": "stream",
          "name": "stdout",
          "text": [
            "Ключевые слова и биграммы для title для положительных отзывов:\n"
          ]
        },
        {
          "output_type": "execute_result",
          "data": {
            "text/plain": [
              "['благодарность',\n",
              " 'банк',\n",
              " 'отличный',\n",
              " 'спасибо',\n",
              " 'обслуживание',\n",
              " 'хороший',\n",
              " 'отличный банк',\n",
              " 'ипотека',\n",
              " 'довольный',\n",
              " 'хороший банк']"
            ]
          },
          "metadata": {},
          "execution_count": 39
        }
      ]
    },
    {
      "cell_type": "code",
      "source": [
        "print('Ключевые слова и биграммы для text для положительных отзывов:')\n",
        "get_top_word(bow_positive_text)"
      ],
      "metadata": {
        "colab": {
          "base_uri": "https://localhost:8080/"
        },
        "id": "JklFRBZGfmON",
        "outputId": "62a460c6-78dd-4d72-cfa1-48f6345d7653"
      },
      "execution_count": null,
      "outputs": [
        {
          "output_type": "stream",
          "name": "stdout",
          "text": [
            "Ключевые слова и биграммы для text для положительных отзывов:\n"
          ]
        },
        {
          "output_type": "execute_result",
          "data": {
            "text/plain": [
              "['банк',\n",
              " 'карта',\n",
              " 'очень',\n",
              " 'всё',\n",
              " 'вклад',\n",
              " 'это',\n",
              " 'кредит',\n",
              " 'отделение',\n",
              " 'клиент',\n",
              " 'спасибо']"
            ]
          },
          "metadata": {},
          "execution_count": 40
        }
      ]
    },
    {
      "cell_type": "code",
      "source": [
        "bow_negative_title = bow_title.transform(negative['title'])\n",
        "bow_negative_text = bow_text.transform(negative['text'])"
      ],
      "metadata": {
        "id": "ehFnuLlkfq3t"
      },
      "execution_count": null,
      "outputs": []
    },
    {
      "cell_type": "code",
      "source": [
        "print('Ключевые слова и биграммы для title для отрицательных отзывов:')\n",
        "get_top_word(bow_negative_title)"
      ],
      "metadata": {
        "colab": {
          "base_uri": "https://localhost:8080/"
        },
        "id": "zMmT-EUff1-R",
        "outputId": "8c77cc28-8947-4663-c2b6-1ad8f7218eb3"
      },
      "execution_count": null,
      "outputs": [
        {
          "output_type": "stream",
          "name": "stdout",
          "text": [
            "Ключевые слова и биграммы для title для отрицательных отзывов:\n"
          ]
        },
        {
          "output_type": "execute_result",
          "data": {
            "text/plain": [
              "['банк',\n",
              " 'карта',\n",
              " 'деньга',\n",
              " 'банкомат',\n",
              " 'обслуживание',\n",
              " 'сбербанк',\n",
              " 'кредит',\n",
              " 'отвратительный',\n",
              " 'клиент',\n",
              " 'вклад']"
            ]
          },
          "metadata": {},
          "execution_count": 42
        }
      ]
    },
    {
      "cell_type": "code",
      "source": [
        "print('Ключевые слова и биграммы для text для отрицательных отзывов:')\n",
        "get_top_word(bow_negative_text)"
      ],
      "metadata": {
        "colab": {
          "base_uri": "https://localhost:8080/"
        },
        "id": "ml8FwMB4f-ZR",
        "outputId": "c93df9e8-db74-4ea3-c89d-fca7dfc5392b"
      },
      "execution_count": null,
      "outputs": [
        {
          "output_type": "stream",
          "name": "stdout",
          "text": [
            "Ключевые слова и биграммы для text для отрицательных отзывов:\n"
          ]
        },
        {
          "output_type": "execute_result",
          "data": {
            "text/plain": [
              "['банк',\n",
              " 'карта',\n",
              " 'это',\n",
              " 'деньга',\n",
              " 'отделение',\n",
              " 'кредит',\n",
              " 'день',\n",
              " 'заявление',\n",
              " 'счёт',\n",
              " 'сотрудник']"
            ]
          },
          "metadata": {},
          "execution_count": 43
        }
      ]
    },
    {
      "cell_type": "markdown",
      "source": [
        "# Часть 2. Тематическое моделирование"
      ],
      "metadata": {
        "id": "f9o0O8f5ehGk"
      }
    },
    {
      "cell_type": "markdown",
      "source": [
        "### 1. Постройте несколько тематических моделей коллекции документов с разным числом тем. Приведите примеры понятных (интерпретируемых) тем."
      ],
      "metadata": {
        "id": "8ansa0wsgNLi"
      }
    },
    {
      "cell_type": "code",
      "source": [
        "!pip3 install gensim"
      ],
      "metadata": {
        "colab": {
          "base_uri": "https://localhost:8080/"
        },
        "id": "Y_gASQvThHme",
        "outputId": "d0563aaf-c818-4d61-ba9b-10098f4def70"
      },
      "execution_count": null,
      "outputs": [
        {
          "output_type": "stream",
          "name": "stdout",
          "text": [
            "Requirement already satisfied: gensim in /usr/local/lib/python3.11/dist-packages (4.3.3)\n",
            "Requirement already satisfied: numpy<2.0,>=1.18.5 in /usr/local/lib/python3.11/dist-packages (from gensim) (1.26.4)\n",
            "Requirement already satisfied: scipy<1.14.0,>=1.7.0 in /usr/local/lib/python3.11/dist-packages (from gensim) (1.13.1)\n",
            "Requirement already satisfied: smart-open>=1.8.1 in /usr/local/lib/python3.11/dist-packages (from gensim) (7.1.0)\n",
            "Requirement already satisfied: wrapt in /usr/local/lib/python3.11/dist-packages (from smart-open>=1.8.1->gensim) (1.17.2)\n"
          ]
        }
      ]
    },
    {
      "cell_type": "code",
      "source": [
        "from gensim.corpora import Dictionary\n",
        "from gensim.models import TfidfModel\n",
        "from gensim import similarities"
      ],
      "metadata": {
        "id": "H2pfInJRhxu0"
      },
      "execution_count": null,
      "outputs": []
    },
    {
      "cell_type": "code",
      "source": [
        "texts = [text.split() for text in df_mini.text]\n",
        "dictionary = Dictionary(texts)\n",
        "corpus = [dictionary.doc2bow(text) for text in texts]"
      ],
      "metadata": {
        "id": "FlOB8HgVejlG"
      },
      "execution_count": null,
      "outputs": []
    },
    {
      "cell_type": "code",
      "source": [
        "tfidf = TfidfModel(corpus)\n",
        "corpus_tfidf = tfidf[corpus]"
      ],
      "metadata": {
        "id": "fdQ0c6kmlmfQ"
      },
      "execution_count": null,
      "outputs": []
    },
    {
      "cell_type": "markdown",
      "source": [
        "Построим модели с различным числом тем: 5, 20"
      ],
      "metadata": {
        "id": "ZOyOGqWtmCED"
      }
    },
    {
      "cell_type": "code",
      "source": [
        "from gensim.models import lsimodel, TfidfModel"
      ],
      "metadata": {
        "id": "fgE4QDzCmP0i"
      },
      "execution_count": null,
      "outputs": []
    },
    {
      "cell_type": "code",
      "source": [
        "lsi_5 = lsimodel.LsiModel(corpus=corpus_tfidf, id2word=dictionary, num_topics=5)\n",
        "lsi_5.show_topics(5)"
      ],
      "metadata": {
        "colab": {
          "base_uri": "https://localhost:8080/"
        },
        "id": "yukUHppIl_l_",
        "outputId": "4e597ae8-3f10-4375-a1ee-730d49b5b3a3"
      },
      "execution_count": null,
      "outputs": [
        {
          "output_type": "execute_result",
          "data": {
            "text/plain": [
              "[(0,\n",
              "  '0.127*\"-\" + 0.117*\"я\" + 0.112*\"мне\" + 0.090*\"меня\" + 0.085*\"деньги\" + 0.084*\"Я\" + 0.081*\"о\" + 0.081*\"все\" + 0.081*\"у\" + 0.079*\"за\"'),\n",
              " (1,\n",
              "  '-0.178*\"-\" + 0.146*\"заявление\" + 0.140*\"г.\" + 0.124*\"руб.\" + 0.116*\"денежных\" + 0.115*\"средств\" + 0.112*\"000\" + 0.110*\"средства\" + -0.110*\"вклад\" + 0.100*\"денежные\"'),\n",
              " (2,\n",
              "  '-0.230*\"звонки\" + -0.181*\"кредит\" + 0.181*\"деньги\" + 0.174*\"банкомат\" + -0.167*\"номер\" + 0.157*\"карту\" + 0.144*\"карты\" + -0.129*\"мой\" + -0.103*\"кредита\" + -0.102*\"телефона\"'),\n",
              " (3,\n",
              "  '-0.260*\"номер\" + 0.215*\"кредит\" + -0.176*\"звонки\" + 0.163*\"000\" + 0.157*\"кредита\" + 0.140*\"руб.\" + 0.133*\"сумму\" + -0.123*\"телефона\" + -0.111*\"мой\" + 0.106*\"сумма\"'),\n",
              " (4,\n",
              "  '0.183*\"кредит\" + -0.177*\"вклад\" + -0.171*\"вклада\" + -0.122*\"средств\" + 0.111*\"сказали,\" + -0.110*\"денежных\" + 0.109*\"мне\" + -0.102*\"–\" + -0.098*\"Банка\" + 0.088*\"сказала,\"')]"
            ]
          },
          "metadata": {},
          "execution_count": 13
        }
      ]
    },
    {
      "cell_type": "code",
      "source": [
        "lsi_20 = lsimodel.LsiModel(corpus=corpus_tfidf, id2word=dictionary, num_topics=20)\n",
        "lsi_20.show_topics(5)"
      ],
      "metadata": {
        "colab": {
          "base_uri": "https://localhost:8080/"
        },
        "id": "K8KsKoI2nFrQ",
        "outputId": "c77f5575-3a35-42b1-d2d2-a66cded6ac7b"
      },
      "execution_count": null,
      "outputs": [
        {
          "output_type": "execute_result",
          "data": {
            "text/plain": [
              "[(0,\n",
              "  '0.127*\"-\" + 0.117*\"я\" + 0.112*\"мне\" + 0.090*\"меня\" + 0.085*\"деньги\" + 0.084*\"Я\" + 0.081*\"о\" + 0.081*\"все\" + 0.081*\"у\" + 0.079*\"за\"'),\n",
              " (1,\n",
              "  '-0.178*\"-\" + 0.145*\"заявление\" + 0.141*\"г.\" + 0.124*\"руб.\" + 0.116*\"денежных\" + 0.115*\"средств\" + 0.113*\"000\" + 0.109*\"средства\" + -0.108*\"вклад\" + 0.099*\"размере\"'),\n",
              " (2,\n",
              "  '-0.230*\"звонки\" + -0.184*\"кредит\" + 0.178*\"деньги\" + 0.175*\"банкомат\" + -0.169*\"номер\" + 0.154*\"карту\" + 0.143*\"карты\" + -0.130*\"мой\" + -0.103*\"телефона\" + -0.103*\"кредита\"'),\n",
              " (3,\n",
              "  '-0.259*\"номер\" + 0.212*\"кредит\" + -0.177*\"звонки\" + 0.160*\"кредита\" + 0.158*\"000\" + 0.138*\"руб.\" + 0.135*\"сумму\" + -0.123*\"телефона\" + -0.109*\"мой\" + 0.106*\"сумма\"'),\n",
              " (4,\n",
              "  '0.187*\"кредит\" + -0.177*\"вклад\" + -0.172*\"вклада\" + -0.116*\"средств\" + 0.111*\"сказали,\" + 0.111*\"мне\" + -0.103*\"денежных\" + -0.101*\"–\" + -0.096*\"Банка\" + 0.089*\"Я\"')]"
            ]
          },
          "metadata": {},
          "execution_count": 14
        }
      ]
    },
    {
      "cell_type": "markdown",
      "source": [
        "**Вывод:** для различного числа тем для моделей изменения коснулись только размера вклада тем. Получили понятные темы: карта, кредит, страховка, банкомат и тд."
      ],
      "metadata": {
        "id": "uYNDTRNHozf-"
      }
    },
    {
      "cell_type": "markdown",
      "source": [
        "### 2.2 Найти темы, в которых упомянуты конкретные банки (Сбербанк, ВТБ, другой банк). Можете ли вы их прокомментировать / объяснить?"
      ],
      "metadata": {
        "id": "JmU4d2x0rmu-"
      }
    },
    {
      "cell_type": "markdown",
      "source": [
        "Проверим первые 20 отзывов на основе модели lsi_20 на наличие тем, связанных с конкретными банками."
      ],
      "metadata": {
        "id": "WMrirwJxruA4"
      }
    },
    {
      "cell_type": "code",
      "source": [
        "banks = ['сбербанк', 'альфа', 'втб', 'тинькофф']\n",
        "responses = []\n",
        "\n",
        "for idx in range(20):\n",
        "    for response in lsi_20.show_topic(topicno=idx, topn=10):\n",
        "        if response[0] in banks:\n",
        "            responses.append([idx, lsi_20.show_topic(topicno=idx, topn=10)])\n",
        "\n",
        "responses"
      ],
      "metadata": {
        "colab": {
          "base_uri": "https://localhost:8080/"
        },
        "id": "XWwDuHgkrrIX",
        "outputId": "e1f3d390-6f96-48b9-9ba6-04df2e321da3"
      },
      "execution_count": null,
      "outputs": [
        {
          "output_type": "execute_result",
          "data": {
            "text/plain": [
              "[]"
            ]
          },
          "metadata": {},
          "execution_count": 15
        }
      ]
    },
    {
      "cell_type": "code",
      "source": [],
      "metadata": {
        "id": "64CRt8ferzBb"
      },
      "execution_count": null,
      "outputs": []
    },
    {
      "cell_type": "markdown",
      "source": [
        "# Часть 3. Классификация текстов\n",
        "\n"
      ],
      "metadata": {
        "id": "4HBptkh4ep9a"
      }
    },
    {
      "cell_type": "markdown",
      "source": [
        "### 3.1 Сформулировать для простоты задачу бинарной классификации: классифицировать на два класса, то есть, различать резко отрицательные отзывы (с оценкой 1) и положительные отзывы (с оценкой 5)."
      ],
      "metadata": {
        "id": "2F1pYNfPxcM4"
      }
    },
    {
      "cell_type": "markdown",
      "source": [
        "Используем датафреймы positive и negative, полученные в п.1.6, оставим в них только text"
      ],
      "metadata": {
        "id": "blklRuKoxgJ8"
      }
    },
    {
      "cell_type": "code",
      "source": [
        "data = pd.concat([positive, negative])"
      ],
      "metadata": {
        "id": "YpkZZG2Te8Uc"
      },
      "execution_count": null,
      "outputs": []
    },
    {
      "cell_type": "code",
      "source": [
        "X = data['text']\n",
        "y = data['rating_grade']"
      ],
      "metadata": {
        "id": "Mefn8NF6fBLg"
      },
      "execution_count": null,
      "outputs": []
    },
    {
      "cell_type": "code",
      "source": [
        "X.head()"
      ],
      "metadata": {
        "colab": {
          "base_uri": "https://localhost:8080/",
          "height": 238
        },
        "id": "A25xzXoaxl0w",
        "outputId": "6b9eec4f-3870-4ade-fd64-73dd9e61f65e"
      },
      "execution_count": null,
      "outputs": [
        {
          "output_type": "execute_result",
          "data": {
            "text/plain": [
              "121817    У меня в СМП счет ИП, карта и вклад, так что м...\n",
              "40363     Уважаемый Банк ВТБ24! Хотелось поблагодарить Б...\n",
              "19803     Уважаемый Денис Робертович! Позвольте от всей ...\n",
              "44329     Добрый день! Хочу поделиться мнением об обслуж...\n",
              "133736    Я обслуживаюсь в  Пробизнесбанке совсем недавн...\n",
              "Name: text, dtype: object"
            ],
            "text/html": [
              "<div>\n",
              "<style scoped>\n",
              "    .dataframe tbody tr th:only-of-type {\n",
              "        vertical-align: middle;\n",
              "    }\n",
              "\n",
              "    .dataframe tbody tr th {\n",
              "        vertical-align: top;\n",
              "    }\n",
              "\n",
              "    .dataframe thead th {\n",
              "        text-align: right;\n",
              "    }\n",
              "</style>\n",
              "<table border=\"1\" class=\"dataframe\">\n",
              "  <thead>\n",
              "    <tr style=\"text-align: right;\">\n",
              "      <th></th>\n",
              "      <th>text</th>\n",
              "    </tr>\n",
              "  </thead>\n",
              "  <tbody>\n",
              "    <tr>\n",
              "      <th>121817</th>\n",
              "      <td>У меня в СМП счет ИП, карта и вклад, так что м...</td>\n",
              "    </tr>\n",
              "    <tr>\n",
              "      <th>40363</th>\n",
              "      <td>Уважаемый Банк ВТБ24! Хотелось поблагодарить Б...</td>\n",
              "    </tr>\n",
              "    <tr>\n",
              "      <th>19803</th>\n",
              "      <td>Уважаемый Денис Робертович! Позвольте от всей ...</td>\n",
              "    </tr>\n",
              "    <tr>\n",
              "      <th>44329</th>\n",
              "      <td>Добрый день! Хочу поделиться мнением об обслуж...</td>\n",
              "    </tr>\n",
              "    <tr>\n",
              "      <th>133736</th>\n",
              "      <td>Я обслуживаюсь в  Пробизнесбанке совсем недавн...</td>\n",
              "    </tr>\n",
              "  </tbody>\n",
              "</table>\n",
              "</div><br><label><b>dtype:</b> object</label>"
            ]
          },
          "metadata": {},
          "execution_count": 20
        }
      ]
    },
    {
      "cell_type": "markdown",
      "source": [
        "### 3.2 Составить обучающее и тестовое множество: выбрать из всего набора данных N1 отзывов с оценкой 1 и N2 отзывов с оценкой 5 (значение N1 и N2 – на ваше усмотрение). Использовать sklearn.model_selection.train_test_split для разделения множества отобранных документов на обучающее и тестовое."
      ],
      "metadata": {
        "id": "k1w8bez7xtrk"
      }
    },
    {
      "cell_type": "code",
      "source": [
        "X_train, X_test, y_train, y_test = train_test_split(X, y, test_size=0.2, random_state = 21)"
      ],
      "metadata": {
        "id": "00_ONd70xpAz"
      },
      "execution_count": null,
      "outputs": []
    },
    {
      "cell_type": "markdown",
      "source": [
        "### 3.3 Использовать любой известный алгоритм классификации текстов для решения задачи и получите baseline. Сравнить разные варианты векторизации текста: с использованием только униграм, пар или троек слов или с использованием символьных n-грамм"
      ],
      "metadata": {
        "id": "rAyycTrnx0Y5"
      }
    },
    {
      "cell_type": "code",
      "source": [
        "def random_forest_n_gram(n, analyzer='word'):\n",
        "    '''Принимает размер n-gram и строит модель'''\n",
        "    vec = CountVectorizer(analyzer=analyzer, ngram_range=(n, n))\n",
        "    bow = vec.fit_transform(X_train)\n",
        "\n",
        "    model = RandomForestClassifier(random_state=21)\n",
        "    model.fit(bow, y_train)\n",
        "\n",
        "    pred = model.predict(vec.transform(X_test))\n",
        "    print(classification_report(pred, y_test))"
      ],
      "metadata": {
        "id": "jNO1Hn_Px1ng"
      },
      "execution_count": null,
      "outputs": []
    },
    {
      "cell_type": "code",
      "source": [
        "print('Модель с использованием только униграмм')\n",
        "random_forest_n_gram(1)"
      ],
      "metadata": {
        "colab": {
          "base_uri": "https://localhost:8080/"
        },
        "id": "KZawjSVMx4QQ",
        "outputId": "00c8d215-ac3a-45d4-8744-146ee896d71b"
      },
      "execution_count": null,
      "outputs": [
        {
          "output_type": "stream",
          "name": "stdout",
          "text": [
            "Модель с использованием только униграмм\n",
            "              precision    recall  f1-score   support\n",
            "\n",
            "         1.0       1.00      0.85      0.92      2742\n",
            "         5.0       0.46      1.00      0.63       346\n",
            "\n",
            "    accuracy                           0.87      3088\n",
            "   macro avg       0.73      0.93      0.78      3088\n",
            "weighted avg       0.94      0.87      0.89      3088\n",
            "\n"
          ]
        }
      ]
    },
    {
      "cell_type": "code",
      "source": [
        "print('Модель с использованием только биграмм')\n",
        "random_forest_n_gram(2)"
      ],
      "metadata": {
        "colab": {
          "base_uri": "https://localhost:8080/"
        },
        "id": "h6TCOFEOyF_t",
        "outputId": "9b9db284-a7fc-4ae4-aa45-148a67abe214"
      },
      "execution_count": null,
      "outputs": [
        {
          "output_type": "stream",
          "name": "stdout",
          "text": [
            "Модель с использованием только биграмм\n",
            "              precision    recall  f1-score   support\n",
            "\n",
            "         1.0       1.00      0.84      0.91      2791\n",
            "         5.0       0.39      0.99      0.57       297\n",
            "\n",
            "    accuracy                           0.85      3088\n",
            "   macro avg       0.70      0.92      0.74      3088\n",
            "weighted avg       0.94      0.85      0.88      3088\n",
            "\n"
          ]
        }
      ]
    },
    {
      "cell_type": "code",
      "source": [
        "print('Модель с использованием только триграмм')\n",
        "random_forest_n_gram(3)"
      ],
      "metadata": {
        "colab": {
          "base_uri": "https://localhost:8080/"
        },
        "id": "97okHvyLyGrZ",
        "outputId": "4e359ba1-a76c-4ea1-fc6f-3007ef956d04"
      },
      "execution_count": null,
      "outputs": [
        {
          "output_type": "stream",
          "name": "stdout",
          "text": [
            "Модель с использованием только триграмм\n",
            "              precision    recall  f1-score   support\n",
            "\n",
            "         1.0       0.99      0.80      0.88      2919\n",
            "         5.0       0.21      0.92      0.34       169\n",
            "\n",
            "    accuracy                           0.80      3088\n",
            "   macro avg       0.60      0.86      0.61      3088\n",
            "weighted avg       0.95      0.80      0.85      3088\n",
            "\n"
          ]
        }
      ]
    },
    {
      "cell_type": "code",
      "source": [
        "print('Модель с использованием использованием символьных n-грамм')\n",
        "random_forest_n_gram(1, analyzer='char')"
      ],
      "metadata": {
        "id": "3pbjnElWyJza",
        "colab": {
          "base_uri": "https://localhost:8080/"
        },
        "outputId": "bc552b4f-e4be-461c-a97c-6f4d0249833a"
      },
      "execution_count": null,
      "outputs": [
        {
          "output_type": "stream",
          "name": "stdout",
          "text": [
            "Модель с использованием использованием символьных n-грамм\n",
            "              precision    recall  f1-score   support\n",
            "\n",
            "         1.0       0.98      0.80      0.88      2869\n",
            "         5.0       0.23      0.80      0.36       219\n",
            "\n",
            "    accuracy                           0.80      3088\n",
            "   macro avg       0.61      0.80      0.62      3088\n",
            "weighted avg       0.93      0.80      0.84      3088\n",
            "\n"
          ]
        }
      ]
    },
    {
      "cell_type": "markdown",
      "source": [
        "Вывод: модели RandomForestClassifier на основе униграмм и биграмм на подвыборке показали примерно одинаковую точность 0.8"
      ],
      "metadata": {
        "id": "9igY-gxgyQxL"
      }
    },
    {
      "cell_type": "markdown",
      "source": [
        "### 3.4 Сравнить, как изменяется качество решения задачи при использовании скрытых тем в качестве признаков:\n",
        "\n",
        "- преобразование (sklearn.feature_extraction.text.TfidfTransformer) и сингулярное разложение (оно же – латентый семантический анализ) (sklearn.decomposition.TruncatedSVD)"
      ],
      "metadata": {
        "id": "Nt4GVp_4f2hm"
      }
    },
    {
      "cell_type": "code",
      "source": [
        "model_tf_idf_TruncatedSVD = Pipeline([\n",
        "    ('vect', CountVectorizer()),\n",
        "    ('tfidf', TfidfTransformer()),\n",
        "    ('tm', TruncatedSVD()),\n",
        "    ('model', RandomForestClassifier())\n",
        "])"
      ],
      "metadata": {
        "id": "bVPeCnu8f3wA"
      },
      "execution_count": null,
      "outputs": []
    },
    {
      "cell_type": "code",
      "source": [
        "model_tf_idf_TruncatedSVD.fit(X_train, y_train)"
      ],
      "metadata": {
        "colab": {
          "base_uri": "https://localhost:8080/",
          "height": 236
        },
        "id": "aDgZdVMIf_bQ",
        "outputId": "e5371bf1-adab-49d5-82a6-f43527b98180"
      },
      "execution_count": null,
      "outputs": [
        {
          "output_type": "execute_result",
          "data": {
            "text/plain": [
              "Pipeline(steps=[('vect', CountVectorizer()), ('tfidf', TfidfTransformer()),\n",
              "                ('tm', TruncatedSVD()), ('model', RandomForestClassifier())])"
            ],
            "text/html": [
              "<style>#sk-container-id-1 {\n",
              "  /* Definition of color scheme common for light and dark mode */\n",
              "  --sklearn-color-text: #000;\n",
              "  --sklearn-color-text-muted: #666;\n",
              "  --sklearn-color-line: gray;\n",
              "  /* Definition of color scheme for unfitted estimators */\n",
              "  --sklearn-color-unfitted-level-0: #fff5e6;\n",
              "  --sklearn-color-unfitted-level-1: #f6e4d2;\n",
              "  --sklearn-color-unfitted-level-2: #ffe0b3;\n",
              "  --sklearn-color-unfitted-level-3: chocolate;\n",
              "  /* Definition of color scheme for fitted estimators */\n",
              "  --sklearn-color-fitted-level-0: #f0f8ff;\n",
              "  --sklearn-color-fitted-level-1: #d4ebff;\n",
              "  --sklearn-color-fitted-level-2: #b3dbfd;\n",
              "  --sklearn-color-fitted-level-3: cornflowerblue;\n",
              "\n",
              "  /* Specific color for light theme */\n",
              "  --sklearn-color-text-on-default-background: var(--sg-text-color, var(--theme-code-foreground, var(--jp-content-font-color1, black)));\n",
              "  --sklearn-color-background: var(--sg-background-color, var(--theme-background, var(--jp-layout-color0, white)));\n",
              "  --sklearn-color-border-box: var(--sg-text-color, var(--theme-code-foreground, var(--jp-content-font-color1, black)));\n",
              "  --sklearn-color-icon: #696969;\n",
              "\n",
              "  @media (prefers-color-scheme: dark) {\n",
              "    /* Redefinition of color scheme for dark theme */\n",
              "    --sklearn-color-text-on-default-background: var(--sg-text-color, var(--theme-code-foreground, var(--jp-content-font-color1, white)));\n",
              "    --sklearn-color-background: var(--sg-background-color, var(--theme-background, var(--jp-layout-color0, #111)));\n",
              "    --sklearn-color-border-box: var(--sg-text-color, var(--theme-code-foreground, var(--jp-content-font-color1, white)));\n",
              "    --sklearn-color-icon: #878787;\n",
              "  }\n",
              "}\n",
              "\n",
              "#sk-container-id-1 {\n",
              "  color: var(--sklearn-color-text);\n",
              "}\n",
              "\n",
              "#sk-container-id-1 pre {\n",
              "  padding: 0;\n",
              "}\n",
              "\n",
              "#sk-container-id-1 input.sk-hidden--visually {\n",
              "  border: 0;\n",
              "  clip: rect(1px 1px 1px 1px);\n",
              "  clip: rect(1px, 1px, 1px, 1px);\n",
              "  height: 1px;\n",
              "  margin: -1px;\n",
              "  overflow: hidden;\n",
              "  padding: 0;\n",
              "  position: absolute;\n",
              "  width: 1px;\n",
              "}\n",
              "\n",
              "#sk-container-id-1 div.sk-dashed-wrapped {\n",
              "  border: 1px dashed var(--sklearn-color-line);\n",
              "  margin: 0 0.4em 0.5em 0.4em;\n",
              "  box-sizing: border-box;\n",
              "  padding-bottom: 0.4em;\n",
              "  background-color: var(--sklearn-color-background);\n",
              "}\n",
              "\n",
              "#sk-container-id-1 div.sk-container {\n",
              "  /* jupyter's `normalize.less` sets `[hidden] { display: none; }`\n",
              "     but bootstrap.min.css set `[hidden] { display: none !important; }`\n",
              "     so we also need the `!important` here to be able to override the\n",
              "     default hidden behavior on the sphinx rendered scikit-learn.org.\n",
              "     See: https://github.com/scikit-learn/scikit-learn/issues/21755 */\n",
              "  display: inline-block !important;\n",
              "  position: relative;\n",
              "}\n",
              "\n",
              "#sk-container-id-1 div.sk-text-repr-fallback {\n",
              "  display: none;\n",
              "}\n",
              "\n",
              "div.sk-parallel-item,\n",
              "div.sk-serial,\n",
              "div.sk-item {\n",
              "  /* draw centered vertical line to link estimators */\n",
              "  background-image: linear-gradient(var(--sklearn-color-text-on-default-background), var(--sklearn-color-text-on-default-background));\n",
              "  background-size: 2px 100%;\n",
              "  background-repeat: no-repeat;\n",
              "  background-position: center center;\n",
              "}\n",
              "\n",
              "/* Parallel-specific style estimator block */\n",
              "\n",
              "#sk-container-id-1 div.sk-parallel-item::after {\n",
              "  content: \"\";\n",
              "  width: 100%;\n",
              "  border-bottom: 2px solid var(--sklearn-color-text-on-default-background);\n",
              "  flex-grow: 1;\n",
              "}\n",
              "\n",
              "#sk-container-id-1 div.sk-parallel {\n",
              "  display: flex;\n",
              "  align-items: stretch;\n",
              "  justify-content: center;\n",
              "  background-color: var(--sklearn-color-background);\n",
              "  position: relative;\n",
              "}\n",
              "\n",
              "#sk-container-id-1 div.sk-parallel-item {\n",
              "  display: flex;\n",
              "  flex-direction: column;\n",
              "}\n",
              "\n",
              "#sk-container-id-1 div.sk-parallel-item:first-child::after {\n",
              "  align-self: flex-end;\n",
              "  width: 50%;\n",
              "}\n",
              "\n",
              "#sk-container-id-1 div.sk-parallel-item:last-child::after {\n",
              "  align-self: flex-start;\n",
              "  width: 50%;\n",
              "}\n",
              "\n",
              "#sk-container-id-1 div.sk-parallel-item:only-child::after {\n",
              "  width: 0;\n",
              "}\n",
              "\n",
              "/* Serial-specific style estimator block */\n",
              "\n",
              "#sk-container-id-1 div.sk-serial {\n",
              "  display: flex;\n",
              "  flex-direction: column;\n",
              "  align-items: center;\n",
              "  background-color: var(--sklearn-color-background);\n",
              "  padding-right: 1em;\n",
              "  padding-left: 1em;\n",
              "}\n",
              "\n",
              "\n",
              "/* Toggleable style: style used for estimator/Pipeline/ColumnTransformer box that is\n",
              "clickable and can be expanded/collapsed.\n",
              "- Pipeline and ColumnTransformer use this feature and define the default style\n",
              "- Estimators will overwrite some part of the style using the `sk-estimator` class\n",
              "*/\n",
              "\n",
              "/* Pipeline and ColumnTransformer style (default) */\n",
              "\n",
              "#sk-container-id-1 div.sk-toggleable {\n",
              "  /* Default theme specific background. It is overwritten whether we have a\n",
              "  specific estimator or a Pipeline/ColumnTransformer */\n",
              "  background-color: var(--sklearn-color-background);\n",
              "}\n",
              "\n",
              "/* Toggleable label */\n",
              "#sk-container-id-1 label.sk-toggleable__label {\n",
              "  cursor: pointer;\n",
              "  display: flex;\n",
              "  width: 100%;\n",
              "  margin-bottom: 0;\n",
              "  padding: 0.5em;\n",
              "  box-sizing: border-box;\n",
              "  text-align: center;\n",
              "  align-items: start;\n",
              "  justify-content: space-between;\n",
              "  gap: 0.5em;\n",
              "}\n",
              "\n",
              "#sk-container-id-1 label.sk-toggleable__label .caption {\n",
              "  font-size: 0.6rem;\n",
              "  font-weight: lighter;\n",
              "  color: var(--sklearn-color-text-muted);\n",
              "}\n",
              "\n",
              "#sk-container-id-1 label.sk-toggleable__label-arrow:before {\n",
              "  /* Arrow on the left of the label */\n",
              "  content: \"▸\";\n",
              "  float: left;\n",
              "  margin-right: 0.25em;\n",
              "  color: var(--sklearn-color-icon);\n",
              "}\n",
              "\n",
              "#sk-container-id-1 label.sk-toggleable__label-arrow:hover:before {\n",
              "  color: var(--sklearn-color-text);\n",
              "}\n",
              "\n",
              "/* Toggleable content - dropdown */\n",
              "\n",
              "#sk-container-id-1 div.sk-toggleable__content {\n",
              "  max-height: 0;\n",
              "  max-width: 0;\n",
              "  overflow: hidden;\n",
              "  text-align: left;\n",
              "  /* unfitted */\n",
              "  background-color: var(--sklearn-color-unfitted-level-0);\n",
              "}\n",
              "\n",
              "#sk-container-id-1 div.sk-toggleable__content.fitted {\n",
              "  /* fitted */\n",
              "  background-color: var(--sklearn-color-fitted-level-0);\n",
              "}\n",
              "\n",
              "#sk-container-id-1 div.sk-toggleable__content pre {\n",
              "  margin: 0.2em;\n",
              "  border-radius: 0.25em;\n",
              "  color: var(--sklearn-color-text);\n",
              "  /* unfitted */\n",
              "  background-color: var(--sklearn-color-unfitted-level-0);\n",
              "}\n",
              "\n",
              "#sk-container-id-1 div.sk-toggleable__content.fitted pre {\n",
              "  /* unfitted */\n",
              "  background-color: var(--sklearn-color-fitted-level-0);\n",
              "}\n",
              "\n",
              "#sk-container-id-1 input.sk-toggleable__control:checked~div.sk-toggleable__content {\n",
              "  /* Expand drop-down */\n",
              "  max-height: 200px;\n",
              "  max-width: 100%;\n",
              "  overflow: auto;\n",
              "}\n",
              "\n",
              "#sk-container-id-1 input.sk-toggleable__control:checked~label.sk-toggleable__label-arrow:before {\n",
              "  content: \"▾\";\n",
              "}\n",
              "\n",
              "/* Pipeline/ColumnTransformer-specific style */\n",
              "\n",
              "#sk-container-id-1 div.sk-label input.sk-toggleable__control:checked~label.sk-toggleable__label {\n",
              "  color: var(--sklearn-color-text);\n",
              "  background-color: var(--sklearn-color-unfitted-level-2);\n",
              "}\n",
              "\n",
              "#sk-container-id-1 div.sk-label.fitted input.sk-toggleable__control:checked~label.sk-toggleable__label {\n",
              "  background-color: var(--sklearn-color-fitted-level-2);\n",
              "}\n",
              "\n",
              "/* Estimator-specific style */\n",
              "\n",
              "/* Colorize estimator box */\n",
              "#sk-container-id-1 div.sk-estimator input.sk-toggleable__control:checked~label.sk-toggleable__label {\n",
              "  /* unfitted */\n",
              "  background-color: var(--sklearn-color-unfitted-level-2);\n",
              "}\n",
              "\n",
              "#sk-container-id-1 div.sk-estimator.fitted input.sk-toggleable__control:checked~label.sk-toggleable__label {\n",
              "  /* fitted */\n",
              "  background-color: var(--sklearn-color-fitted-level-2);\n",
              "}\n",
              "\n",
              "#sk-container-id-1 div.sk-label label.sk-toggleable__label,\n",
              "#sk-container-id-1 div.sk-label label {\n",
              "  /* The background is the default theme color */\n",
              "  color: var(--sklearn-color-text-on-default-background);\n",
              "}\n",
              "\n",
              "/* On hover, darken the color of the background */\n",
              "#sk-container-id-1 div.sk-label:hover label.sk-toggleable__label {\n",
              "  color: var(--sklearn-color-text);\n",
              "  background-color: var(--sklearn-color-unfitted-level-2);\n",
              "}\n",
              "\n",
              "/* Label box, darken color on hover, fitted */\n",
              "#sk-container-id-1 div.sk-label.fitted:hover label.sk-toggleable__label.fitted {\n",
              "  color: var(--sklearn-color-text);\n",
              "  background-color: var(--sklearn-color-fitted-level-2);\n",
              "}\n",
              "\n",
              "/* Estimator label */\n",
              "\n",
              "#sk-container-id-1 div.sk-label label {\n",
              "  font-family: monospace;\n",
              "  font-weight: bold;\n",
              "  display: inline-block;\n",
              "  line-height: 1.2em;\n",
              "}\n",
              "\n",
              "#sk-container-id-1 div.sk-label-container {\n",
              "  text-align: center;\n",
              "}\n",
              "\n",
              "/* Estimator-specific */\n",
              "#sk-container-id-1 div.sk-estimator {\n",
              "  font-family: monospace;\n",
              "  border: 1px dotted var(--sklearn-color-border-box);\n",
              "  border-radius: 0.25em;\n",
              "  box-sizing: border-box;\n",
              "  margin-bottom: 0.5em;\n",
              "  /* unfitted */\n",
              "  background-color: var(--sklearn-color-unfitted-level-0);\n",
              "}\n",
              "\n",
              "#sk-container-id-1 div.sk-estimator.fitted {\n",
              "  /* fitted */\n",
              "  background-color: var(--sklearn-color-fitted-level-0);\n",
              "}\n",
              "\n",
              "/* on hover */\n",
              "#sk-container-id-1 div.sk-estimator:hover {\n",
              "  /* unfitted */\n",
              "  background-color: var(--sklearn-color-unfitted-level-2);\n",
              "}\n",
              "\n",
              "#sk-container-id-1 div.sk-estimator.fitted:hover {\n",
              "  /* fitted */\n",
              "  background-color: var(--sklearn-color-fitted-level-2);\n",
              "}\n",
              "\n",
              "/* Specification for estimator info (e.g. \"i\" and \"?\") */\n",
              "\n",
              "/* Common style for \"i\" and \"?\" */\n",
              "\n",
              ".sk-estimator-doc-link,\n",
              "a:link.sk-estimator-doc-link,\n",
              "a:visited.sk-estimator-doc-link {\n",
              "  float: right;\n",
              "  font-size: smaller;\n",
              "  line-height: 1em;\n",
              "  font-family: monospace;\n",
              "  background-color: var(--sklearn-color-background);\n",
              "  border-radius: 1em;\n",
              "  height: 1em;\n",
              "  width: 1em;\n",
              "  text-decoration: none !important;\n",
              "  margin-left: 0.5em;\n",
              "  text-align: center;\n",
              "  /* unfitted */\n",
              "  border: var(--sklearn-color-unfitted-level-1) 1pt solid;\n",
              "  color: var(--sklearn-color-unfitted-level-1);\n",
              "}\n",
              "\n",
              ".sk-estimator-doc-link.fitted,\n",
              "a:link.sk-estimator-doc-link.fitted,\n",
              "a:visited.sk-estimator-doc-link.fitted {\n",
              "  /* fitted */\n",
              "  border: var(--sklearn-color-fitted-level-1) 1pt solid;\n",
              "  color: var(--sklearn-color-fitted-level-1);\n",
              "}\n",
              "\n",
              "/* On hover */\n",
              "div.sk-estimator:hover .sk-estimator-doc-link:hover,\n",
              ".sk-estimator-doc-link:hover,\n",
              "div.sk-label-container:hover .sk-estimator-doc-link:hover,\n",
              ".sk-estimator-doc-link:hover {\n",
              "  /* unfitted */\n",
              "  background-color: var(--sklearn-color-unfitted-level-3);\n",
              "  color: var(--sklearn-color-background);\n",
              "  text-decoration: none;\n",
              "}\n",
              "\n",
              "div.sk-estimator.fitted:hover .sk-estimator-doc-link.fitted:hover,\n",
              ".sk-estimator-doc-link.fitted:hover,\n",
              "div.sk-label-container:hover .sk-estimator-doc-link.fitted:hover,\n",
              ".sk-estimator-doc-link.fitted:hover {\n",
              "  /* fitted */\n",
              "  background-color: var(--sklearn-color-fitted-level-3);\n",
              "  color: var(--sklearn-color-background);\n",
              "  text-decoration: none;\n",
              "}\n",
              "\n",
              "/* Span, style for the box shown on hovering the info icon */\n",
              ".sk-estimator-doc-link span {\n",
              "  display: none;\n",
              "  z-index: 9999;\n",
              "  position: relative;\n",
              "  font-weight: normal;\n",
              "  right: .2ex;\n",
              "  padding: .5ex;\n",
              "  margin: .5ex;\n",
              "  width: min-content;\n",
              "  min-width: 20ex;\n",
              "  max-width: 50ex;\n",
              "  color: var(--sklearn-color-text);\n",
              "  box-shadow: 2pt 2pt 4pt #999;\n",
              "  /* unfitted */\n",
              "  background: var(--sklearn-color-unfitted-level-0);\n",
              "  border: .5pt solid var(--sklearn-color-unfitted-level-3);\n",
              "}\n",
              "\n",
              ".sk-estimator-doc-link.fitted span {\n",
              "  /* fitted */\n",
              "  background: var(--sklearn-color-fitted-level-0);\n",
              "  border: var(--sklearn-color-fitted-level-3);\n",
              "}\n",
              "\n",
              ".sk-estimator-doc-link:hover span {\n",
              "  display: block;\n",
              "}\n",
              "\n",
              "/* \"?\"-specific style due to the `<a>` HTML tag */\n",
              "\n",
              "#sk-container-id-1 a.estimator_doc_link {\n",
              "  float: right;\n",
              "  font-size: 1rem;\n",
              "  line-height: 1em;\n",
              "  font-family: monospace;\n",
              "  background-color: var(--sklearn-color-background);\n",
              "  border-radius: 1rem;\n",
              "  height: 1rem;\n",
              "  width: 1rem;\n",
              "  text-decoration: none;\n",
              "  /* unfitted */\n",
              "  color: var(--sklearn-color-unfitted-level-1);\n",
              "  border: var(--sklearn-color-unfitted-level-1) 1pt solid;\n",
              "}\n",
              "\n",
              "#sk-container-id-1 a.estimator_doc_link.fitted {\n",
              "  /* fitted */\n",
              "  border: var(--sklearn-color-fitted-level-1) 1pt solid;\n",
              "  color: var(--sklearn-color-fitted-level-1);\n",
              "}\n",
              "\n",
              "/* On hover */\n",
              "#sk-container-id-1 a.estimator_doc_link:hover {\n",
              "  /* unfitted */\n",
              "  background-color: var(--sklearn-color-unfitted-level-3);\n",
              "  color: var(--sklearn-color-background);\n",
              "  text-decoration: none;\n",
              "}\n",
              "\n",
              "#sk-container-id-1 a.estimator_doc_link.fitted:hover {\n",
              "  /* fitted */\n",
              "  background-color: var(--sklearn-color-fitted-level-3);\n",
              "}\n",
              "</style><div id=\"sk-container-id-1\" class=\"sk-top-container\"><div class=\"sk-text-repr-fallback\"><pre>Pipeline(steps=[(&#x27;vect&#x27;, CountVectorizer()), (&#x27;tfidf&#x27;, TfidfTransformer()),\n",
              "                (&#x27;tm&#x27;, TruncatedSVD()), (&#x27;model&#x27;, RandomForestClassifier())])</pre><b>In a Jupyter environment, please rerun this cell to show the HTML representation or trust the notebook. <br />On GitHub, the HTML representation is unable to render, please try loading this page with nbviewer.org.</b></div><div class=\"sk-container\" hidden><div class=\"sk-item sk-dashed-wrapped\"><div class=\"sk-label-container\"><div class=\"sk-label fitted sk-toggleable\"><input class=\"sk-toggleable__control sk-hidden--visually\" id=\"sk-estimator-id-1\" type=\"checkbox\" ><label for=\"sk-estimator-id-1\" class=\"sk-toggleable__label fitted sk-toggleable__label-arrow\"><div><div>Pipeline</div></div><div><a class=\"sk-estimator-doc-link fitted\" rel=\"noreferrer\" target=\"_blank\" href=\"https://scikit-learn.org/1.6/modules/generated/sklearn.pipeline.Pipeline.html\">?<span>Documentation for Pipeline</span></a><span class=\"sk-estimator-doc-link fitted\">i<span>Fitted</span></span></div></label><div class=\"sk-toggleable__content fitted\"><pre>Pipeline(steps=[(&#x27;vect&#x27;, CountVectorizer()), (&#x27;tfidf&#x27;, TfidfTransformer()),\n",
              "                (&#x27;tm&#x27;, TruncatedSVD()), (&#x27;model&#x27;, RandomForestClassifier())])</pre></div> </div></div><div class=\"sk-serial\"><div class=\"sk-item\"><div class=\"sk-estimator fitted sk-toggleable\"><input class=\"sk-toggleable__control sk-hidden--visually\" id=\"sk-estimator-id-2\" type=\"checkbox\" ><label for=\"sk-estimator-id-2\" class=\"sk-toggleable__label fitted sk-toggleable__label-arrow\"><div><div>CountVectorizer</div></div><div><a class=\"sk-estimator-doc-link fitted\" rel=\"noreferrer\" target=\"_blank\" href=\"https://scikit-learn.org/1.6/modules/generated/sklearn.feature_extraction.text.CountVectorizer.html\">?<span>Documentation for CountVectorizer</span></a></div></label><div class=\"sk-toggleable__content fitted\"><pre>CountVectorizer()</pre></div> </div></div><div class=\"sk-item\"><div class=\"sk-estimator fitted sk-toggleable\"><input class=\"sk-toggleable__control sk-hidden--visually\" id=\"sk-estimator-id-3\" type=\"checkbox\" ><label for=\"sk-estimator-id-3\" class=\"sk-toggleable__label fitted sk-toggleable__label-arrow\"><div><div>TfidfTransformer</div></div><div><a class=\"sk-estimator-doc-link fitted\" rel=\"noreferrer\" target=\"_blank\" href=\"https://scikit-learn.org/1.6/modules/generated/sklearn.feature_extraction.text.TfidfTransformer.html\">?<span>Documentation for TfidfTransformer</span></a></div></label><div class=\"sk-toggleable__content fitted\"><pre>TfidfTransformer()</pre></div> </div></div><div class=\"sk-item\"><div class=\"sk-estimator fitted sk-toggleable\"><input class=\"sk-toggleable__control sk-hidden--visually\" id=\"sk-estimator-id-4\" type=\"checkbox\" ><label for=\"sk-estimator-id-4\" class=\"sk-toggleable__label fitted sk-toggleable__label-arrow\"><div><div>TruncatedSVD</div></div><div><a class=\"sk-estimator-doc-link fitted\" rel=\"noreferrer\" target=\"_blank\" href=\"https://scikit-learn.org/1.6/modules/generated/sklearn.decomposition.TruncatedSVD.html\">?<span>Documentation for TruncatedSVD</span></a></div></label><div class=\"sk-toggleable__content fitted\"><pre>TruncatedSVD()</pre></div> </div></div><div class=\"sk-item\"><div class=\"sk-estimator fitted sk-toggleable\"><input class=\"sk-toggleable__control sk-hidden--visually\" id=\"sk-estimator-id-5\" type=\"checkbox\" ><label for=\"sk-estimator-id-5\" class=\"sk-toggleable__label fitted sk-toggleable__label-arrow\"><div><div>RandomForestClassifier</div></div><div><a class=\"sk-estimator-doc-link fitted\" rel=\"noreferrer\" target=\"_blank\" href=\"https://scikit-learn.org/1.6/modules/generated/sklearn.ensemble.RandomForestClassifier.html\">?<span>Documentation for RandomForestClassifier</span></a></div></label><div class=\"sk-toggleable__content fitted\"><pre>RandomForestClassifier()</pre></div> </div></div></div></div></div></div>"
            ]
          },
          "metadata": {},
          "execution_count": 28
        }
      ]
    },
    {
      "cell_type": "code",
      "source": [
        "truncatedsvd_pred = model_tf_idf_TruncatedSVD.predict(X_test)\n",
        "print(classification_report(truncatedsvd_pred, y_test))"
      ],
      "metadata": {
        "colab": {
          "base_uri": "https://localhost:8080/"
        },
        "id": "U-TS7s9ggDsW",
        "outputId": "0c94a186-11bc-4227-f0b6-34a66bad5c53"
      },
      "execution_count": null,
      "outputs": [
        {
          "output_type": "stream",
          "name": "stdout",
          "text": [
            "              precision    recall  f1-score   support\n",
            "\n",
            "         1.0       0.91      0.84      0.88      2537\n",
            "         5.0       0.46      0.63      0.53       551\n",
            "\n",
            "    accuracy                           0.80      3088\n",
            "   macro avg       0.69      0.73      0.70      3088\n",
            "weighted avg       0.83      0.80      0.81      3088\n",
            "\n"
          ]
        }
      ]
    },
    {
      "cell_type": "markdown",
      "source": [
        "- тематические модели LDA (sklearn.decomposition.LatentDirichletAllocation). Используйте accuracy и F-measure для оценки качества классификации."
      ],
      "metadata": {
        "id": "8YFBqmN9gNIp"
      }
    },
    {
      "cell_type": "code",
      "source": [
        "model_tf_idf_LDA = Pipeline([\n",
        "     ('vect', CountVectorizer()),\n",
        "     ('lda', LatentDirichletAllocation()),\n",
        "     ('model', RandomForestClassifier())\n",
        "])"
      ],
      "metadata": {
        "id": "iPXOG3ivgK_A"
      },
      "execution_count": null,
      "outputs": []
    },
    {
      "cell_type": "code",
      "source": [
        "model_tf_idf_LDA.fit(X_train, y_train)\n",
        "lda_pred = model_tf_idf_LDA.predict(X_test)\n",
        "print(classification_report(lda_pred, y_test))"
      ],
      "metadata": {
        "colab": {
          "base_uri": "https://localhost:8080/"
        },
        "id": "GLpu-mPegQ7E",
        "outputId": "40ab0307-a010-49da-fa17-34a589dfaada"
      },
      "execution_count": null,
      "outputs": [
        {
          "output_type": "stream",
          "name": "stdout",
          "text": [
            "              precision    recall  f1-score   support\n",
            "\n",
            "         1.0       0.96      0.90      0.93      2501\n",
            "         5.0       0.67      0.85      0.75       587\n",
            "\n",
            "    accuracy                           0.89      3088\n",
            "   macro avg       0.81      0.87      0.84      3088\n",
            "weighted avg       0.91      0.89      0.90      3088\n",
            "\n"
          ]
        }
      ]
    },
    {
      "cell_type": "markdown",
      "source": [
        "Вывод: классификация текстов на основе LDA показала куда более высокую точность 0.89 по сравнению с моделью на основе сингулярного разложения TruncatedSVD 0.8"
      ],
      "metadata": {
        "id": "GNFubY7SgdiS"
      }
    },
    {
      "cell_type": "markdown",
      "source": [
        "### Выводы\n",
        "\n",
        "В работе были рассмотрены различные аспекты классификации по тональности отзывов на банки: анализ основных характеристик, тематическое моделирование и классификация на основе классической модели RandomForestClassifier с использованием TruncatedSVD и LDA.\n",
        "\n",
        "Модель классификации на подвыборке на основе LDA показал хорошую точность 0.89, при этом он превышает по скорости классическую модель RandomForestClassifier."
      ],
      "metadata": {
        "id": "gcqaKjnQgnVj"
      }
    }
  ]
}